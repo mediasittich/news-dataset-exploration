{
 "cells": [
  {
   "cell_type": "markdown",
   "metadata": {},
   "source": [
    "# Setup"
   ]
  },
  {
   "cell_type": "code",
   "execution_count": 103,
   "metadata": {},
   "outputs": [],
   "source": [
    "import os\n",
    "import glob\n",
    "import json\n",
    "\n",
    "import pandas as pd\n",
    "\n",
    "import matplotlib.pyplot as plt\n",
    "\n",
    "# Notebook settings\n",
    "import warnings\n",
    "warnings.filterwarnings('ignore')"
   ]
  },
  {
   "cell_type": "markdown",
   "metadata": {},
   "source": [
    "# New York Times Dataset"
   ]
  },
  {
   "cell_type": "code",
   "execution_count": 110,
   "metadata": {},
   "outputs": [
    {
     "data": {
      "text/html": [
       "<div>\n",
       "<style scoped>\n",
       "    .dataframe tbody tr th:only-of-type {\n",
       "        vertical-align: middle;\n",
       "    }\n",
       "\n",
       "    .dataframe tbody tr th {\n",
       "        vertical-align: top;\n",
       "    }\n",
       "\n",
       "    .dataframe thead th {\n",
       "        text-align: right;\n",
       "    }\n",
       "</style>\n",
       "<table border=\"1\" class=\"dataframe\">\n",
       "  <thead>\n",
       "    <tr style=\"text-align: right;\">\n",
       "      <th></th>\n",
       "      <th>headline</th>\n",
       "      <th>date</th>\n",
       "      <th>doc_type</th>\n",
       "      <th>material_type</th>\n",
       "      <th>section</th>\n",
       "      <th>keywords</th>\n",
       "      <th>word_count</th>\n",
       "      <th>abstract</th>\n",
       "      <th>snippet</th>\n",
       "      <th>lead_paragraph</th>\n",
       "    </tr>\n",
       "  </thead>\n",
       "  <tbody>\n",
       "    <tr>\n",
       "      <th>0</th>\n",
       "      <td>When the Doctor’s Notes Hurt Your Feelings</td>\n",
       "      <td>2021-10-01</td>\n",
       "      <td>article</td>\n",
       "      <td>News</td>\n",
       "      <td>Well</td>\n",
       "      <td>['Electronic Health Records', 'Doctors', 'inte...</td>\n",
       "      <td>1203</td>\n",
       "      <td>Are you a “poor historian,” “well nourished” o...</td>\n",
       "      <td>Are you a “poor historian,” “well nourished” o...</td>\n",
       "      <td>Have you ever been insulted by your own medica...</td>\n",
       "    </tr>\n",
       "    <tr>\n",
       "      <th>1</th>\n",
       "      <td>House Delays Vote on Infrastructure Bill as De...</td>\n",
       "      <td>2021-10-01</td>\n",
       "      <td>article</td>\n",
       "      <td>News</td>\n",
       "      <td>U.S.</td>\n",
       "      <td>['Infrastructure (Public Works)', 'American Jo...</td>\n",
       "      <td>1561</td>\n",
       "      <td>A liberal revolt left Democrats short of votes...</td>\n",
       "      <td>A liberal revolt left Democrats short of votes...</td>\n",
       "      <td>WASHINGTON — President Biden’s trillion-dollar...</td>\n",
       "    </tr>\n",
       "    <tr>\n",
       "      <th>2</th>\n",
       "      <td>Tirzah’s Genre-Less Pop Embraces the Beauty of...</td>\n",
       "      <td>2021-10-01</td>\n",
       "      <td>article</td>\n",
       "      <td>Review</td>\n",
       "      <td>Arts</td>\n",
       "      <td>['Music']</td>\n",
       "      <td>546</td>\n",
       "      <td>The British singer-songwriter’s new album, “Co...</td>\n",
       "      <td>The British singer-songwriter’s new album, “Co...</td>\n",
       "      <td>Some pop artists amplify familiar, universal f...</td>\n",
       "    </tr>\n",
       "    <tr>\n",
       "      <th>3</th>\n",
       "      <td>Senate Confirms Biden’s Pick to Lead the Burea...</td>\n",
       "      <td>2021-10-01</td>\n",
       "      <td>article</td>\n",
       "      <td>News</td>\n",
       "      <td>Climate</td>\n",
       "      <td>['Global Warming', 'Greenhouse Gas Emissions',...</td>\n",
       "      <td>641</td>\n",
       "      <td>After a party-line vote, Tracy Stone-Manning b...</td>\n",
       "      <td>After a party-line vote, Tracy Stone-Manning b...</td>\n",
       "      <td>WASHINGTON — The Senate narrowly approved Trac...</td>\n",
       "    </tr>\n",
       "    <tr>\n",
       "      <th>4</th>\n",
       "      <td>UMass Amherst Hires Cybersecurity Firm to Inve...</td>\n",
       "      <td>2021-10-01</td>\n",
       "      <td>article</td>\n",
       "      <td>News</td>\n",
       "      <td>Education</td>\n",
       "      <td>['Colleges and Universities', 'Discrimination'...</td>\n",
       "      <td>688</td>\n",
       "      <td>The university’s vice chancellor told students...</td>\n",
       "      <td>The university’s vice chancellor told students...</td>\n",
       "      <td>The University of Massachusetts Amherst has en...</td>\n",
       "    </tr>\n",
       "  </tbody>\n",
       "</table>\n",
       "</div>"
      ],
      "text/plain": [
       "                                            headline        date doc_type  \\\n",
       "0         When the Doctor’s Notes Hurt Your Feelings  2021-10-01  article   \n",
       "1  House Delays Vote on Infrastructure Bill as De...  2021-10-01  article   \n",
       "2  Tirzah’s Genre-Less Pop Embraces the Beauty of...  2021-10-01  article   \n",
       "3  Senate Confirms Biden’s Pick to Lead the Burea...  2021-10-01  article   \n",
       "4  UMass Amherst Hires Cybersecurity Firm to Inve...  2021-10-01  article   \n",
       "\n",
       "  material_type    section                                           keywords  \\\n",
       "0          News       Well  ['Electronic Health Records', 'Doctors', 'inte...   \n",
       "1          News       U.S.  ['Infrastructure (Public Works)', 'American Jo...   \n",
       "2        Review       Arts                                          ['Music']   \n",
       "3          News    Climate  ['Global Warming', 'Greenhouse Gas Emissions',...   \n",
       "4          News  Education  ['Colleges and Universities', 'Discrimination'...   \n",
       "\n",
       "   word_count                                           abstract  \\\n",
       "0        1203  Are you a “poor historian,” “well nourished” o...   \n",
       "1        1561  A liberal revolt left Democrats short of votes...   \n",
       "2         546  The British singer-songwriter’s new album, “Co...   \n",
       "3         641  After a party-line vote, Tracy Stone-Manning b...   \n",
       "4         688  The university’s vice chancellor told students...   \n",
       "\n",
       "                                             snippet  \\\n",
       "0  Are you a “poor historian,” “well nourished” o...   \n",
       "1  A liberal revolt left Democrats short of votes...   \n",
       "2  The British singer-songwriter’s new album, “Co...   \n",
       "3  After a party-line vote, Tracy Stone-Manning b...   \n",
       "4  The university’s vice chancellor told students...   \n",
       "\n",
       "                                      lead_paragraph  \n",
       "0  Have you ever been insulted by your own medica...  \n",
       "1  WASHINGTON — President Biden’s trillion-dollar...  \n",
       "2  Some pop artists amplify familiar, universal f...  \n",
       "3  WASHINGTON — The Senate narrowly approved Trac...  \n",
       "4  The University of Massachusetts Amherst has en...  "
      ]
     },
     "execution_count": 110,
     "metadata": {},
     "output_type": "execute_result"
    }
   ],
   "source": [
    "# Load one file\n",
    "nyt_2021_10_df = pd.read_csv('../data/raw/nyt_headlines/nyt_2021-10.csv')\n",
    "nyt_2021_10_df.head()"
   ]
  },
  {
   "cell_type": "code",
   "execution_count": 111,
   "metadata": {},
   "outputs": [
    {
     "name": "stdout",
     "output_type": "stream",
     "text": [
      "<class 'pandas.core.frame.DataFrame'>\n",
      "RangeIndex: 4254 entries, 0 to 4253\n",
      "Data columns (total 10 columns):\n",
      " #   Column          Non-Null Count  Dtype \n",
      "---  ------          --------------  ----- \n",
      " 0   headline        4254 non-null   object\n",
      " 1   date            4254 non-null   object\n",
      " 2   doc_type        4254 non-null   object\n",
      " 3   material_type   4250 non-null   object\n",
      " 4   section         4254 non-null   object\n",
      " 5   keywords        4254 non-null   object\n",
      " 6   word_count      4254 non-null   int64 \n",
      " 7   abstract        4253 non-null   object\n",
      " 8   snippet         4208 non-null   object\n",
      " 9   lead_paragraph  4236 non-null   object\n",
      "dtypes: int64(1), object(9)\n",
      "memory usage: 332.5+ KB\n"
     ]
    }
   ],
   "source": [
    "nyt_2021_10_df.info()"
   ]
  },
  {
   "cell_type": "code",
   "execution_count": 68,
   "metadata": {},
   "outputs": [
    {
     "name": "stdout",
     "output_type": "stream",
     "text": [
      "count        4254\n",
      "unique          3\n",
      "top       article\n",
      "freq         3978\n",
      "Name: doc_type, dtype: object\n",
      "['article' 'multimedia' 'audio']\n",
      "article       3978\n",
      "multimedia     272\n",
      "audio            4\n",
      "Name: doc_type, dtype: int64\n"
     ]
    }
   ],
   "source": [
    "print(nyt_2021_10_df['doc_type'].describe())\n",
    "print(nyt_2021_10_df['doc_type'].unique())\n",
    "print(nyt_2021_10_df['doc_type'].value_counts())"
   ]
  },
  {
   "cell_type": "markdown",
   "metadata": {},
   "source": [
    "`doc_type`: There are three types of documents in the data. We're only interested in articles."
   ]
  },
  {
   "cell_type": "code",
   "execution_count": 112,
   "metadata": {},
   "outputs": [],
   "source": [
    "nyt_articles = nyt_2021_10_df[nyt_2021_10_df['doc_type'] == 'article']"
   ]
  },
  {
   "cell_type": "code",
   "execution_count": 113,
   "metadata": {},
   "outputs": [
    {
     "name": "stdout",
     "output_type": "stream",
     "text": [
      "count     3978\n",
      "unique      12\n",
      "top       News\n",
      "freq      3122\n",
      "Name: material_type, dtype: object\n",
      "['News' 'Review' 'briefing' 'Op-Ed' 'List' 'Letter' 'Obituary (Obit)'\n",
      " 'Correction' 'Editorial' 'Quote' 'News Analysis' 'Biography']\n",
      "News               3122\n",
      "Op-Ed               301\n",
      "Review              210\n",
      "briefing            130\n",
      "Obituary (Obit)      94\n",
      "Letter               53\n",
      "Quote                24\n",
      "Correction           20\n",
      "List                 10\n",
      "News Analysis         7\n",
      "Editorial             6\n",
      "Biography             1\n",
      "Name: material_type, dtype: int64\n"
     ]
    }
   ],
   "source": [
    "print(nyt_articles['material_type'].describe())\n",
    "print(nyt_articles['material_type'].unique())\n",
    "print(nyt_articles['material_type'].value_counts())"
   ]
  },
  {
   "cell_type": "markdown",
   "metadata": {},
   "source": [
    "Most articles belong to `matrial_type` *News*, the other categories can probably be discarded for our purposes."
   ]
  },
  {
   "cell_type": "code",
   "execution_count": 130,
   "metadata": {},
   "outputs": [],
   "source": [
    "nyt_news_articles = nyt_articles[nyt_articles['material_type'] == 'News']"
   ]
  },
  {
   "cell_type": "code",
   "execution_count": 132,
   "metadata": {},
   "outputs": [
    {
     "name": "stdout",
     "output_type": "stream",
     "text": [
      "count     3122\n",
      "unique      39\n",
      "top       U.S.\n",
      "freq       506\n",
      "Name: section, dtype: object\n",
      "['Well' 'U.S.' 'Climate' 'Education' 'Business Day' 'Science' 'Technology'\n",
      " 'World' 'Crosswords & Games' 'Style' 'The Learning Network' 'Arts'\n",
      " 'Today’s Paper' 'Corrections' 'Reader Center' 'New York' 'The Upshot'\n",
      " 'Fashion & Style' 'Real Estate' 'Sports' 'Podcasts' 'Theater'\n",
      " 'Your Money' 'T Magazine' 'Movies' 'Food' 'Books' 'At Home' 'Health'\n",
      " 'Times Insider' 'Travel' 'Briefing' 'Magazine' 'Parenting'\n",
      " 'Neediest Cases' 'Opinion' 'Automobiles' 'Special Series' 'Home & Garden']\n",
      "U.S.                    506\n",
      "World                   444\n",
      "Business Day            315\n",
      "Sports                  274\n",
      "Arts                    254\n",
      "Style                   153\n",
      "New York                152\n",
      "The Learning Network    108\n",
      "Technology               92\n",
      "Books                    92\n",
      "Food                     74\n",
      "Crosswords & Games       72\n",
      "Science                  65\n",
      "Real Estate              64\n",
      "Health                   63\n",
      "Movies                   50\n",
      "Magazine                 43\n",
      "Climate                  42\n",
      "T Magazine               38\n",
      "Podcasts                 36\n",
      "Well                     33\n",
      "Theater                  30\n",
      "Travel                   23\n",
      "Times Insider            15\n",
      "The Upshot               13\n",
      "Fashion & Style          12\n",
      "Your Money               11\n",
      "Corrections              10\n",
      "At Home                   9\n",
      "Today’s Paper             7\n",
      "Parenting                 5\n",
      "Neediest Cases            4\n",
      "Education                 3\n",
      "Opinion                   3\n",
      "Reader Center             2\n",
      "Home & Garden             2\n",
      "Briefing                  1\n",
      "Automobiles               1\n",
      "Special Series            1\n",
      "Name: section, dtype: int64\n"
     ]
    }
   ],
   "source": [
    "print(nyt_news_articles['section'].describe())\n",
    "print(nyt_news_articles['section'].unique())\n",
    "print(nyt_news_articles['section'].value_counts())"
   ]
  },
  {
   "cell_type": "code",
   "execution_count": 133,
   "metadata": {},
   "outputs": [],
   "source": [
    "nyt_news_articles = nyt_news_articles.drop(['doc_type', 'material_type'], axis=1)"
   ]
  },
  {
   "cell_type": "code",
   "execution_count": 134,
   "metadata": {},
   "outputs": [
    {
     "data": {
      "text/html": [
       "<div>\n",
       "<style scoped>\n",
       "    .dataframe tbody tr th:only-of-type {\n",
       "        vertical-align: middle;\n",
       "    }\n",
       "\n",
       "    .dataframe tbody tr th {\n",
       "        vertical-align: top;\n",
       "    }\n",
       "\n",
       "    .dataframe thead th {\n",
       "        text-align: right;\n",
       "    }\n",
       "</style>\n",
       "<table border=\"1\" class=\"dataframe\">\n",
       "  <thead>\n",
       "    <tr style=\"text-align: right;\">\n",
       "      <th></th>\n",
       "      <th>headline</th>\n",
       "      <th>date</th>\n",
       "      <th>section</th>\n",
       "      <th>keywords</th>\n",
       "      <th>word_count</th>\n",
       "      <th>abstract</th>\n",
       "      <th>snippet</th>\n",
       "      <th>lead_paragraph</th>\n",
       "    </tr>\n",
       "  </thead>\n",
       "  <tbody>\n",
       "    <tr>\n",
       "      <th>0</th>\n",
       "      <td>When the Doctor’s Notes Hurt Your Feelings</td>\n",
       "      <td>2021-10-01</td>\n",
       "      <td>Well</td>\n",
       "      <td>['Electronic Health Records', 'Doctors', 'inte...</td>\n",
       "      <td>1203</td>\n",
       "      <td>Are you a “poor historian,” “well nourished” o...</td>\n",
       "      <td>Are you a “poor historian,” “well nourished” o...</td>\n",
       "      <td>Have you ever been insulted by your own medica...</td>\n",
       "    </tr>\n",
       "    <tr>\n",
       "      <th>1</th>\n",
       "      <td>House Delays Vote on Infrastructure Bill as De...</td>\n",
       "      <td>2021-10-01</td>\n",
       "      <td>U.S.</td>\n",
       "      <td>['Infrastructure (Public Works)', 'American Jo...</td>\n",
       "      <td>1561</td>\n",
       "      <td>A liberal revolt left Democrats short of votes...</td>\n",
       "      <td>A liberal revolt left Democrats short of votes...</td>\n",
       "      <td>WASHINGTON — President Biden’s trillion-dollar...</td>\n",
       "    </tr>\n",
       "    <tr>\n",
       "      <th>3</th>\n",
       "      <td>Senate Confirms Biden’s Pick to Lead the Burea...</td>\n",
       "      <td>2021-10-01</td>\n",
       "      <td>Climate</td>\n",
       "      <td>['Global Warming', 'Greenhouse Gas Emissions',...</td>\n",
       "      <td>641</td>\n",
       "      <td>After a party-line vote, Tracy Stone-Manning b...</td>\n",
       "      <td>After a party-line vote, Tracy Stone-Manning b...</td>\n",
       "      <td>WASHINGTON — The Senate narrowly approved Trac...</td>\n",
       "    </tr>\n",
       "    <tr>\n",
       "      <th>4</th>\n",
       "      <td>UMass Amherst Hires Cybersecurity Firm to Inve...</td>\n",
       "      <td>2021-10-01</td>\n",
       "      <td>Education</td>\n",
       "      <td>['Colleges and Universities', 'Discrimination'...</td>\n",
       "      <td>688</td>\n",
       "      <td>The university’s vice chancellor told students...</td>\n",
       "      <td>The university’s vice chancellor told students...</td>\n",
       "      <td>The University of Massachusetts Amherst has en...</td>\n",
       "    </tr>\n",
       "    <tr>\n",
       "      <th>5</th>\n",
       "      <td>‘Everything Going the Wrong Way’: Dollar Store...</td>\n",
       "      <td>2021-10-01</td>\n",
       "      <td>Business Day</td>\n",
       "      <td>['Shopping and Retail', 'Wages and Salaries', ...</td>\n",
       "      <td>1596</td>\n",
       "      <td>Their business model is being tested by worker...</td>\n",
       "      <td>Their business model is being tested by worker...</td>\n",
       "      <td>Sandra Beadling was fed up with the 70-hour wo...</td>\n",
       "    </tr>\n",
       "  </tbody>\n",
       "</table>\n",
       "</div>"
      ],
      "text/plain": [
       "                                            headline        date  \\\n",
       "0         When the Doctor’s Notes Hurt Your Feelings  2021-10-01   \n",
       "1  House Delays Vote on Infrastructure Bill as De...  2021-10-01   \n",
       "3  Senate Confirms Biden’s Pick to Lead the Burea...  2021-10-01   \n",
       "4  UMass Amherst Hires Cybersecurity Firm to Inve...  2021-10-01   \n",
       "5  ‘Everything Going the Wrong Way’: Dollar Store...  2021-10-01   \n",
       "\n",
       "        section                                           keywords  \\\n",
       "0          Well  ['Electronic Health Records', 'Doctors', 'inte...   \n",
       "1          U.S.  ['Infrastructure (Public Works)', 'American Jo...   \n",
       "3       Climate  ['Global Warming', 'Greenhouse Gas Emissions',...   \n",
       "4     Education  ['Colleges and Universities', 'Discrimination'...   \n",
       "5  Business Day  ['Shopping and Retail', 'Wages and Salaries', ...   \n",
       "\n",
       "   word_count                                           abstract  \\\n",
       "0        1203  Are you a “poor historian,” “well nourished” o...   \n",
       "1        1561  A liberal revolt left Democrats short of votes...   \n",
       "3         641  After a party-line vote, Tracy Stone-Manning b...   \n",
       "4         688  The university’s vice chancellor told students...   \n",
       "5        1596  Their business model is being tested by worker...   \n",
       "\n",
       "                                             snippet  \\\n",
       "0  Are you a “poor historian,” “well nourished” o...   \n",
       "1  A liberal revolt left Democrats short of votes...   \n",
       "3  After a party-line vote, Tracy Stone-Manning b...   \n",
       "4  The university’s vice chancellor told students...   \n",
       "5  Their business model is being tested by worker...   \n",
       "\n",
       "                                      lead_paragraph  \n",
       "0  Have you ever been insulted by your own medica...  \n",
       "1  WASHINGTON — President Biden’s trillion-dollar...  \n",
       "3  WASHINGTON — The Senate narrowly approved Trac...  \n",
       "4  The University of Massachusetts Amherst has en...  \n",
       "5  Sandra Beadling was fed up with the 70-hour wo...  "
      ]
     },
     "execution_count": 134,
     "metadata": {},
     "output_type": "execute_result"
    }
   ],
   "source": [
    "nyt_news_articles.head()"
   ]
  },
  {
   "cell_type": "markdown",
   "metadata": {},
   "source": [
    "Text columns:\n",
    "\n",
    "- `headline`: title of th article   \n",
    "- `abstract`: summary of the article  \n",
    "- `snippet`: excerpt of the article, looks to be the same as abstract  \n",
    "- `lead_paragraph`: first paragraph of the article"
   ]
  },
  {
   "cell_type": "code",
   "execution_count": 135,
   "metadata": {},
   "outputs": [],
   "source": [
    "# Difference between abstract and snippet\n",
    "nyt_news_articles['abstract_eq_snippet'] = nyt_news_articles.apply(lambda x: x['abstract'] == x['snippet'], axis=1)"
   ]
  },
  {
   "cell_type": "code",
   "execution_count": 136,
   "metadata": {},
   "outputs": [
    {
     "data": {
      "text/plain": [
       "count     3122\n",
       "unique       2\n",
       "top       True\n",
       "freq      3075\n",
       "Name: abstract_eq_snippet, dtype: object"
      ]
     },
     "execution_count": 136,
     "metadata": {},
     "output_type": "execute_result"
    }
   ],
   "source": [
    "nyt_news_articles['abstract_eq_snippet'].describe()"
   ]
  },
  {
   "cell_type": "code",
   "execution_count": 137,
   "metadata": {},
   "outputs": [
    {
     "name": "stdout",
     "output_type": "stream",
     "text": [
      "<class 'pandas.core.frame.DataFrame'>\n",
      "Int64Index: 47 entries, 70 to 4184\n",
      "Data columns (total 9 columns):\n",
      " #   Column               Non-Null Count  Dtype \n",
      "---  ------               --------------  ----- \n",
      " 0   headline             47 non-null     object\n",
      " 1   date                 47 non-null     object\n",
      " 2   section              47 non-null     object\n",
      " 3   keywords             47 non-null     object\n",
      " 4   word_count           47 non-null     int64 \n",
      " 5   abstract             47 non-null     object\n",
      " 6   snippet              2 non-null      object\n",
      " 7   lead_paragraph       47 non-null     object\n",
      " 8   abstract_eq_snippet  47 non-null     bool  \n",
      "dtypes: bool(1), int64(1), object(7)\n",
      "memory usage: 3.4+ KB\n"
     ]
    }
   ],
   "source": [
    "nyt_news_articles[nyt_news_articles['abstract_eq_snippet'] == False].info()"
   ]
  },
  {
   "cell_type": "markdown",
   "metadata": {},
   "source": [
    "There are 47 cases where abstract and snippet are different."
   ]
  },
  {
   "cell_type": "code",
   "execution_count": 138,
   "metadata": {},
   "outputs": [
    {
     "data": {
      "text/html": [
       "<div>\n",
       "<style scoped>\n",
       "    .dataframe tbody tr th:only-of-type {\n",
       "        vertical-align: middle;\n",
       "    }\n",
       "\n",
       "    .dataframe tbody tr th {\n",
       "        vertical-align: top;\n",
       "    }\n",
       "\n",
       "    .dataframe thead th {\n",
       "        text-align: right;\n",
       "    }\n",
       "</style>\n",
       "<table border=\"1\" class=\"dataframe\">\n",
       "  <thead>\n",
       "    <tr style=\"text-align: right;\">\n",
       "      <th></th>\n",
       "      <th>headline</th>\n",
       "      <th>date</th>\n",
       "      <th>section</th>\n",
       "      <th>keywords</th>\n",
       "      <th>word_count</th>\n",
       "      <th>abstract</th>\n",
       "      <th>snippet</th>\n",
       "      <th>lead_paragraph</th>\n",
       "      <th>abstract_eq_snippet</th>\n",
       "    </tr>\n",
       "  </thead>\n",
       "  <tbody>\n",
       "    <tr>\n",
       "      <th>0</th>\n",
       "      <td>When the Doctor’s Notes Hurt Your Feelings</td>\n",
       "      <td>2021-10-01</td>\n",
       "      <td>Well</td>\n",
       "      <td>['Electronic Health Records', 'Doctors', 'inte...</td>\n",
       "      <td>1203</td>\n",
       "      <td>Are you a “poor historian,” “well nourished” o...</td>\n",
       "      <td>Are you a “poor historian,” “well nourished” o...</td>\n",
       "      <td>Have you ever been insulted by your own medica...</td>\n",
       "      <td>True</td>\n",
       "    </tr>\n",
       "    <tr>\n",
       "      <th>1</th>\n",
       "      <td>House Delays Vote on Infrastructure Bill as De...</td>\n",
       "      <td>2021-10-01</td>\n",
       "      <td>U.S.</td>\n",
       "      <td>['Infrastructure (Public Works)', 'American Jo...</td>\n",
       "      <td>1561</td>\n",
       "      <td>A liberal revolt left Democrats short of votes...</td>\n",
       "      <td>A liberal revolt left Democrats short of votes...</td>\n",
       "      <td>WASHINGTON — President Biden’s trillion-dollar...</td>\n",
       "      <td>True</td>\n",
       "    </tr>\n",
       "    <tr>\n",
       "      <th>3</th>\n",
       "      <td>Senate Confirms Biden’s Pick to Lead the Burea...</td>\n",
       "      <td>2021-10-01</td>\n",
       "      <td>Climate</td>\n",
       "      <td>['Global Warming', 'Greenhouse Gas Emissions',...</td>\n",
       "      <td>641</td>\n",
       "      <td>After a party-line vote, Tracy Stone-Manning b...</td>\n",
       "      <td>After a party-line vote, Tracy Stone-Manning b...</td>\n",
       "      <td>WASHINGTON — The Senate narrowly approved Trac...</td>\n",
       "      <td>True</td>\n",
       "    </tr>\n",
       "    <tr>\n",
       "      <th>4</th>\n",
       "      <td>UMass Amherst Hires Cybersecurity Firm to Inve...</td>\n",
       "      <td>2021-10-01</td>\n",
       "      <td>Education</td>\n",
       "      <td>['Colleges and Universities', 'Discrimination'...</td>\n",
       "      <td>688</td>\n",
       "      <td>The university’s vice chancellor told students...</td>\n",
       "      <td>The university’s vice chancellor told students...</td>\n",
       "      <td>The University of Massachusetts Amherst has en...</td>\n",
       "      <td>True</td>\n",
       "    </tr>\n",
       "    <tr>\n",
       "      <th>5</th>\n",
       "      <td>‘Everything Going the Wrong Way’: Dollar Store...</td>\n",
       "      <td>2021-10-01</td>\n",
       "      <td>Business Day</td>\n",
       "      <td>['Shopping and Retail', 'Wages and Salaries', ...</td>\n",
       "      <td>1596</td>\n",
       "      <td>Their business model is being tested by worker...</td>\n",
       "      <td>Their business model is being tested by worker...</td>\n",
       "      <td>Sandra Beadling was fed up with the 70-hour wo...</td>\n",
       "      <td>True</td>\n",
       "    </tr>\n",
       "  </tbody>\n",
       "</table>\n",
       "</div>"
      ],
      "text/plain": [
       "                                            headline        date  \\\n",
       "0         When the Doctor’s Notes Hurt Your Feelings  2021-10-01   \n",
       "1  House Delays Vote on Infrastructure Bill as De...  2021-10-01   \n",
       "3  Senate Confirms Biden’s Pick to Lead the Burea...  2021-10-01   \n",
       "4  UMass Amherst Hires Cybersecurity Firm to Inve...  2021-10-01   \n",
       "5  ‘Everything Going the Wrong Way’: Dollar Store...  2021-10-01   \n",
       "\n",
       "        section                                           keywords  \\\n",
       "0          Well  ['Electronic Health Records', 'Doctors', 'inte...   \n",
       "1          U.S.  ['Infrastructure (Public Works)', 'American Jo...   \n",
       "3       Climate  ['Global Warming', 'Greenhouse Gas Emissions',...   \n",
       "4     Education  ['Colleges and Universities', 'Discrimination'...   \n",
       "5  Business Day  ['Shopping and Retail', 'Wages and Salaries', ...   \n",
       "\n",
       "   word_count                                           abstract  \\\n",
       "0        1203  Are you a “poor historian,” “well nourished” o...   \n",
       "1        1561  A liberal revolt left Democrats short of votes...   \n",
       "3         641  After a party-line vote, Tracy Stone-Manning b...   \n",
       "4         688  The university’s vice chancellor told students...   \n",
       "5        1596  Their business model is being tested by worker...   \n",
       "\n",
       "                                             snippet  \\\n",
       "0  Are you a “poor historian,” “well nourished” o...   \n",
       "1  A liberal revolt left Democrats short of votes...   \n",
       "3  After a party-line vote, Tracy Stone-Manning b...   \n",
       "4  The university’s vice chancellor told students...   \n",
       "5  Their business model is being tested by worker...   \n",
       "\n",
       "                                      lead_paragraph  abstract_eq_snippet  \n",
       "0  Have you ever been insulted by your own medica...                 True  \n",
       "1  WASHINGTON — President Biden’s trillion-dollar...                 True  \n",
       "3  WASHINGTON — The Senate narrowly approved Trac...                 True  \n",
       "4  The University of Massachusetts Amherst has en...                 True  \n",
       "5  Sandra Beadling was fed up with the 70-hour wo...                 True  "
      ]
     },
     "execution_count": 138,
     "metadata": {},
     "output_type": "execute_result"
    }
   ],
   "source": [
    "nyt_news_articles.head()"
   ]
  },
  {
   "cell_type": "code",
   "execution_count": 139,
   "metadata": {},
   "outputs": [
    {
     "data": {
      "text/html": [
       "<div>\n",
       "<style scoped>\n",
       "    .dataframe tbody tr th:only-of-type {\n",
       "        vertical-align: middle;\n",
       "    }\n",
       "\n",
       "    .dataframe tbody tr th {\n",
       "        vertical-align: top;\n",
       "    }\n",
       "\n",
       "    .dataframe thead th {\n",
       "        text-align: right;\n",
       "    }\n",
       "</style>\n",
       "<table border=\"1\" class=\"dataframe\">\n",
       "  <thead>\n",
       "    <tr style=\"text-align: right;\">\n",
       "      <th></th>\n",
       "      <th>headline</th>\n",
       "      <th>date</th>\n",
       "      <th>section</th>\n",
       "      <th>keywords</th>\n",
       "      <th>word_count</th>\n",
       "      <th>abstract</th>\n",
       "      <th>snippet</th>\n",
       "      <th>lead_paragraph</th>\n",
       "      <th>abstract_eq_snippet</th>\n",
       "    </tr>\n",
       "  </thead>\n",
       "  <tbody>\n",
       "    <tr>\n",
       "      <th>70</th>\n",
       "      <td>Covid cases hit records in South Korea and Sin...</td>\n",
       "      <td>2021-10-01</td>\n",
       "      <td>World</td>\n",
       "      <td>[]</td>\n",
       "      <td>440</td>\n",
       "      <td>As countries in Asia accelerate their vaccinat...</td>\n",
       "      <td>NaN</td>\n",
       "      <td>As countries in Asia accelerate their vaccinat...</td>\n",
       "      <td>False</td>\n",
       "    </tr>\n",
       "    <tr>\n",
       "      <th>385</th>\n",
       "      <td>Vaccination rates rise among teachers and othe...</td>\n",
       "      <td>2021-10-04</td>\n",
       "      <td>New York</td>\n",
       "      <td>[]</td>\n",
       "      <td>406</td>\n",
       "      <td>New York’s requirement that virtually everyone...</td>\n",
       "      <td>NaN</td>\n",
       "      <td>New York’s requirement that virtually everyone...</td>\n",
       "      <td>False</td>\n",
       "    </tr>\n",
       "    <tr>\n",
       "      <th>389</th>\n",
       "      <td>New Zealand abandons its goal of eliminating t...</td>\n",
       "      <td>2021-10-04</td>\n",
       "      <td>World</td>\n",
       "      <td>[]</td>\n",
       "      <td>607</td>\n",
       "      <td>Prime Minister Jacinda Ardern of New Zealand a...</td>\n",
       "      <td>NaN</td>\n",
       "      <td>Prime Minister Jacinda Ardern of New Zealand a...</td>\n",
       "      <td>False</td>\n",
       "    </tr>\n",
       "    <tr>\n",
       "      <th>394</th>\n",
       "      <td>Supply-chain snarls reach the book publishing ...</td>\n",
       "      <td>2021-10-04</td>\n",
       "      <td>World</td>\n",
       "      <td>[]</td>\n",
       "      <td>269</td>\n",
       "      <td>The churning disruption in the global supply c...</td>\n",
       "      <td>NaN</td>\n",
       "      <td>The churning disruption in the global supply c...</td>\n",
       "      <td>False</td>\n",
       "    </tr>\n",
       "    <tr>\n",
       "      <th>550</th>\n",
       "      <td>Fears of a ‘bottleneck recession’: How shortag...</td>\n",
       "      <td>2021-10-05</td>\n",
       "      <td>World</td>\n",
       "      <td>[]</td>\n",
       "      <td>195</td>\n",
       "      <td>In Germany, where one in four jobs depends on ...</td>\n",
       "      <td>NaN</td>\n",
       "      <td>In Germany, where one in four jobs depends on ...</td>\n",
       "      <td>False</td>\n",
       "    </tr>\n",
       "  </tbody>\n",
       "</table>\n",
       "</div>"
      ],
      "text/plain": [
       "                                              headline        date   section  \\\n",
       "70   Covid cases hit records in South Korea and Sin...  2021-10-01     World   \n",
       "385  Vaccination rates rise among teachers and othe...  2021-10-04  New York   \n",
       "389  New Zealand abandons its goal of eliminating t...  2021-10-04     World   \n",
       "394  Supply-chain snarls reach the book publishing ...  2021-10-04     World   \n",
       "550  Fears of a ‘bottleneck recession’: How shortag...  2021-10-05     World   \n",
       "\n",
       "    keywords  word_count                                           abstract  \\\n",
       "70        []         440  As countries in Asia accelerate their vaccinat...   \n",
       "385       []         406  New York’s requirement that virtually everyone...   \n",
       "389       []         607  Prime Minister Jacinda Ardern of New Zealand a...   \n",
       "394       []         269  The churning disruption in the global supply c...   \n",
       "550       []         195  In Germany, where one in four jobs depends on ...   \n",
       "\n",
       "    snippet                                     lead_paragraph  \\\n",
       "70      NaN  As countries in Asia accelerate their vaccinat...   \n",
       "385     NaN  New York’s requirement that virtually everyone...   \n",
       "389     NaN  Prime Minister Jacinda Ardern of New Zealand a...   \n",
       "394     NaN  The churning disruption in the global supply c...   \n",
       "550     NaN  In Germany, where one in four jobs depends on ...   \n",
       "\n",
       "     abstract_eq_snippet  \n",
       "70                 False  \n",
       "385                False  \n",
       "389                False  \n",
       "394                False  \n",
       "550                False  "
      ]
     },
     "execution_count": 139,
     "metadata": {},
     "output_type": "execute_result"
    }
   ],
   "source": [
    "nyt_news_articles[nyt_news_articles['abstract_eq_snippet'] == False].head()"
   ]
  },
  {
   "cell_type": "markdown",
   "metadata": {},
   "source": [
    "When abstract and snippet are different, in most cases it is due to missing values in snippet column."
   ]
  },
  {
   "cell_type": "code",
   "execution_count": 140,
   "metadata": {},
   "outputs": [],
   "source": [
    "# Drop snippet and abstract_eq_snippet columns\n",
    "nyt_news_articles.drop(['snippet', 'abstract_eq_snippet'], axis=1, inplace=True)"
   ]
  },
  {
   "cell_type": "code",
   "execution_count": 141,
   "metadata": {},
   "outputs": [
    {
     "data": {
      "text/html": [
       "<div>\n",
       "<style scoped>\n",
       "    .dataframe tbody tr th:only-of-type {\n",
       "        vertical-align: middle;\n",
       "    }\n",
       "\n",
       "    .dataframe tbody tr th {\n",
       "        vertical-align: top;\n",
       "    }\n",
       "\n",
       "    .dataframe thead th {\n",
       "        text-align: right;\n",
       "    }\n",
       "</style>\n",
       "<table border=\"1\" class=\"dataframe\">\n",
       "  <thead>\n",
       "    <tr style=\"text-align: right;\">\n",
       "      <th></th>\n",
       "      <th>headline</th>\n",
       "      <th>date</th>\n",
       "      <th>section</th>\n",
       "      <th>keywords</th>\n",
       "      <th>word_count</th>\n",
       "      <th>abstract</th>\n",
       "      <th>lead_paragraph</th>\n",
       "    </tr>\n",
       "  </thead>\n",
       "  <tbody>\n",
       "    <tr>\n",
       "      <th>0</th>\n",
       "      <td>When the Doctor’s Notes Hurt Your Feelings</td>\n",
       "      <td>2021-10-01</td>\n",
       "      <td>Well</td>\n",
       "      <td>['Electronic Health Records', 'Doctors', 'inte...</td>\n",
       "      <td>1203</td>\n",
       "      <td>Are you a “poor historian,” “well nourished” o...</td>\n",
       "      <td>Have you ever been insulted by your own medica...</td>\n",
       "    </tr>\n",
       "    <tr>\n",
       "      <th>1</th>\n",
       "      <td>House Delays Vote on Infrastructure Bill as De...</td>\n",
       "      <td>2021-10-01</td>\n",
       "      <td>U.S.</td>\n",
       "      <td>['Infrastructure (Public Works)', 'American Jo...</td>\n",
       "      <td>1561</td>\n",
       "      <td>A liberal revolt left Democrats short of votes...</td>\n",
       "      <td>WASHINGTON — President Biden’s trillion-dollar...</td>\n",
       "    </tr>\n",
       "    <tr>\n",
       "      <th>3</th>\n",
       "      <td>Senate Confirms Biden’s Pick to Lead the Burea...</td>\n",
       "      <td>2021-10-01</td>\n",
       "      <td>Climate</td>\n",
       "      <td>['Global Warming', 'Greenhouse Gas Emissions',...</td>\n",
       "      <td>641</td>\n",
       "      <td>After a party-line vote, Tracy Stone-Manning b...</td>\n",
       "      <td>WASHINGTON — The Senate narrowly approved Trac...</td>\n",
       "    </tr>\n",
       "    <tr>\n",
       "      <th>4</th>\n",
       "      <td>UMass Amherst Hires Cybersecurity Firm to Inve...</td>\n",
       "      <td>2021-10-01</td>\n",
       "      <td>Education</td>\n",
       "      <td>['Colleges and Universities', 'Discrimination'...</td>\n",
       "      <td>688</td>\n",
       "      <td>The university’s vice chancellor told students...</td>\n",
       "      <td>The University of Massachusetts Amherst has en...</td>\n",
       "    </tr>\n",
       "    <tr>\n",
       "      <th>5</th>\n",
       "      <td>‘Everything Going the Wrong Way’: Dollar Store...</td>\n",
       "      <td>2021-10-01</td>\n",
       "      <td>Business Day</td>\n",
       "      <td>['Shopping and Retail', 'Wages and Salaries', ...</td>\n",
       "      <td>1596</td>\n",
       "      <td>Their business model is being tested by worker...</td>\n",
       "      <td>Sandra Beadling was fed up with the 70-hour wo...</td>\n",
       "    </tr>\n",
       "  </tbody>\n",
       "</table>\n",
       "</div>"
      ],
      "text/plain": [
       "                                            headline        date  \\\n",
       "0         When the Doctor’s Notes Hurt Your Feelings  2021-10-01   \n",
       "1  House Delays Vote on Infrastructure Bill as De...  2021-10-01   \n",
       "3  Senate Confirms Biden’s Pick to Lead the Burea...  2021-10-01   \n",
       "4  UMass Amherst Hires Cybersecurity Firm to Inve...  2021-10-01   \n",
       "5  ‘Everything Going the Wrong Way’: Dollar Store...  2021-10-01   \n",
       "\n",
       "        section                                           keywords  \\\n",
       "0          Well  ['Electronic Health Records', 'Doctors', 'inte...   \n",
       "1          U.S.  ['Infrastructure (Public Works)', 'American Jo...   \n",
       "3       Climate  ['Global Warming', 'Greenhouse Gas Emissions',...   \n",
       "4     Education  ['Colleges and Universities', 'Discrimination'...   \n",
       "5  Business Day  ['Shopping and Retail', 'Wages and Salaries', ...   \n",
       "\n",
       "   word_count                                           abstract  \\\n",
       "0        1203  Are you a “poor historian,” “well nourished” o...   \n",
       "1        1561  A liberal revolt left Democrats short of votes...   \n",
       "3         641  After a party-line vote, Tracy Stone-Manning b...   \n",
       "4         688  The university’s vice chancellor told students...   \n",
       "5        1596  Their business model is being tested by worker...   \n",
       "\n",
       "                                      lead_paragraph  \n",
       "0  Have you ever been insulted by your own medica...  \n",
       "1  WASHINGTON — President Biden’s trillion-dollar...  \n",
       "3  WASHINGTON — The Senate narrowly approved Trac...  \n",
       "4  The University of Massachusetts Amherst has en...  \n",
       "5  Sandra Beadling was fed up with the 70-hour wo...  "
      ]
     },
     "execution_count": 141,
     "metadata": {},
     "output_type": "execute_result"
    }
   ],
   "source": [
    "nyt_news_articles.head()"
   ]
  },
  {
   "cell_type": "code",
   "execution_count": 148,
   "metadata": {},
   "outputs": [
    {
     "name": "stdout",
     "output_type": "stream",
     "text": [
      "When the Doctor’s Notes Hurt Your Feelings\n",
      "Are you a “poor historian,” “well nourished” or in need of a “time out”? As patients gain access to their own medical records, the notes left by doctors can sting.\n",
      "Have you ever been insulted by your own medical records?\n",
      "\n",
      "\n",
      "House Delays Vote on Infrastructure Bill as Democrats Feud\n",
      "A liberal revolt left Democrats short of votes, but leaders insisted they would bring up the measure again on Friday, giving them more time to reach a deal on a separate climate and safety net bill.\n",
      "WASHINGTON — President Biden’s trillion-dollar bipartisan infrastructure plan suffered a significant setback late Thursday night when House Democratic leaders, short of support amid a liberal revolt, put off a planned vote on a crucial plank of their domestic agenda.\n",
      "\n",
      "\n",
      "Senate Confirms Biden’s Pick to Lead the Bureau of Land Management\n",
      "After a party-line vote, Tracy Stone-Manning became the leader of an agency that manages oil and gas drilling on public lands.\n",
      "WASHINGTON — The Senate narrowly approved Tracy Stone-Manning on Thursday to lead the Bureau of Land Management, capping months of efforts by Republican lawmakers to block her confirmation because of her connection to a decades-old tree spiking incident.\n",
      "\n",
      "\n"
     ]
    }
   ],
   "source": [
    "for i in range(3):\n",
    "    print(nyt_news_articles.iloc[i]['headline'])\n",
    "    print(nyt_news_articles.iloc[i]['abstract'])\n",
    "    print(nyt_news_articles.iloc[i]['lead_paragraph'])\n",
    "    print('\\n')"
   ]
  },
  {
   "cell_type": "markdown",
   "metadata": {},
   "source": [
    "The lead_paragraph is really only an intro to the full text, the abstract seems to be the better summary."
   ]
  },
  {
   "cell_type": "code",
   "execution_count": 149,
   "metadata": {},
   "outputs": [],
   "source": [
    "nyt_news_articles = nyt_news_articles.drop(['lead_paragraph'], axis=1)"
   ]
  },
  {
   "cell_type": "code",
   "execution_count": 150,
   "metadata": {},
   "outputs": [
    {
     "data": {
      "text/plain": [
       "count     3122.000000\n",
       "mean       986.676169\n",
       "std        658.024050\n",
       "min          0.000000\n",
       "25%        563.250000\n",
       "50%        940.000000\n",
       "75%       1284.000000\n",
       "max      10220.000000\n",
       "Name: word_count, dtype: float64"
      ]
     },
     "execution_count": 150,
     "metadata": {},
     "output_type": "execute_result"
    }
   ],
   "source": [
    "nyt_news_articles['word_count'].describe()"
   ]
  },
  {
   "cell_type": "code",
   "execution_count": 151,
   "metadata": {},
   "outputs": [
    {
     "data": {
      "text/html": [
       "<div>\n",
       "<style scoped>\n",
       "    .dataframe tbody tr th:only-of-type {\n",
       "        vertical-align: middle;\n",
       "    }\n",
       "\n",
       "    .dataframe tbody tr th {\n",
       "        vertical-align: top;\n",
       "    }\n",
       "\n",
       "    .dataframe thead th {\n",
       "        text-align: right;\n",
       "    }\n",
       "</style>\n",
       "<table border=\"1\" class=\"dataframe\">\n",
       "  <thead>\n",
       "    <tr style=\"text-align: right;\">\n",
       "      <th></th>\n",
       "      <th>headline</th>\n",
       "      <th>date</th>\n",
       "      <th>section</th>\n",
       "      <th>keywords</th>\n",
       "      <th>word_count</th>\n",
       "      <th>abstract</th>\n",
       "    </tr>\n",
       "  </thead>\n",
       "  <tbody>\n",
       "    <tr>\n",
       "      <th>1547</th>\n",
       "      <td>The Return of the Monogrammed Carryall</td>\n",
       "      <td>2021-10-12</td>\n",
       "      <td>T Magazine</td>\n",
       "      <td>['Leather and Leather Goods', 'Fashion and App...</td>\n",
       "      <td>0</td>\n",
       "      <td>This season, the most sought-after briefcases,...</td>\n",
       "    </tr>\n",
       "  </tbody>\n",
       "</table>\n",
       "</div>"
      ],
      "text/plain": [
       "                                    headline        date     section  \\\n",
       "1547  The Return of the Monogrammed Carryall  2021-10-12  T Magazine   \n",
       "\n",
       "                                               keywords  word_count  \\\n",
       "1547  ['Leather and Leather Goods', 'Fashion and App...           0   \n",
       "\n",
       "                                               abstract  \n",
       "1547  This season, the most sought-after briefcases,...  "
      ]
     },
     "execution_count": 151,
     "metadata": {},
     "output_type": "execute_result"
    }
   ],
   "source": [
    "nyt_news_articles[nyt_news_articles['word_count'] == 0]"
   ]
  },
  {
   "cell_type": "code",
   "execution_count": 144,
   "metadata": {},
   "outputs": [
    {
     "data": {
      "image/png": "[encoded data removed]",
      "text/plain": [
       "<Figure size 640x480 with 1 Axes>"
      ]
     },
     "metadata": {},
     "output_type": "display_data"
    }
   ],
   "source": [
    "plt.hist(nyt_news_articles['word_count'], bins=100)\n",
    "plt.xlabel('Word count')\n",
    "plt.ylabel('Frequency')\n",
    "plt.title('Histogram of Word Counts in NYT Articles')\n",
    "plt.show()"
   ]
  },
  {
   "cell_type": "code",
   "execution_count": 158,
   "metadata": {},
   "outputs": [],
   "source": [
    "nyt_news_articles.reset_index(drop=True, inplace=True)"
   ]
  },
  {
   "cell_type": "code",
   "execution_count": 159,
   "metadata": {},
   "outputs": [
    {
     "name": "stdout",
     "output_type": "stream",
     "text": [
      "<class 'pandas.core.frame.DataFrame'>\n",
      "RangeIndex: 3122 entries, 0 to 3121\n",
      "Data columns (total 8 columns):\n",
      " #   Column      Non-Null Count  Dtype \n",
      "---  ------      --------------  ----- \n",
      " 0   level_0     3122 non-null   int64 \n",
      " 1   index       3122 non-null   int64 \n",
      " 2   headline    3122 non-null   object\n",
      " 3   date        3122 non-null   object\n",
      " 4   section     3122 non-null   object\n",
      " 5   keywords    3122 non-null   object\n",
      " 6   word_count  3122 non-null   int64 \n",
      " 7   abstract    3122 non-null   object\n",
      "dtypes: int64(3), object(5)\n",
      "memory usage: 195.2+ KB\n"
     ]
    }
   ],
   "source": [
    "nyt_news_articles.info()"
   ]
  },
  {
   "cell_type": "code",
   "execution_count": 152,
   "metadata": {},
   "outputs": [
    {
     "data": {
      "text/plain": [
       "Index(['headline', 'date', 'section', 'keywords', 'word_count', 'abstract'], dtype='object')"
      ]
     },
     "execution_count": 152,
     "metadata": {},
     "output_type": "execute_result"
    }
   ],
   "source": [
    "nyt_news_articles.columns"
   ]
  },
  {
   "cell_type": "code",
   "execution_count": 153,
   "metadata": {},
   "outputs": [
    {
     "data": {
      "text/plain": [
       "Index(['headline', 'date', 'doc_type', 'material_type', 'section', 'keywords',\n",
       "       'word_count', 'abstract', 'snippet', 'lead_paragraph'],\n",
       "      dtype='object')"
      ]
     },
     "execution_count": 153,
     "metadata": {},
     "output_type": "execute_result"
    }
   ],
   "source": [
    "nyt_2021_10_df.columns"
   ]
  },
  {
   "cell_type": "markdown",
   "metadata": {},
   "source": [
    "# Guardian Dataset"
   ]
  },
  {
   "cell_type": "code",
   "execution_count": 17,
   "metadata": {},
   "outputs": [],
   "source": [
    "# Load Guardian data\n",
    "files_gu = glob.glob('../data/raw/guardian/*.json')"
   ]
  },
  {
   "cell_type": "code",
   "execution_count": 18,
   "metadata": {},
   "outputs": [
    {
     "data": {
      "text/plain": [
       "['../data/raw/guardian/ga_2022-03-27_2022-04-26.json',\n",
       " '../data/raw/guardian/ga_2021-09-27_2021-10-26.json',\n",
       " '../data/raw/guardian/ga_2022-05-27_2022-06-26.json',\n",
       " '../data/raw/guardian/ga_2022-06-27_2022-07-26.json',\n",
       " '../data/raw/guardian/ga_2021-11-27_2021-12-26.json',\n",
       " '../data/raw/guardian/ga_2022-07-27_2022-08-26.json',\n",
       " '../data/raw/guardian/ga_2022-02-27_2022-03-26.json',\n",
       " '../data/raw/guardian/ga_2022-01-27_2022-02-26.json',\n",
       " '../data/raw/guardian/ga_2022-08-27_2022-09-27.json',\n",
       " '../data/raw/guardian/ga_2021-10-27_2021-11-26.json',\n",
       " '../data/raw/guardian/ga_2021-12-27_2022-01-26.json',\n",
       " '../data/raw/guardian/ga_2022-04-27_2022-05-26.json']"
      ]
     },
     "execution_count": 18,
     "metadata": {},
     "output_type": "execute_result"
    }
   ],
   "source": [
    "files_gu"
   ]
  },
  {
   "cell_type": "code",
   "execution_count": 104,
   "metadata": {},
   "outputs": [],
   "source": [
    "f = open('../data/raw/guardian/ga_2022-03-27_2022-04-26.json')\n",
    "gu_data = json.load(f)\n",
    "f.close()"
   ]
  },
  {
   "cell_type": "code",
   "execution_count": 106,
   "metadata": {},
   "outputs": [
    {
     "data": {
      "text/plain": [
       "6586"
      ]
     },
     "execution_count": 106,
     "metadata": {},
     "output_type": "execute_result"
    }
   ],
   "source": [
    "len(gu_data)"
   ]
  },
  {
   "cell_type": "code",
   "execution_count": 107,
   "metadata": {},
   "outputs": [
    {
     "data": {
      "text/plain": [
       "{'id': 'seek-the-new-world-of-work-/2022/apr/27/why-2022-is-the-year-of-the-great-job-boom-and-what-you-need-to-know-about-it',\n",
       " 'type': 'article',\n",
       " 'sectionId': 'seek-the-new-world-of-work-',\n",
       " 'sectionName': 'Seek: The new world of work',\n",
       " 'webPublicationDate': '2022-04-26T23:39:50Z',\n",
       " 'webTitle': 'Why 2022 is the year of the ‘great job boom’ and what you need to know about it',\n",
       " 'webUrl': 'https://www.theguardian.com/seek-the-new-world-of-work-/2022/apr/27/why-2022-is-the-year-of-the-great-job-boom-and-what-you-need-to-know-about-it',\n",
       " 'apiUrl': 'https://content.guardianapis.com/seek-the-new-world-of-work-/2022/apr/27/why-2022-is-the-year-of-the-great-job-boom-and-what-you-need-to-know-about-it',\n",
       " 'fields': {'headline': 'Why 2022 is the year of the ‘great job boom’ and what you need to know about it',\n",
       "  'standfirst': '<p>The pandemic has changed global workforces. In Australia, it has put the power in the hands of jobseekers.</p>',\n",
       "  'trailText': 'The pandemic has changed global workforces. In Australia, it has put the power in the hands of jobseekers.',\n",
       "  'byline': '',\n",
       "  'main': '<figure class=\"element element-image\" data-media-id=\"ec9b76f1051026afbb2356b952c1e8c8ce941251\"> <img src=\"https://media.guim.co.uk/ec9b76f1051026afbb2356b952c1e8c8ce941251/0_0_2121_1414/1000.jpg\" alt=\"With more job openings and less competition, now is great time to search for your next role.\" width=\"1000\" height=\"667\" class=\"gu-image\" /> <figcaption> <span class=\"element-image__caption\">With more job openings and less competition, now is great time to search for your next role.</span> <span class=\"element-image__credit\">Photograph: VioletaStoimenova/Getty Images</span> </figcaption> </figure>',\n",
       "  'body': '<p>Australia’s job market is in the middle of a mighty shake-up. “There are currently more jobs on Seek than there ever have been, and we’ve been around for 25 years,” says Elyssia Clark, Seek’s head of customer insights and strategy.</p> <p>Right now, she says, there are more than 235,000 jobs advertised on the site: a 50.7% increase compared to March 2019, the year before the pandemic took hold, and a 32.2% increase on this time last year. “Over the past 12 months, we’ve seen the number of job ads grow significantly,” Clark says. “And the demand for workers is everywhere, across virtually all industries and professions.”</p> <p>As Clark sees it, “We’re in the midst of the great job boom”.</p> <h2>Why are job openings booming?</h2> <p>A few factors have contributed to this seismic shift. One is that Australia’s unemployment rate is low, and “when there are less people out of work, there tends to be less people looking for jobs”, Clark says.</p> <p>But the job boom is mostly a consequence of the pandemic. Border closures have led to fewer candidates coming to Australia for work, and fewer people moving interstate in search of new jobs. The psychological turmoil wrought by Covid has also meant that Australian workers are more inclined to stay put.</p> <p>That’s meant the amount of people applying for jobs has gone down. Applications per job ad are at their lowest level since 2011, Clark says.</p>  <figure class=\"element element-image\" data-media-id=\"349e7aa4e106d6afbf9c76982f83376c9101cbd4\"> <img src=\"https://media.guim.co.uk/349e7aa4e106d6afbf9c76982f83376c9101cbd4/0_0_2121_1414/1000.jpg\" alt=\"Happy metal worker greeting his new manager in steel mill.\" width=\"1000\" height=\"667\" class=\"gu-image\" /> </figure>  <ul> <li><p>The demand for workers is across virtually all industries and professions</p></li> </ul> <p>“Not only are there more opportunities than ever before, there is also less competition for roles. It’s certainly a jobseeker’s market at the moment, so if people are looking for better work-life balance, a bigger salary or maybe even a step up in their career, there has never been a better time. Jobseekers have more choice and more negotiation power.”</p> <h2>What does it mean for employees?</h2> <p>If you’ve been considering taking the leap into a more senior position, this may be the time to pounce. Your chances are especially strong if you work in one of the industries advertising the highest volume of jobs: healthcare and medical, hospitality and tourism, and manufacturing, transport and logistics. Trades and services, the industry with the most demand, has more than 25,000 roles advertised.</p> <p>Career coach Leah Lambart, who helps people land their dream jobs, says: “For industries that are used to bringing in staff from overseas, it’s definitely time for workers to look for opportunities to move up.”</p> <p>As Lambart sees it, 2022 is the year to snag a promotion, or move across to a competitor for a hefty pay rise.</p> <p>But even if you’re reluctant to switch gigs, you can still use the job boom to your advantage. This is a golden opportunity to negotiate a higher salary, a new role at your current company or better conditions – something many of us are due for after two years of the pandemic.</p> <p>“During the last couple of years, I’ve noticed a lot of people actually doing a lot more work than what’s in their position description,” Lambart says. “That’s often because companies have been under-resourced during Covid, which means employees are often taking on a lot more responsibility and working longer hours than they perhaps should be.</p>  <figure class=\"element element-image\" data-media-id=\"c4a94e1b9a6969954a42471e8ab25f877ac6175d\"> <img src=\"https://media.guim.co.uk/c4a94e1b9a6969954a42471e8ab25f877ac6175d/0_0_2120_1415/1000.jpg\" alt=\"Mid adult woman working at desk in office\" width=\"1000\" height=\"667\" class=\"gu-image\" /> </figure>  <ul> <li><p>Jobseekers currently have more choice and more negotiation power.</p></li> </ul> <p>“If that’s the case, they could easily document what they’re doing that’s above and beyond their position description to negotiate a pay rise”.</p> <h2>What’s the impact for employers?</h2> <p>On the flip side, the job boom means savvy employers will also need to prepare to ensure they can attract and retain the best talent.</p> <p>With the tables turning and the power shifting, Clark says employers need to be ready to communicate clearly and concisely why someone should consider working for them. She also recommends considering sign-on incentives to lure the best candidates, and emphasises the importance of a smooth, efficient, and quick recruitment process.</p> <p>“In this current market, the last thing you want to do is lose top talent to a lengthy and labour-intensive process as it’s likely your opportunity isn’t the only one they’re considering,” she says.</p> <p>Employers will also need to focus on retaining their current key players. “The conditions are appealing for staff to look at other opportunities, so ensure you’re keeping the communication with your team,” Clark says. “It may be worthwhile considering your stance and process on counter-offers in case your staff are being poached.”</p> <p>Whatever their approach, employers will need to raise the bar this year. With job ads up and applications per job ad down, there’s never been a better time for Australian professionals to throw their hat in the ring. In 2022, it’s jobseekers calling the shots.</p> <p><em><strong>For advice on negotiating your next opportunity during the great job boom visit <a href=\"https://www.seek.com.au/career-advice/?tracking=CPP-TGAIART-TheGuardianGreatJobBoom-30308&amp;utm_campaign=TheGuardianGreatJobBoom&amp;utm_source=TheGuardian&amp;utm_medium=Link&amp;utm_content=TheGuardianPartnerCampaign_Art1\" rel=\"nofollow\">Seek Career Advice</a></strong></em></p>',\n",
       "  'wordcount': '801',\n",
       "  'displayHint': 'photoEssay',\n",
       "  'firstPublicationDate': '2022-04-26T23:39:50Z',\n",
       "  'isInappropriateForSponsorship': 'false',\n",
       "  'isPremoderated': 'false',\n",
       "  'lastModified': '2022-05-12T06:55:42Z',\n",
       "  'productionOffice': 'AUS',\n",
       "  'publication': 'theguardian.com',\n",
       "  'shortUrl': 'https://www.theguardian.com/p/ya44j',\n",
       "  'shouldHideAdverts': 'false',\n",
       "  'showInRelatedContent': 'true',\n",
       "  'thumbnail': 'https://media.guim.co.uk/9f6b26af0a4ab397a2ce8eb9fe4473a3a6258d21/0_17_509_305/500.jpg',\n",
       "  'legallySensitive': 'false',\n",
       "  'lang': 'en',\n",
       "  'isLive': 'true',\n",
       "  'bodyText': 'Australia’s job market is in the middle of a mighty shake-up. “There are currently more jobs on Seek than there ever have been, and we’ve been around for 25 years,” says Elyssia Clark, Seek’s head of customer insights and strategy. Right now, she says, there are more than 235,000 jobs advertised on the site: a 50.7% increase compared to March 2019, the year before the pandemic took hold, and a 32.2% increase on this time last year. “Over the past 12 months, we’ve seen the number of job ads grow significantly,” Clark says. “And the demand for workers is everywhere, across virtually all industries and professions.” As Clark sees it, “We’re in the midst of the great job boom”. Why are job openings booming? A few factors have contributed to this seismic shift. One is that Australia’s unemployment rate is low, and “when there are less people out of work, there tends to be less people looking for jobs”, Clark says. But the job boom is mostly a consequence of the pandemic. Border closures have led to fewer candidates coming to Australia for work, and fewer people moving interstate in search of new jobs. The psychological turmoil wrought by Covid has also meant that Australian workers are more inclined to stay put. That’s meant the amount of people applying for jobs has gone down. Applications per job ad are at their lowest level since 2011, Clark says. The demand for workers is across virtually all industries and professions “Not only are there more opportunities than ever before, there is also less competition for roles. It’s certainly a jobseeker’s market at the moment, so if people are looking for better work-life balance, a bigger salary or maybe even a step up in their career, there has never been a better time. Jobseekers have more choice and more negotiation power.” What does it mean for employees? If you’ve been considering taking the leap into a more senior position, this may be the time to pounce. Your chances are especially strong if you work in one of the industries advertising the highest volume of jobs: healthcare and medical, hospitality and tourism, and manufacturing, transport and logistics. Trades and services, the industry with the most demand, has more than 25,000 roles advertised. Career coach Leah Lambart, who helps people land their dream jobs, says: “For industries that are used to bringing in staff from overseas, it’s definitely time for workers to look for opportunities to move up.” As Lambart sees it, 2022 is the year to snag a promotion, or move across to a competitor for a hefty pay rise. But even if you’re reluctant to switch gigs, you can still use the job boom to your advantage. This is a golden opportunity to negotiate a higher salary, a new role at your current company or better conditions – something many of us are due for after two years of the pandemic. “During the last couple of years, I’ve noticed a lot of people actually doing a lot more work than what’s in their position description,” Lambart says. “That’s often because companies have been under-resourced during Covid, which means employees are often taking on a lot more responsibility and working longer hours than they perhaps should be. Jobseekers currently have more choice and more negotiation power. “If that’s the case, they could easily document what they’re doing that’s above and beyond their position description to negotiate a pay rise”. What’s the impact for employers? On the flip side, the job boom means savvy employers will also need to prepare to ensure they can attract and retain the best talent. With the tables turning and the power shifting, Clark says employers need to be ready to communicate clearly and concisely why someone should consider working for them. She also recommends considering sign-on incentives to lure the best candidates, and emphasises the importance of a smooth, efficient, and quick recruitment process. “In this current market, the last thing you want to do is lose top talent to a lengthy and labour-intensive process as it’s likely your opportunity isn’t the only one they’re considering,” she says. Employers will also need to focus on retaining their current key players. “The conditions are appealing for staff to look at other opportunities, so ensure you’re keeping the communication with your team,” Clark says. “It may be worthwhile considering your stance and process on counter-offers in case your staff are being poached.” Whatever their approach, employers will need to raise the bar this year. With job ads up and applications per job ad down, there’s never been a better time for Australian professionals to throw their hat in the ring. In 2022, it’s jobseekers calling the shots. For advice on negotiating your next opportunity during the great job boom visit Seek Career Advice',\n",
       "  'charCount': '4782',\n",
       "  'shouldHideReaderRevenue': 'false',\n",
       "  'showAffiliateLinks': 'false',\n",
       "  'bylineHtml': ''},\n",
       " 'isHosted': False}"
      ]
     },
     "execution_count": 107,
     "metadata": {},
     "output_type": "execute_result"
    }
   ],
   "source": [
    "gu_data[0]"
   ]
  },
  {
   "cell_type": "code",
   "execution_count": 108,
   "metadata": {},
   "outputs": [
    {
     "data": {
      "text/html": [
       "<div>\n",
       "<style scoped>\n",
       "    .dataframe tbody tr th:only-of-type {\n",
       "        vertical-align: middle;\n",
       "    }\n",
       "\n",
       "    .dataframe tbody tr th {\n",
       "        vertical-align: top;\n",
       "    }\n",
       "\n",
       "    .dataframe thead th {\n",
       "        text-align: right;\n",
       "    }\n",
       "</style>\n",
       "<table border=\"1\" class=\"dataframe\">\n",
       "  <thead>\n",
       "    <tr style=\"text-align: right;\">\n",
       "      <th></th>\n",
       "      <th>id</th>\n",
       "      <th>type</th>\n",
       "      <th>sectionId</th>\n",
       "      <th>sectionName</th>\n",
       "      <th>webPublicationDate</th>\n",
       "      <th>webTitle</th>\n",
       "      <th>webUrl</th>\n",
       "      <th>apiUrl</th>\n",
       "      <th>isHosted</th>\n",
       "      <th>fields.headline</th>\n",
       "      <th>...</th>\n",
       "      <th>fields.showInRelatedContent</th>\n",
       "      <th>fields.thumbnail</th>\n",
       "      <th>fields.legallySensitive</th>\n",
       "      <th>fields.lang</th>\n",
       "      <th>fields.isLive</th>\n",
       "      <th>fields.bodyText</th>\n",
       "      <th>fields.charCount</th>\n",
       "      <th>fields.shouldHideReaderRevenue</th>\n",
       "      <th>fields.showAffiliateLinks</th>\n",
       "      <th>fields.bylineHtml</th>\n",
       "    </tr>\n",
       "  </thead>\n",
       "  <tbody>\n",
       "    <tr>\n",
       "      <th>0</th>\n",
       "      <td>seek-the-new-world-of-work-/2022/apr/27/why-20...</td>\n",
       "      <td>article</td>\n",
       "      <td>seek-the-new-world-of-work-</td>\n",
       "      <td>Seek: The new world of work</td>\n",
       "      <td>2022-04-26T23:39:50Z</td>\n",
       "      <td>Why 2022 is the year of the ‘great job boom’ a...</td>\n",
       "      <td>https://www.theguardian.com/seek-the-new-world...</td>\n",
       "      <td>https://content.guardianapis.com/seek-the-new-...</td>\n",
       "      <td>False</td>\n",
       "      <td>Why 2022 is the year of the ‘great job boom’ a...</td>\n",
       "      <td>...</td>\n",
       "      <td>true</td>\n",
       "      <td>https://media.guim.co.uk/9f6b26af0a4ab397a2ce8...</td>\n",
       "      <td>false</td>\n",
       "      <td>en</td>\n",
       "      <td>true</td>\n",
       "      <td>Australia’s job market is in the middle of a m...</td>\n",
       "      <td>4782</td>\n",
       "      <td>false</td>\n",
       "      <td>false</td>\n",
       "      <td></td>\n",
       "    </tr>\n",
       "  </tbody>\n",
       "</table>\n",
       "<p>1 rows × 35 columns</p>\n",
       "</div>"
      ],
      "text/plain": [
       "                                                  id     type  \\\n",
       "0  seek-the-new-world-of-work-/2022/apr/27/why-20...  article   \n",
       "\n",
       "                     sectionId                  sectionName  \\\n",
       "0  seek-the-new-world-of-work-  Seek: The new world of work   \n",
       "\n",
       "     webPublicationDate                                           webTitle  \\\n",
       "0  2022-04-26T23:39:50Z  Why 2022 is the year of the ‘great job boom’ a...   \n",
       "\n",
       "                                              webUrl  \\\n",
       "0  https://www.theguardian.com/seek-the-new-world...   \n",
       "\n",
       "                                              apiUrl  isHosted  \\\n",
       "0  https://content.guardianapis.com/seek-the-new-...     False   \n",
       "\n",
       "                                     fields.headline  ...  \\\n",
       "0  Why 2022 is the year of the ‘great job boom’ a...  ...   \n",
       "\n",
       "  fields.showInRelatedContent  \\\n",
       "0                        true   \n",
       "\n",
       "                                    fields.thumbnail fields.legallySensitive  \\\n",
       "0  https://media.guim.co.uk/9f6b26af0a4ab397a2ce8...                   false   \n",
       "\n",
       "  fields.lang fields.isLive  \\\n",
       "0          en          true   \n",
       "\n",
       "                                     fields.bodyText fields.charCount  \\\n",
       "0  Australia’s job market is in the middle of a m...             4782   \n",
       "\n",
       "  fields.shouldHideReaderRevenue fields.showAffiliateLinks fields.bylineHtml  \n",
       "0                          false                     false                    \n",
       "\n",
       "[1 rows x 35 columns]"
      ]
     },
     "execution_count": 108,
     "metadata": {},
     "output_type": "execute_result"
    }
   ],
   "source": [
    "pd.json_normalize(gu_data[0])"
   ]
  },
  {
   "cell_type": "code",
   "execution_count": 109,
   "metadata": {},
   "outputs": [
    {
     "data": {
      "text/plain": [
       "Index(['id', 'type', 'sectionId', 'sectionName', 'webPublicationDate',\n",
       "       'webTitle', 'webUrl', 'apiUrl', 'isHosted', 'fields.headline',\n",
       "       'fields.standfirst', 'fields.trailText', 'fields.byline', 'fields.main',\n",
       "       'fields.body', 'fields.wordcount', 'fields.displayHint',\n",
       "       'fields.firstPublicationDate', 'fields.isInappropriateForSponsorship',\n",
       "       'fields.isPremoderated', 'fields.lastModified',\n",
       "       'fields.productionOffice', 'fields.publication', 'fields.shortUrl',\n",
       "       'fields.shouldHideAdverts', 'fields.showInRelatedContent',\n",
       "       'fields.thumbnail', 'fields.legallySensitive', 'fields.lang',\n",
       "       'fields.isLive', 'fields.bodyText', 'fields.charCount',\n",
       "       'fields.shouldHideReaderRevenue', 'fields.showAffiliateLinks',\n",
       "       'fields.bylineHtml'],\n",
       "      dtype='object')"
      ]
     },
     "execution_count": 109,
     "metadata": {},
     "output_type": "execute_result"
    }
   ],
   "source": [
    "pd.json_normalize(gu_data[0]).columns"
   ]
  },
  {
   "cell_type": "code",
   "execution_count": 101,
   "metadata": {},
   "outputs": [],
   "source": [
    "gu_df = pd.read_json('../data/raw/guardian/ga_2022-03-27_2022-04-26.json')"
   ]
  },
  {
   "cell_type": "code",
   "execution_count": 102,
   "metadata": {},
   "outputs": [
    {
     "data": {
      "text/html": [
       "<div>\n",
       "<style scoped>\n",
       "    .dataframe tbody tr th:only-of-type {\n",
       "        vertical-align: middle;\n",
       "    }\n",
       "\n",
       "    .dataframe tbody tr th {\n",
       "        vertical-align: top;\n",
       "    }\n",
       "\n",
       "    .dataframe thead th {\n",
       "        text-align: right;\n",
       "    }\n",
       "</style>\n",
       "<table border=\"1\" class=\"dataframe\">\n",
       "  <thead>\n",
       "    <tr style=\"text-align: right;\">\n",
       "      <th></th>\n",
       "      <th>id</th>\n",
       "      <th>type</th>\n",
       "      <th>sectionId</th>\n",
       "      <th>sectionName</th>\n",
       "      <th>webPublicationDate</th>\n",
       "      <th>webTitle</th>\n",
       "      <th>webUrl</th>\n",
       "      <th>apiUrl</th>\n",
       "      <th>fields</th>\n",
       "      <th>isHosted</th>\n",
       "      <th>pillarId</th>\n",
       "      <th>pillarName</th>\n",
       "    </tr>\n",
       "  </thead>\n",
       "  <tbody>\n",
       "    <tr>\n",
       "      <th>0</th>\n",
       "      <td>seek-the-new-world-of-work-/2022/apr/27/why-20...</td>\n",
       "      <td>article</td>\n",
       "      <td>seek-the-new-world-of-work-</td>\n",
       "      <td>Seek: The new world of work</td>\n",
       "      <td>2022-04-26T23:39:50Z</td>\n",
       "      <td>Why 2022 is the year of the ‘great job boom’ a...</td>\n",
       "      <td>https://www.theguardian.com/seek-the-new-world...</td>\n",
       "      <td>https://content.guardianapis.com/seek-the-new-...</td>\n",
       "      <td>{'headline': 'Why 2022 is the year of the ‘gre...</td>\n",
       "      <td>False</td>\n",
       "      <td>NaN</td>\n",
       "      <td>NaN</td>\n",
       "    </tr>\n",
       "    <tr>\n",
       "      <th>1</th>\n",
       "      <td>world/2022/apr/26/us-covid-infections-antibodi...</td>\n",
       "      <td>article</td>\n",
       "      <td>world</td>\n",
       "      <td>World news</td>\n",
       "      <td>2022-04-26T23:28:51Z</td>\n",
       "      <td>More than half of Americans have had Covid, in...</td>\n",
       "      <td>https://www.theguardian.com/world/2022/apr/26/...</td>\n",
       "      <td>https://content.guardianapis.com/world/2022/ap...</td>\n",
       "      <td>{'headline': 'More than half of Americans have...</td>\n",
       "      <td>False</td>\n",
       "      <td>pillar/news</td>\n",
       "      <td>News</td>\n",
       "    </tr>\n",
       "    <tr>\n",
       "      <th>2</th>\n",
       "      <td>media/2022/apr/27/mail-on-sunday-editor-reject...</td>\n",
       "      <td>article</td>\n",
       "      <td>media</td>\n",
       "      <td>Media</td>\n",
       "      <td>2022-04-26T23:16:08Z</td>\n",
       "      <td>Mail on Sunday editor rejects meeting with Spe...</td>\n",
       "      <td>https://www.theguardian.com/media/2022/apr/27/...</td>\n",
       "      <td>https://content.guardianapis.com/media/2022/ap...</td>\n",
       "      <td>{'headline': 'Mail on Sunday editor rejects me...</td>\n",
       "      <td>False</td>\n",
       "      <td>pillar/news</td>\n",
       "      <td>News</td>\n",
       "    </tr>\n",
       "    <tr>\n",
       "      <th>3</th>\n",
       "      <td>technology/2022/apr/26/alphabet-google-revenue...</td>\n",
       "      <td>article</td>\n",
       "      <td>technology</td>\n",
       "      <td>Technology</td>\n",
       "      <td>2022-04-26T23:05:49Z</td>\n",
       "      <td>Alphabet revenue falls short as YouTube and Ti...</td>\n",
       "      <td>https://www.theguardian.com/technology/2022/ap...</td>\n",
       "      <td>https://content.guardianapis.com/technology/20...</td>\n",
       "      <td>{'headline': 'Alphabet revenue falls short as ...</td>\n",
       "      <td>False</td>\n",
       "      <td>pillar/news</td>\n",
       "      <td>News</td>\n",
       "    </tr>\n",
       "    <tr>\n",
       "      <th>4</th>\n",
       "      <td>environment/2022/apr/27/swine-dining-crocodile...</td>\n",
       "      <td>article</td>\n",
       "      <td>environment</td>\n",
       "      <td>Environment</td>\n",
       "      <td>2022-04-26T23:01:11Z</td>\n",
       "      <td>Swine dining: crocodiles are thriving in the N...</td>\n",
       "      <td>https://www.theguardian.com/environment/2022/a...</td>\n",
       "      <td>https://content.guardianapis.com/environment/2...</td>\n",
       "      <td>{'headline': 'Swine dining: crocodiles are thr...</td>\n",
       "      <td>False</td>\n",
       "      <td>pillar/news</td>\n",
       "      <td>News</td>\n",
       "    </tr>\n",
       "  </tbody>\n",
       "</table>\n",
       "</div>"
      ],
      "text/plain": [
       "                                                  id     type  \\\n",
       "0  seek-the-new-world-of-work-/2022/apr/27/why-20...  article   \n",
       "1  world/2022/apr/26/us-covid-infections-antibodi...  article   \n",
       "2  media/2022/apr/27/mail-on-sunday-editor-reject...  article   \n",
       "3  technology/2022/apr/26/alphabet-google-revenue...  article   \n",
       "4  environment/2022/apr/27/swine-dining-crocodile...  article   \n",
       "\n",
       "                     sectionId                  sectionName  \\\n",
       "0  seek-the-new-world-of-work-  Seek: The new world of work   \n",
       "1                        world                   World news   \n",
       "2                        media                        Media   \n",
       "3                   technology                   Technology   \n",
       "4                  environment                  Environment   \n",
       "\n",
       "     webPublicationDate                                           webTitle  \\\n",
       "0  2022-04-26T23:39:50Z  Why 2022 is the year of the ‘great job boom’ a...   \n",
       "1  2022-04-26T23:28:51Z  More than half of Americans have had Covid, in...   \n",
       "2  2022-04-26T23:16:08Z  Mail on Sunday editor rejects meeting with Spe...   \n",
       "3  2022-04-26T23:05:49Z  Alphabet revenue falls short as YouTube and Ti...   \n",
       "4  2022-04-26T23:01:11Z  Swine dining: crocodiles are thriving in the N...   \n",
       "\n",
       "                                              webUrl  \\\n",
       "0  https://www.theguardian.com/seek-the-new-world...   \n",
       "1  https://www.theguardian.com/world/2022/apr/26/...   \n",
       "2  https://www.theguardian.com/media/2022/apr/27/...   \n",
       "3  https://www.theguardian.com/technology/2022/ap...   \n",
       "4  https://www.theguardian.com/environment/2022/a...   \n",
       "\n",
       "                                              apiUrl  \\\n",
       "0  https://content.guardianapis.com/seek-the-new-...   \n",
       "1  https://content.guardianapis.com/world/2022/ap...   \n",
       "2  https://content.guardianapis.com/media/2022/ap...   \n",
       "3  https://content.guardianapis.com/technology/20...   \n",
       "4  https://content.guardianapis.com/environment/2...   \n",
       "\n",
       "                                              fields  isHosted     pillarId  \\\n",
       "0  {'headline': 'Why 2022 is the year of the ‘gre...     False          NaN   \n",
       "1  {'headline': 'More than half of Americans have...     False  pillar/news   \n",
       "2  {'headline': 'Mail on Sunday editor rejects me...     False  pillar/news   \n",
       "3  {'headline': 'Alphabet revenue falls short as ...     False  pillar/news   \n",
       "4  {'headline': 'Swine dining: crocodiles are thr...     False  pillar/news   \n",
       "\n",
       "  pillarName  \n",
       "0        NaN  \n",
       "1       News  \n",
       "2       News  \n",
       "3       News  \n",
       "4       News  "
      ]
     },
     "execution_count": 102,
     "metadata": {},
     "output_type": "execute_result"
    }
   ],
   "source": [
    "gu_df.head()"
   ]
  },
  {
   "cell_type": "markdown",
   "metadata": {},
   "source": [
    "# Twitter - Guardian Tweets"
   ]
  },
  {
   "cell_type": "code",
   "execution_count": 5,
   "metadata": {},
   "outputs": [],
   "source": [
    "# Load Twitter data\n",
    "twitter_df = pd.read_csv('../data/raw/gu_twitter/gu_tweets.csv')"
   ]
  },
  {
   "cell_type": "code",
   "execution_count": 6,
   "metadata": {},
   "outputs": [
    {
     "data": {
      "text/html": [
       "<div>\n",
       "<style scoped>\n",
       "    .dataframe tbody tr th:only-of-type {\n",
       "        vertical-align: middle;\n",
       "    }\n",
       "\n",
       "    .dataframe tbody tr th {\n",
       "        vertical-align: top;\n",
       "    }\n",
       "\n",
       "    .dataframe thead th {\n",
       "        text-align: right;\n",
       "    }\n",
       "</style>\n",
       "<table border=\"1\" class=\"dataframe\">\n",
       "  <thead>\n",
       "    <tr style=\"text-align: right;\">\n",
       "      <th></th>\n",
       "      <th>created_at</th>\n",
       "      <th>id</th>\n",
       "      <th>text</th>\n",
       "    </tr>\n",
       "  </thead>\n",
       "  <tbody>\n",
       "    <tr>\n",
       "      <th>0</th>\n",
       "      <td>Wed Sep 28 21:17:47 +0000 2022</td>\n",
       "      <td>1575233331943309339</td>\n",
       "      <td>Morning mail: hurricane with 240km/h winds hit...</td>\n",
       "    </tr>\n",
       "    <tr>\n",
       "      <th>1</th>\n",
       "      <td>Wed Sep 28 21:17:46 +0000 2022</td>\n",
       "      <td>1575233327329574924</td>\n",
       "      <td>R Kelly ordered to pay restitution of $300,000...</td>\n",
       "    </tr>\n",
       "    <tr>\n",
       "      <th>2</th>\n",
       "      <td>Wed Sep 28 21:17:44 +0000 2022</td>\n",
       "      <td>1575233321063292928</td>\n",
       "      <td>Two aircraft involved in ‘minor collision’ on ...</td>\n",
       "    </tr>\n",
       "    <tr>\n",
       "      <th>3</th>\n",
       "      <td>Wed Sep 28 21:10:00 +0000 2022</td>\n",
       "      <td>1575231372490309658</td>\n",
       "      <td>We’re keen to hear from people who have recent...</td>\n",
       "    </tr>\n",
       "    <tr>\n",
       "      <th>4</th>\n",
       "      <td>Wed Sep 28 21:03:05 +0000 2022</td>\n",
       "      <td>1575229631912869894</td>\n",
       "      <td>Guardian front page, Thursday 29 September 202...</td>\n",
       "    </tr>\n",
       "  </tbody>\n",
       "</table>\n",
       "</div>"
      ],
      "text/plain": [
       "                       created_at                   id  \\\n",
       "0  Wed Sep 28 21:17:47 +0000 2022  1575233331943309339   \n",
       "1  Wed Sep 28 21:17:46 +0000 2022  1575233327329574924   \n",
       "2  Wed Sep 28 21:17:44 +0000 2022  1575233321063292928   \n",
       "3  Wed Sep 28 21:10:00 +0000 2022  1575231372490309658   \n",
       "4  Wed Sep 28 21:03:05 +0000 2022  1575229631912869894   \n",
       "\n",
       "                                                text  \n",
       "0  Morning mail: hurricane with 240km/h winds hit...  \n",
       "1  R Kelly ordered to pay restitution of $300,000...  \n",
       "2  Two aircraft involved in ‘minor collision’ on ...  \n",
       "3  We’re keen to hear from people who have recent...  \n",
       "4  Guardian front page, Thursday 29 September 202...  "
      ]
     },
     "execution_count": 6,
     "metadata": {},
     "output_type": "execute_result"
    }
   ],
   "source": [
    "twitter_df.head()"
   ]
  }
 ],
 "metadata": {
  "kernelspec": {
   "display_name": "Python 3.9.13 ('b-thesis')",
   "language": "python",
   "name": "python3"
  },
  "language_info": {
   "codemirror_mode": {
    "name": "ipython",
    "version": 3
   },
   "file_extension": ".py",
   "mimetype": "text/x-python",
   "name": "python",
   "nbconvert_exporter": "python",
   "pygments_lexer": "ipython3",
   "version": "3.9.13"
  },
  "orig_nbformat": 4,
  "vscode": {
   "interpreter": {
    "hash": "6cc34f913a7f1ca55160808e1759ac312dd0ad5ecfa942c36b2d3d154b205193"
   }
  }
 },
 "nbformat": 4,
 "nbformat_minor": 2
}
