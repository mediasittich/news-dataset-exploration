{
 "cells": [
  {
   "cell_type": "markdown",
   "metadata": {},
   "source": [
    "# Setup"
   ]
  },
  {
   "cell_type": "code",
   "execution_count": 22,
   "metadata": {},
   "outputs": [],
   "source": [
    "import sys\n",
    "  \n",
    "# append the path of the parent directory - important for using custom modules \n",
    "# https://stackoverflow.com/questions/14886143/how-to-import-a-python-module-from-a-sibling-folder\n",
    "sys.path.append(\"..\")\n",
    "\n",
    "import os\n",
    "import glob\n",
    "\n",
    "import pandas as pd\n",
    "\n",
    "# Notebook settings\n",
    "import warnings\n",
    "warnings.filterwarnings('ignore')"
   ]
  },
  {
   "cell_type": "code",
   "execution_count": 14,
   "metadata": {},
   "outputs": [
    {
     "data": {
      "text/plain": [
       "'/Users/reginagalambos/Google Drive_mediasittich/LMU-Statistik/SS22/!bachelor_thesis/news-dataset-exploration/notebooks'"
      ]
     },
     "execution_count": 14,
     "metadata": {},
     "output_type": "execute_result"
    }
   ],
   "source": [
    "os.getcwd()"
   ]
  },
  {
   "cell_type": "code",
   "execution_count": 26,
   "metadata": {},
   "outputs": [
    {
     "ename": "ImportError",
     "evalue": "cannot import name 'make_csv_from_csvs' from 'src.data.make_dataset' (/Users/reginagalambos/Google Drive_mediasittich/LMU-Statistik/SS22/!bachelor_thesis/news-dataset-exploration/notebooks/../src/data/make_dataset.py)",
     "output_type": "error",
     "traceback": [
      "\u001b[0;31m---------------------------------------------------------------------------\u001b[0m",
      "\u001b[0;31mImportError\u001b[0m                               Traceback (most recent call last)",
      "Cell \u001b[0;32mIn [26], line 1\u001b[0m\n\u001b[0;32m----> 1\u001b[0m \u001b[38;5;28;01mfrom\u001b[39;00m \u001b[38;5;21;01msrc\u001b[39;00m\u001b[38;5;21;01m.\u001b[39;00m\u001b[38;5;21;01mdata\u001b[39;00m\u001b[38;5;21;01m.\u001b[39;00m\u001b[38;5;21;01mmake_dataset\u001b[39;00m \u001b[38;5;28;01mimport\u001b[39;00m make_csv_from_csvs\n",
      "\u001b[0;31mImportError\u001b[0m: cannot import name 'make_csv_from_csvs' from 'src.data.make_dataset' (/Users/reginagalambos/Google Drive_mediasittich/LMU-Statistik/SS22/!bachelor_thesis/news-dataset-exploration/notebooks/../src/data/make_dataset.py)"
     ]
    }
   ],
   "source": [
    "from src.data.make_dataset import make_csv_from_csvs\n"
   ]
  },
  {
   "cell_type": "code",
   "execution_count": 16,
   "metadata": {},
   "outputs": [
    {
     "name": "stdout",
     "output_type": "stream",
     "text": [
      "Make a dataset\n"
     ]
    }
   ],
   "source": [
    "test()"
   ]
  },
  {
   "cell_type": "code",
   "execution_count": 2,
   "metadata": {},
   "outputs": [
    {
     "data": {
      "text/plain": [
       "'/Users/reginagalambos/Google Drive_mediasittich/LMU-Statistik/SS22/!bachelor_thesis/news-dataset-exploration/notebooks'"
      ]
     },
     "execution_count": 2,
     "metadata": {},
     "output_type": "execute_result"
    }
   ],
   "source": [
    "os.getcwd()"
   ]
  },
  {
   "cell_type": "markdown",
   "metadata": {},
   "source": [
    "# New York Times API"
   ]
  },
  {
   "cell_type": "code",
   "execution_count": 25,
   "metadata": {},
   "outputs": [
    {
     "ename": "AttributeError",
     "evalue": "module 'src.data.make_dataset' has no attribute 'make_csv_from_csvs'",
     "output_type": "error",
     "traceback": [
      "\u001b[0;31m---------------------------------------------------------------------------\u001b[0m",
      "\u001b[0;31mAttributeError\u001b[0m                            Traceback (most recent call last)",
      "Cell \u001b[0;32mIn [25], line 1\u001b[0m\n\u001b[0;32m----> 1\u001b[0m nyt_files \u001b[38;5;241m=\u001b[39m make_dataset\u001b[38;5;241m.\u001b[39mmake_csv_from_csvs(\u001b[38;5;124m'\u001b[39m\u001b[38;5;124m../data/raw/nyt_headlines/\u001b[39m\u001b[38;5;124m'\u001b[39m)\n",
      "\u001b[0;31mAttributeError\u001b[0m: module 'src.data.make_dataset' has no attribute 'make_csv_from_csvs'"
     ]
    }
   ],
   "source": [
    "nyt_files = make_csv_from_csvs('../data/raw/nyt_headlines/')"
   ]
  },
  {
   "cell_type": "code",
   "execution_count": 3,
   "metadata": {},
   "outputs": [],
   "source": [
    "# Load NYT data\n",
    "files = glob.glob('../data/raw/nyt_headlines/*.csv')\n",
    "\n",
    "nyt_df = pd.DataFrame()\n",
    "for f in files:\n",
    "    csv = pd.read_csv(f)\n",
    "    nyt_df = nyt_df.append(csv)"
   ]
  },
  {
   "cell_type": "code",
   "execution_count": 4,
   "metadata": {},
   "outputs": [
    {
     "data": {
      "text/html": [
       "<div>\n",
       "<style scoped>\n",
       "    .dataframe tbody tr th:only-of-type {\n",
       "        vertical-align: middle;\n",
       "    }\n",
       "\n",
       "    .dataframe tbody tr th {\n",
       "        vertical-align: top;\n",
       "    }\n",
       "\n",
       "    .dataframe thead th {\n",
       "        text-align: right;\n",
       "    }\n",
       "</style>\n",
       "<table border=\"1\" class=\"dataframe\">\n",
       "  <thead>\n",
       "    <tr style=\"text-align: right;\">\n",
       "      <th></th>\n",
       "      <th>headline</th>\n",
       "      <th>date</th>\n",
       "      <th>doc_type</th>\n",
       "      <th>material_type</th>\n",
       "      <th>section</th>\n",
       "      <th>keywords</th>\n",
       "      <th>word_count</th>\n",
       "      <th>abstract</th>\n",
       "      <th>snippet</th>\n",
       "      <th>lead_paragraph</th>\n",
       "    </tr>\n",
       "  </thead>\n",
       "  <tbody>\n",
       "    <tr>\n",
       "      <th>0</th>\n",
       "      <td>Alabama Rolls Past Cincinnati, 27-6, in Colleg...</td>\n",
       "      <td>2022-01-01</td>\n",
       "      <td>article</td>\n",
       "      <td>News</td>\n",
       "      <td>Sports</td>\n",
       "      <td>['Football (College)', 'Cotton Bowl (Football ...</td>\n",
       "      <td>1245</td>\n",
       "      <td>The Crimson Tide will face the Georgia Bulldog...</td>\n",
       "      <td>The Crimson Tide will face the Georgia Bulldog...</td>\n",
       "      <td>ARLINGTON, Texas — This was the moment the Cin...</td>\n",
       "    </tr>\n",
       "    <tr>\n",
       "      <th>1</th>\n",
       "      <td>People Magazine’s Premature Cover Toasts Betty...</td>\n",
       "      <td>2022-01-01</td>\n",
       "      <td>article</td>\n",
       "      <td>News</td>\n",
       "      <td>Business Day</td>\n",
       "      <td>['Magazines', 'Birthdays', 'Actors and Actress...</td>\n",
       "      <td>613</td>\n",
       "      <td>The television star, who died on Friday at age...</td>\n",
       "      <td>The television star, who died on Friday at age...</td>\n",
       "      <td>For months, editors at People magazine had bee...</td>\n",
       "    </tr>\n",
       "    <tr>\n",
       "      <th>2</th>\n",
       "      <td>Betty White Recalled as a Trailblazer With a L...</td>\n",
       "      <td>2022-01-01</td>\n",
       "      <td>article</td>\n",
       "      <td>News</td>\n",
       "      <td>Arts</td>\n",
       "      <td>['Social Media', 'Actors and Actresses', 'Cont...</td>\n",
       "      <td>443</td>\n",
       "      <td>“The world looks a little different now,” said...</td>\n",
       "      <td>“The world looks a little different now,” said...</td>\n",
       "      <td>Television stars, comedians, a president and s...</td>\n",
       "    </tr>\n",
       "    <tr>\n",
       "      <th>3</th>\n",
       "      <td>Line Just Before a Comma</td>\n",
       "      <td>2022-01-01</td>\n",
       "      <td>article</td>\n",
       "      <td>News</td>\n",
       "      <td>Crosswords &amp; Games</td>\n",
       "      <td>['Crossword Puzzles']</td>\n",
       "      <td>641</td>\n",
       "      <td>Peter Wentz escorts us into MMXXII with a stai...</td>\n",
       "      <td>Peter Wentz escorts us into MMXXII with a stai...</td>\n",
       "      <td>SATURDAY PUZZLE — One day, when the universe s...</td>\n",
       "    </tr>\n",
       "    <tr>\n",
       "      <th>4</th>\n",
       "      <td>A Renewed Georgia Pummels Michigan to Reach Na...</td>\n",
       "      <td>2022-01-01</td>\n",
       "      <td>article</td>\n",
       "      <td>News</td>\n",
       "      <td>Sports</td>\n",
       "      <td>['Football (College)', 'College Football Playo...</td>\n",
       "      <td>1015</td>\n",
       "      <td>The next challenge will come on Jan. 10, pande...</td>\n",
       "      <td>The next challenge will come on Jan. 10, pande...</td>\n",
       "      <td>It was supposed to be Friday’s prizefight, the...</td>\n",
       "    </tr>\n",
       "  </tbody>\n",
       "</table>\n",
       "</div>"
      ],
      "text/plain": [
       "                                            headline        date doc_type  \\\n",
       "0  Alabama Rolls Past Cincinnati, 27-6, in Colleg...  2022-01-01  article   \n",
       "1  People Magazine’s Premature Cover Toasts Betty...  2022-01-01  article   \n",
       "2  Betty White Recalled as a Trailblazer With a L...  2022-01-01  article   \n",
       "3                           Line Just Before a Comma  2022-01-01  article   \n",
       "4  A Renewed Georgia Pummels Michigan to Reach Na...  2022-01-01  article   \n",
       "\n",
       "  material_type             section  \\\n",
       "0          News              Sports   \n",
       "1          News        Business Day   \n",
       "2          News                Arts   \n",
       "3          News  Crosswords & Games   \n",
       "4          News              Sports   \n",
       "\n",
       "                                            keywords  word_count  \\\n",
       "0  ['Football (College)', 'Cotton Bowl (Football ...        1245   \n",
       "1  ['Magazines', 'Birthdays', 'Actors and Actress...         613   \n",
       "2  ['Social Media', 'Actors and Actresses', 'Cont...         443   \n",
       "3                              ['Crossword Puzzles']         641   \n",
       "4  ['Football (College)', 'College Football Playo...        1015   \n",
       "\n",
       "                                            abstract  \\\n",
       "0  The Crimson Tide will face the Georgia Bulldog...   \n",
       "1  The television star, who died on Friday at age...   \n",
       "2  “The world looks a little different now,” said...   \n",
       "3  Peter Wentz escorts us into MMXXII with a stai...   \n",
       "4  The next challenge will come on Jan. 10, pande...   \n",
       "\n",
       "                                             snippet  \\\n",
       "0  The Crimson Tide will face the Georgia Bulldog...   \n",
       "1  The television star, who died on Friday at age...   \n",
       "2  “The world looks a little different now,” said...   \n",
       "3  Peter Wentz escorts us into MMXXII with a stai...   \n",
       "4  The next challenge will come on Jan. 10, pande...   \n",
       "\n",
       "                                      lead_paragraph  \n",
       "0  ARLINGTON, Texas — This was the moment the Cin...  \n",
       "1  For months, editors at People magazine had bee...  \n",
       "2  Television stars, comedians, a president and s...  \n",
       "3  SATURDAY PUZZLE — One day, when the universe s...  \n",
       "4  It was supposed to be Friday’s prizefight, the...  "
      ]
     },
     "execution_count": 4,
     "metadata": {},
     "output_type": "execute_result"
    }
   ],
   "source": [
    "nyt_df.head()"
   ]
  },
  {
   "cell_type": "markdown",
   "metadata": {},
   "source": [
    "headline column contains the article title.  \n",
    "abstract  \n",
    "snippet  \n",
    "lead_paragraph"
   ]
  },
  {
   "cell_type": "markdown",
   "metadata": {},
   "source": [
    "# Guardian API"
   ]
  },
  {
   "cell_type": "code",
   "execution_count": 17,
   "metadata": {},
   "outputs": [],
   "source": [
    "# Load Guardian data\n",
    "files_gu = glob.glob('../data/raw/guardian/*.json')"
   ]
  },
  {
   "cell_type": "code",
   "execution_count": 18,
   "metadata": {},
   "outputs": [
    {
     "data": {
      "text/plain": [
       "['../data/raw/guardian/ga_2022-03-27_2022-04-26.json',\n",
       " '../data/raw/guardian/ga_2021-09-27_2021-10-26.json',\n",
       " '../data/raw/guardian/ga_2022-05-27_2022-06-26.json',\n",
       " '../data/raw/guardian/ga_2022-06-27_2022-07-26.json',\n",
       " '../data/raw/guardian/ga_2021-11-27_2021-12-26.json',\n",
       " '../data/raw/guardian/ga_2022-07-27_2022-08-26.json',\n",
       " '../data/raw/guardian/ga_2022-02-27_2022-03-26.json',\n",
       " '../data/raw/guardian/ga_2022-01-27_2022-02-26.json',\n",
       " '../data/raw/guardian/ga_2022-08-27_2022-09-27.json',\n",
       " '../data/raw/guardian/ga_2021-10-27_2021-11-26.json',\n",
       " '../data/raw/guardian/ga_2021-12-27_2022-01-26.json',\n",
       " '../data/raw/guardian/ga_2022-04-27_2022-05-26.json']"
      ]
     },
     "execution_count": 18,
     "metadata": {},
     "output_type": "execute_result"
    }
   ],
   "source": [
    "files_gu"
   ]
  },
  {
   "cell_type": "markdown",
   "metadata": {},
   "source": [
    "# Twitter - Guardian Tweets"
   ]
  },
  {
   "cell_type": "code",
   "execution_count": 5,
   "metadata": {},
   "outputs": [],
   "source": [
    "# Load Twitter data\n",
    "twitter_df = pd.read_csv('../data/raw/gu_twitter/gu_tweets.csv')"
   ]
  },
  {
   "cell_type": "code",
   "execution_count": 6,
   "metadata": {},
   "outputs": [
    {
     "data": {
      "text/html": [
       "<div>\n",
       "<style scoped>\n",
       "    .dataframe tbody tr th:only-of-type {\n",
       "        vertical-align: middle;\n",
       "    }\n",
       "\n",
       "    .dataframe tbody tr th {\n",
       "        vertical-align: top;\n",
       "    }\n",
       "\n",
       "    .dataframe thead th {\n",
       "        text-align: right;\n",
       "    }\n",
       "</style>\n",
       "<table border=\"1\" class=\"dataframe\">\n",
       "  <thead>\n",
       "    <tr style=\"text-align: right;\">\n",
       "      <th></th>\n",
       "      <th>created_at</th>\n",
       "      <th>id</th>\n",
       "      <th>text</th>\n",
       "    </tr>\n",
       "  </thead>\n",
       "  <tbody>\n",
       "    <tr>\n",
       "      <th>0</th>\n",
       "      <td>Wed Sep 28 21:17:47 +0000 2022</td>\n",
       "      <td>1575233331943309339</td>\n",
       "      <td>Morning mail: hurricane with 240km/h winds hit...</td>\n",
       "    </tr>\n",
       "    <tr>\n",
       "      <th>1</th>\n",
       "      <td>Wed Sep 28 21:17:46 +0000 2022</td>\n",
       "      <td>1575233327329574924</td>\n",
       "      <td>R Kelly ordered to pay restitution of $300,000...</td>\n",
       "    </tr>\n",
       "    <tr>\n",
       "      <th>2</th>\n",
       "      <td>Wed Sep 28 21:17:44 +0000 2022</td>\n",
       "      <td>1575233321063292928</td>\n",
       "      <td>Two aircraft involved in ‘minor collision’ on ...</td>\n",
       "    </tr>\n",
       "    <tr>\n",
       "      <th>3</th>\n",
       "      <td>Wed Sep 28 21:10:00 +0000 2022</td>\n",
       "      <td>1575231372490309658</td>\n",
       "      <td>We’re keen to hear from people who have recent...</td>\n",
       "    </tr>\n",
       "    <tr>\n",
       "      <th>4</th>\n",
       "      <td>Wed Sep 28 21:03:05 +0000 2022</td>\n",
       "      <td>1575229631912869894</td>\n",
       "      <td>Guardian front page, Thursday 29 September 202...</td>\n",
       "    </tr>\n",
       "  </tbody>\n",
       "</table>\n",
       "</div>"
      ],
      "text/plain": [
       "                       created_at                   id  \\\n",
       "0  Wed Sep 28 21:17:47 +0000 2022  1575233331943309339   \n",
       "1  Wed Sep 28 21:17:46 +0000 2022  1575233327329574924   \n",
       "2  Wed Sep 28 21:17:44 +0000 2022  1575233321063292928   \n",
       "3  Wed Sep 28 21:10:00 +0000 2022  1575231372490309658   \n",
       "4  Wed Sep 28 21:03:05 +0000 2022  1575229631912869894   \n",
       "\n",
       "                                                text  \n",
       "0  Morning mail: hurricane with 240km/h winds hit...  \n",
       "1  R Kelly ordered to pay restitution of $300,000...  \n",
       "2  Two aircraft involved in ‘minor collision’ on ...  \n",
       "3  We’re keen to hear from people who have recent...  \n",
       "4  Guardian front page, Thursday 29 September 202...  "
      ]
     },
     "execution_count": 6,
     "metadata": {},
     "output_type": "execute_result"
    }
   ],
   "source": [
    "twitter_df.head()"
   ]
  }
 ],
 "metadata": {
  "kernelspec": {
   "display_name": "Python 3.9.13 ('b-thesis')",
   "language": "python",
   "name": "python3"
  },
  "language_info": {
   "codemirror_mode": {
    "name": "ipython",
    "version": 3
   },
   "file_extension": ".py",
   "mimetype": "text/x-python",
   "name": "python",
   "nbconvert_exporter": "python",
   "pygments_lexer": "ipython3",
   "version": "3.9.13"
  },
  "orig_nbformat": 4,
  "vscode": {
   "interpreter": {
    "hash": "6cc34f913a7f1ca55160808e1759ac312dd0ad5ecfa942c36b2d3d154b205193"
   }
  }
 },
 "nbformat": 4,
 "nbformat_minor": 2
}
