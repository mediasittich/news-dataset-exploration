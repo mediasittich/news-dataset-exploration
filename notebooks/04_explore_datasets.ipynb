{
 "cells": [
  {
   "cell_type": "markdown",
   "metadata": {},
   "source": [
    "# Setup"
   ]
  },
  {
   "cell_type": "code",
   "execution_count": 1,
   "metadata": {},
   "outputs": [],
   "source": [
    "import os\n",
    "import glob\n",
    "import json\n",
    "import re\n",
    "\n",
    "import pandas as pd\n",
    "\n",
    "import matplotlib.pyplot as plt\n",
    "\n",
    "from w3lib.html import remove_tags\n",
    "# Notebook settings\n",
    "import warnings\n",
    "warnings.filterwarnings('ignore')"
   ]
  },
  {
   "cell_type": "markdown",
   "metadata": {},
   "source": [
    "# New York Times Dataset"
   ]
  },
  {
   "cell_type": "code",
   "execution_count": 110,
   "metadata": {},
   "outputs": [
    {
     "data": {
      "text/html": [
       "<div>\n",
       "<style scoped>\n",
       "    .dataframe tbody tr th:only-of-type {\n",
       "        vertical-align: middle;\n",
       "    }\n",
       "\n",
       "    .dataframe tbody tr th {\n",
       "        vertical-align: top;\n",
       "    }\n",
       "\n",
       "    .dataframe thead th {\n",
       "        text-align: right;\n",
       "    }\n",
       "</style>\n",
       "<table border=\"1\" class=\"dataframe\">\n",
       "  <thead>\n",
       "    <tr style=\"text-align: right;\">\n",
       "      <th></th>\n",
       "      <th>headline</th>\n",
       "      <th>date</th>\n",
       "      <th>doc_type</th>\n",
       "      <th>material_type</th>\n",
       "      <th>section</th>\n",
       "      <th>keywords</th>\n",
       "      <th>word_count</th>\n",
       "      <th>abstract</th>\n",
       "      <th>snippet</th>\n",
       "      <th>lead_paragraph</th>\n",
       "    </tr>\n",
       "  </thead>\n",
       "  <tbody>\n",
       "    <tr>\n",
       "      <th>0</th>\n",
       "      <td>When the Doctor’s Notes Hurt Your Feelings</td>\n",
       "      <td>2021-10-01</td>\n",
       "      <td>article</td>\n",
       "      <td>News</td>\n",
       "      <td>Well</td>\n",
       "      <td>['Electronic Health Records', 'Doctors', 'inte...</td>\n",
       "      <td>1203</td>\n",
       "      <td>Are you a “poor historian,” “well nourished” o...</td>\n",
       "      <td>Are you a “poor historian,” “well nourished” o...</td>\n",
       "      <td>Have you ever been insulted by your own medica...</td>\n",
       "    </tr>\n",
       "    <tr>\n",
       "      <th>1</th>\n",
       "      <td>House Delays Vote on Infrastructure Bill as De...</td>\n",
       "      <td>2021-10-01</td>\n",
       "      <td>article</td>\n",
       "      <td>News</td>\n",
       "      <td>U.S.</td>\n",
       "      <td>['Infrastructure (Public Works)', 'American Jo...</td>\n",
       "      <td>1561</td>\n",
       "      <td>A liberal revolt left Democrats short of votes...</td>\n",
       "      <td>A liberal revolt left Democrats short of votes...</td>\n",
       "      <td>WASHINGTON — President Biden’s trillion-dollar...</td>\n",
       "    </tr>\n",
       "    <tr>\n",
       "      <th>2</th>\n",
       "      <td>Tirzah’s Genre-Less Pop Embraces the Beauty of...</td>\n",
       "      <td>2021-10-01</td>\n",
       "      <td>article</td>\n",
       "      <td>Review</td>\n",
       "      <td>Arts</td>\n",
       "      <td>['Music']</td>\n",
       "      <td>546</td>\n",
       "      <td>The British singer-songwriter’s new album, “Co...</td>\n",
       "      <td>The British singer-songwriter’s new album, “Co...</td>\n",
       "      <td>Some pop artists amplify familiar, universal f...</td>\n",
       "    </tr>\n",
       "    <tr>\n",
       "      <th>3</th>\n",
       "      <td>Senate Confirms Biden’s Pick to Lead the Burea...</td>\n",
       "      <td>2021-10-01</td>\n",
       "      <td>article</td>\n",
       "      <td>News</td>\n",
       "      <td>Climate</td>\n",
       "      <td>['Global Warming', 'Greenhouse Gas Emissions',...</td>\n",
       "      <td>641</td>\n",
       "      <td>After a party-line vote, Tracy Stone-Manning b...</td>\n",
       "      <td>After a party-line vote, Tracy Stone-Manning b...</td>\n",
       "      <td>WASHINGTON — The Senate narrowly approved Trac...</td>\n",
       "    </tr>\n",
       "    <tr>\n",
       "      <th>4</th>\n",
       "      <td>UMass Amherst Hires Cybersecurity Firm to Inve...</td>\n",
       "      <td>2021-10-01</td>\n",
       "      <td>article</td>\n",
       "      <td>News</td>\n",
       "      <td>Education</td>\n",
       "      <td>['Colleges and Universities', 'Discrimination'...</td>\n",
       "      <td>688</td>\n",
       "      <td>The university’s vice chancellor told students...</td>\n",
       "      <td>The university’s vice chancellor told students...</td>\n",
       "      <td>The University of Massachusetts Amherst has en...</td>\n",
       "    </tr>\n",
       "  </tbody>\n",
       "</table>\n",
       "</div>"
      ],
      "text/plain": [
       "                                            headline        date doc_type  \\\n",
       "0         When the Doctor’s Notes Hurt Your Feelings  2021-10-01  article   \n",
       "1  House Delays Vote on Infrastructure Bill as De...  2021-10-01  article   \n",
       "2  Tirzah’s Genre-Less Pop Embraces the Beauty of...  2021-10-01  article   \n",
       "3  Senate Confirms Biden’s Pick to Lead the Burea...  2021-10-01  article   \n",
       "4  UMass Amherst Hires Cybersecurity Firm to Inve...  2021-10-01  article   \n",
       "\n",
       "  material_type    section                                           keywords  \\\n",
       "0          News       Well  ['Electronic Health Records', 'Doctors', 'inte...   \n",
       "1          News       U.S.  ['Infrastructure (Public Works)', 'American Jo...   \n",
       "2        Review       Arts                                          ['Music']   \n",
       "3          News    Climate  ['Global Warming', 'Greenhouse Gas Emissions',...   \n",
       "4          News  Education  ['Colleges and Universities', 'Discrimination'...   \n",
       "\n",
       "   word_count                                           abstract  \\\n",
       "0        1203  Are you a “poor historian,” “well nourished” o...   \n",
       "1        1561  A liberal revolt left Democrats short of votes...   \n",
       "2         546  The British singer-songwriter’s new album, “Co...   \n",
       "3         641  After a party-line vote, Tracy Stone-Manning b...   \n",
       "4         688  The university’s vice chancellor told students...   \n",
       "\n",
       "                                             snippet  \\\n",
       "0  Are you a “poor historian,” “well nourished” o...   \n",
       "1  A liberal revolt left Democrats short of votes...   \n",
       "2  The British singer-songwriter’s new album, “Co...   \n",
       "3  After a party-line vote, Tracy Stone-Manning b...   \n",
       "4  The university’s vice chancellor told students...   \n",
       "\n",
       "                                      lead_paragraph  \n",
       "0  Have you ever been insulted by your own medica...  \n",
       "1  WASHINGTON — President Biden’s trillion-dollar...  \n",
       "2  Some pop artists amplify familiar, universal f...  \n",
       "3  WASHINGTON — The Senate narrowly approved Trac...  \n",
       "4  The University of Massachusetts Amherst has en...  "
      ]
     },
     "execution_count": 110,
     "metadata": {},
     "output_type": "execute_result"
    }
   ],
   "source": [
    "# Load one file\n",
    "nyt_2021_10_df = pd.read_csv('../data/raw/nyt_headlines/nyt_2021-10.csv')\n",
    "nyt_2021_10_df.head()"
   ]
  },
  {
   "cell_type": "code",
   "execution_count": 111,
   "metadata": {},
   "outputs": [
    {
     "name": "stdout",
     "output_type": "stream",
     "text": [
      "<class 'pandas.core.frame.DataFrame'>\n",
      "RangeIndex: 4254 entries, 0 to 4253\n",
      "Data columns (total 10 columns):\n",
      " #   Column          Non-Null Count  Dtype \n",
      "---  ------          --------------  ----- \n",
      " 0   headline        4254 non-null   object\n",
      " 1   date            4254 non-null   object\n",
      " 2   doc_type        4254 non-null   object\n",
      " 3   material_type   4250 non-null   object\n",
      " 4   section         4254 non-null   object\n",
      " 5   keywords        4254 non-null   object\n",
      " 6   word_count      4254 non-null   int64 \n",
      " 7   abstract        4253 non-null   object\n",
      " 8   snippet         4208 non-null   object\n",
      " 9   lead_paragraph  4236 non-null   object\n",
      "dtypes: int64(1), object(9)\n",
      "memory usage: 332.5+ KB\n"
     ]
    }
   ],
   "source": [
    "nyt_2021_10_df.info()"
   ]
  },
  {
   "cell_type": "code",
   "execution_count": 68,
   "metadata": {},
   "outputs": [
    {
     "name": "stdout",
     "output_type": "stream",
     "text": [
      "count        4254\n",
      "unique          3\n",
      "top       article\n",
      "freq         3978\n",
      "Name: doc_type, dtype: object\n",
      "['article' 'multimedia' 'audio']\n",
      "article       3978\n",
      "multimedia     272\n",
      "audio            4\n",
      "Name: doc_type, dtype: int64\n"
     ]
    }
   ],
   "source": [
    "print(nyt_2021_10_df['doc_type'].describe())\n",
    "print(nyt_2021_10_df['doc_type'].unique())\n",
    "print(nyt_2021_10_df['doc_type'].value_counts())"
   ]
  },
  {
   "cell_type": "markdown",
   "metadata": {},
   "source": [
    "`doc_type`: There are three types of documents in the data. We're only interested in articles."
   ]
  },
  {
   "cell_type": "code",
   "execution_count": 112,
   "metadata": {},
   "outputs": [],
   "source": [
    "nyt_articles = nyt_2021_10_df[nyt_2021_10_df['doc_type'] == 'article']"
   ]
  },
  {
   "cell_type": "code",
   "execution_count": 113,
   "metadata": {},
   "outputs": [
    {
     "name": "stdout",
     "output_type": "stream",
     "text": [
      "count     3978\n",
      "unique      12\n",
      "top       News\n",
      "freq      3122\n",
      "Name: material_type, dtype: object\n",
      "['News' 'Review' 'briefing' 'Op-Ed' 'List' 'Letter' 'Obituary (Obit)'\n",
      " 'Correction' 'Editorial' 'Quote' 'News Analysis' 'Biography']\n",
      "News               3122\n",
      "Op-Ed               301\n",
      "Review              210\n",
      "briefing            130\n",
      "Obituary (Obit)      94\n",
      "Letter               53\n",
      "Quote                24\n",
      "Correction           20\n",
      "List                 10\n",
      "News Analysis         7\n",
      "Editorial             6\n",
      "Biography             1\n",
      "Name: material_type, dtype: int64\n"
     ]
    }
   ],
   "source": [
    "print(nyt_articles['material_type'].describe())\n",
    "print(nyt_articles['material_type'].unique())\n",
    "print(nyt_articles['material_type'].value_counts())"
   ]
  },
  {
   "cell_type": "markdown",
   "metadata": {},
   "source": [
    "Most articles belong to `matrial_type` *News*, the other categories can probably be discarded for our purposes."
   ]
  },
  {
   "cell_type": "code",
   "execution_count": 130,
   "metadata": {},
   "outputs": [],
   "source": [
    "nyt_news_articles = nyt_articles[nyt_articles['material_type'] == 'News']"
   ]
  },
  {
   "cell_type": "code",
   "execution_count": 132,
   "metadata": {},
   "outputs": [
    {
     "name": "stdout",
     "output_type": "stream",
     "text": [
      "count     3122\n",
      "unique      39\n",
      "top       U.S.\n",
      "freq       506\n",
      "Name: section, dtype: object\n",
      "['Well' 'U.S.' 'Climate' 'Education' 'Business Day' 'Science' 'Technology'\n",
      " 'World' 'Crosswords & Games' 'Style' 'The Learning Network' 'Arts'\n",
      " 'Today’s Paper' 'Corrections' 'Reader Center' 'New York' 'The Upshot'\n",
      " 'Fashion & Style' 'Real Estate' 'Sports' 'Podcasts' 'Theater'\n",
      " 'Your Money' 'T Magazine' 'Movies' 'Food' 'Books' 'At Home' 'Health'\n",
      " 'Times Insider' 'Travel' 'Briefing' 'Magazine' 'Parenting'\n",
      " 'Neediest Cases' 'Opinion' 'Automobiles' 'Special Series' 'Home & Garden']\n",
      "U.S.                    506\n",
      "World                   444\n",
      "Business Day            315\n",
      "Sports                  274\n",
      "Arts                    254\n",
      "Style                   153\n",
      "New York                152\n",
      "The Learning Network    108\n",
      "Technology               92\n",
      "Books                    92\n",
      "Food                     74\n",
      "Crosswords & Games       72\n",
      "Science                  65\n",
      "Real Estate              64\n",
      "Health                   63\n",
      "Movies                   50\n",
      "Magazine                 43\n",
      "Climate                  42\n",
      "T Magazine               38\n",
      "Podcasts                 36\n",
      "Well                     33\n",
      "Theater                  30\n",
      "Travel                   23\n",
      "Times Insider            15\n",
      "The Upshot               13\n",
      "Fashion & Style          12\n",
      "Your Money               11\n",
      "Corrections              10\n",
      "At Home                   9\n",
      "Today’s Paper             7\n",
      "Parenting                 5\n",
      "Neediest Cases            4\n",
      "Education                 3\n",
      "Opinion                   3\n",
      "Reader Center             2\n",
      "Home & Garden             2\n",
      "Briefing                  1\n",
      "Automobiles               1\n",
      "Special Series            1\n",
      "Name: section, dtype: int64\n"
     ]
    }
   ],
   "source": [
    "print(nyt_news_articles['section'].describe())\n",
    "print(nyt_news_articles['section'].unique())\n",
    "print(nyt_news_articles['section'].value_counts())"
   ]
  },
  {
   "cell_type": "code",
   "execution_count": 133,
   "metadata": {},
   "outputs": [],
   "source": [
    "nyt_news_articles = nyt_news_articles.drop(['doc_type', 'material_type'], axis=1)"
   ]
  },
  {
   "cell_type": "code",
   "execution_count": 134,
   "metadata": {},
   "outputs": [
    {
     "data": {
      "text/html": [
       "<div>\n",
       "<style scoped>\n",
       "    .dataframe tbody tr th:only-of-type {\n",
       "        vertical-align: middle;\n",
       "    }\n",
       "\n",
       "    .dataframe tbody tr th {\n",
       "        vertical-align: top;\n",
       "    }\n",
       "\n",
       "    .dataframe thead th {\n",
       "        text-align: right;\n",
       "    }\n",
       "</style>\n",
       "<table border=\"1\" class=\"dataframe\">\n",
       "  <thead>\n",
       "    <tr style=\"text-align: right;\">\n",
       "      <th></th>\n",
       "      <th>headline</th>\n",
       "      <th>date</th>\n",
       "      <th>section</th>\n",
       "      <th>keywords</th>\n",
       "      <th>word_count</th>\n",
       "      <th>abstract</th>\n",
       "      <th>snippet</th>\n",
       "      <th>lead_paragraph</th>\n",
       "    </tr>\n",
       "  </thead>\n",
       "  <tbody>\n",
       "    <tr>\n",
       "      <th>0</th>\n",
       "      <td>When the Doctor’s Notes Hurt Your Feelings</td>\n",
       "      <td>2021-10-01</td>\n",
       "      <td>Well</td>\n",
       "      <td>['Electronic Health Records', 'Doctors', 'inte...</td>\n",
       "      <td>1203</td>\n",
       "      <td>Are you a “poor historian,” “well nourished” o...</td>\n",
       "      <td>Are you a “poor historian,” “well nourished” o...</td>\n",
       "      <td>Have you ever been insulted by your own medica...</td>\n",
       "    </tr>\n",
       "    <tr>\n",
       "      <th>1</th>\n",
       "      <td>House Delays Vote on Infrastructure Bill as De...</td>\n",
       "      <td>2021-10-01</td>\n",
       "      <td>U.S.</td>\n",
       "      <td>['Infrastructure (Public Works)', 'American Jo...</td>\n",
       "      <td>1561</td>\n",
       "      <td>A liberal revolt left Democrats short of votes...</td>\n",
       "      <td>A liberal revolt left Democrats short of votes...</td>\n",
       "      <td>WASHINGTON — President Biden’s trillion-dollar...</td>\n",
       "    </tr>\n",
       "    <tr>\n",
       "      <th>3</th>\n",
       "      <td>Senate Confirms Biden’s Pick to Lead the Burea...</td>\n",
       "      <td>2021-10-01</td>\n",
       "      <td>Climate</td>\n",
       "      <td>['Global Warming', 'Greenhouse Gas Emissions',...</td>\n",
       "      <td>641</td>\n",
       "      <td>After a party-line vote, Tracy Stone-Manning b...</td>\n",
       "      <td>After a party-line vote, Tracy Stone-Manning b...</td>\n",
       "      <td>WASHINGTON — The Senate narrowly approved Trac...</td>\n",
       "    </tr>\n",
       "    <tr>\n",
       "      <th>4</th>\n",
       "      <td>UMass Amherst Hires Cybersecurity Firm to Inve...</td>\n",
       "      <td>2021-10-01</td>\n",
       "      <td>Education</td>\n",
       "      <td>['Colleges and Universities', 'Discrimination'...</td>\n",
       "      <td>688</td>\n",
       "      <td>The university’s vice chancellor told students...</td>\n",
       "      <td>The university’s vice chancellor told students...</td>\n",
       "      <td>The University of Massachusetts Amherst has en...</td>\n",
       "    </tr>\n",
       "    <tr>\n",
       "      <th>5</th>\n",
       "      <td>‘Everything Going the Wrong Way’: Dollar Store...</td>\n",
       "      <td>2021-10-01</td>\n",
       "      <td>Business Day</td>\n",
       "      <td>['Shopping and Retail', 'Wages and Salaries', ...</td>\n",
       "      <td>1596</td>\n",
       "      <td>Their business model is being tested by worker...</td>\n",
       "      <td>Their business model is being tested by worker...</td>\n",
       "      <td>Sandra Beadling was fed up with the 70-hour wo...</td>\n",
       "    </tr>\n",
       "  </tbody>\n",
       "</table>\n",
       "</div>"
      ],
      "text/plain": [
       "                                            headline        date  \\\n",
       "0         When the Doctor’s Notes Hurt Your Feelings  2021-10-01   \n",
       "1  House Delays Vote on Infrastructure Bill as De...  2021-10-01   \n",
       "3  Senate Confirms Biden’s Pick to Lead the Burea...  2021-10-01   \n",
       "4  UMass Amherst Hires Cybersecurity Firm to Inve...  2021-10-01   \n",
       "5  ‘Everything Going the Wrong Way’: Dollar Store...  2021-10-01   \n",
       "\n",
       "        section                                           keywords  \\\n",
       "0          Well  ['Electronic Health Records', 'Doctors', 'inte...   \n",
       "1          U.S.  ['Infrastructure (Public Works)', 'American Jo...   \n",
       "3       Climate  ['Global Warming', 'Greenhouse Gas Emissions',...   \n",
       "4     Education  ['Colleges and Universities', 'Discrimination'...   \n",
       "5  Business Day  ['Shopping and Retail', 'Wages and Salaries', ...   \n",
       "\n",
       "   word_count                                           abstract  \\\n",
       "0        1203  Are you a “poor historian,” “well nourished” o...   \n",
       "1        1561  A liberal revolt left Democrats short of votes...   \n",
       "3         641  After a party-line vote, Tracy Stone-Manning b...   \n",
       "4         688  The university’s vice chancellor told students...   \n",
       "5        1596  Their business model is being tested by worker...   \n",
       "\n",
       "                                             snippet  \\\n",
       "0  Are you a “poor historian,” “well nourished” o...   \n",
       "1  A liberal revolt left Democrats short of votes...   \n",
       "3  After a party-line vote, Tracy Stone-Manning b...   \n",
       "4  The university’s vice chancellor told students...   \n",
       "5  Their business model is being tested by worker...   \n",
       "\n",
       "                                      lead_paragraph  \n",
       "0  Have you ever been insulted by your own medica...  \n",
       "1  WASHINGTON — President Biden’s trillion-dollar...  \n",
       "3  WASHINGTON — The Senate narrowly approved Trac...  \n",
       "4  The University of Massachusetts Amherst has en...  \n",
       "5  Sandra Beadling was fed up with the 70-hour wo...  "
      ]
     },
     "execution_count": 134,
     "metadata": {},
     "output_type": "execute_result"
    }
   ],
   "source": [
    "nyt_news_articles.head()"
   ]
  },
  {
   "cell_type": "markdown",
   "metadata": {},
   "source": [
    "Text columns:\n",
    "\n",
    "- `headline`: title of th article   \n",
    "- `abstract`: summary of the article  \n",
    "- `snippet`: excerpt of the article, looks to be the same as abstract  \n",
    "- `lead_paragraph`: first paragraph of the article"
   ]
  },
  {
   "cell_type": "code",
   "execution_count": 135,
   "metadata": {},
   "outputs": [],
   "source": [
    "# Difference between abstract and snippet\n",
    "nyt_news_articles['abstract_eq_snippet'] = nyt_news_articles.apply(lambda x: x['abstract'] == x['snippet'], axis=1)"
   ]
  },
  {
   "cell_type": "code",
   "execution_count": 136,
   "metadata": {},
   "outputs": [
    {
     "data": {
      "text/plain": [
       "count     3122\n",
       "unique       2\n",
       "top       True\n",
       "freq      3075\n",
       "Name: abstract_eq_snippet, dtype: object"
      ]
     },
     "execution_count": 136,
     "metadata": {},
     "output_type": "execute_result"
    }
   ],
   "source": [
    "nyt_news_articles['abstract_eq_snippet'].describe()"
   ]
  },
  {
   "cell_type": "code",
   "execution_count": 137,
   "metadata": {},
   "outputs": [
    {
     "name": "stdout",
     "output_type": "stream",
     "text": [
      "<class 'pandas.core.frame.DataFrame'>\n",
      "Int64Index: 47 entries, 70 to 4184\n",
      "Data columns (total 9 columns):\n",
      " #   Column               Non-Null Count  Dtype \n",
      "---  ------               --------------  ----- \n",
      " 0   headline             47 non-null     object\n",
      " 1   date                 47 non-null     object\n",
      " 2   section              47 non-null     object\n",
      " 3   keywords             47 non-null     object\n",
      " 4   word_count           47 non-null     int64 \n",
      " 5   abstract             47 non-null     object\n",
      " 6   snippet              2 non-null      object\n",
      " 7   lead_paragraph       47 non-null     object\n",
      " 8   abstract_eq_snippet  47 non-null     bool  \n",
      "dtypes: bool(1), int64(1), object(7)\n",
      "memory usage: 3.4+ KB\n"
     ]
    }
   ],
   "source": [
    "nyt_news_articles[nyt_news_articles['abstract_eq_snippet'] == False].info()"
   ]
  },
  {
   "cell_type": "markdown",
   "metadata": {},
   "source": [
    "There are 47 cases where abstract and snippet are different."
   ]
  },
  {
   "cell_type": "code",
   "execution_count": 138,
   "metadata": {},
   "outputs": [
    {
     "data": {
      "text/html": [
       "<div>\n",
       "<style scoped>\n",
       "    .dataframe tbody tr th:only-of-type {\n",
       "        vertical-align: middle;\n",
       "    }\n",
       "\n",
       "    .dataframe tbody tr th {\n",
       "        vertical-align: top;\n",
       "    }\n",
       "\n",
       "    .dataframe thead th {\n",
       "        text-align: right;\n",
       "    }\n",
       "</style>\n",
       "<table border=\"1\" class=\"dataframe\">\n",
       "  <thead>\n",
       "    <tr style=\"text-align: right;\">\n",
       "      <th></th>\n",
       "      <th>headline</th>\n",
       "      <th>date</th>\n",
       "      <th>section</th>\n",
       "      <th>keywords</th>\n",
       "      <th>word_count</th>\n",
       "      <th>abstract</th>\n",
       "      <th>snippet</th>\n",
       "      <th>lead_paragraph</th>\n",
       "      <th>abstract_eq_snippet</th>\n",
       "    </tr>\n",
       "  </thead>\n",
       "  <tbody>\n",
       "    <tr>\n",
       "      <th>0</th>\n",
       "      <td>When the Doctor’s Notes Hurt Your Feelings</td>\n",
       "      <td>2021-10-01</td>\n",
       "      <td>Well</td>\n",
       "      <td>['Electronic Health Records', 'Doctors', 'inte...</td>\n",
       "      <td>1203</td>\n",
       "      <td>Are you a “poor historian,” “well nourished” o...</td>\n",
       "      <td>Are you a “poor historian,” “well nourished” o...</td>\n",
       "      <td>Have you ever been insulted by your own medica...</td>\n",
       "      <td>True</td>\n",
       "    </tr>\n",
       "    <tr>\n",
       "      <th>1</th>\n",
       "      <td>House Delays Vote on Infrastructure Bill as De...</td>\n",
       "      <td>2021-10-01</td>\n",
       "      <td>U.S.</td>\n",
       "      <td>['Infrastructure (Public Works)', 'American Jo...</td>\n",
       "      <td>1561</td>\n",
       "      <td>A liberal revolt left Democrats short of votes...</td>\n",
       "      <td>A liberal revolt left Democrats short of votes...</td>\n",
       "      <td>WASHINGTON — President Biden’s trillion-dollar...</td>\n",
       "      <td>True</td>\n",
       "    </tr>\n",
       "    <tr>\n",
       "      <th>3</th>\n",
       "      <td>Senate Confirms Biden’s Pick to Lead the Burea...</td>\n",
       "      <td>2021-10-01</td>\n",
       "      <td>Climate</td>\n",
       "      <td>['Global Warming', 'Greenhouse Gas Emissions',...</td>\n",
       "      <td>641</td>\n",
       "      <td>After a party-line vote, Tracy Stone-Manning b...</td>\n",
       "      <td>After a party-line vote, Tracy Stone-Manning b...</td>\n",
       "      <td>WASHINGTON — The Senate narrowly approved Trac...</td>\n",
       "      <td>True</td>\n",
       "    </tr>\n",
       "    <tr>\n",
       "      <th>4</th>\n",
       "      <td>UMass Amherst Hires Cybersecurity Firm to Inve...</td>\n",
       "      <td>2021-10-01</td>\n",
       "      <td>Education</td>\n",
       "      <td>['Colleges and Universities', 'Discrimination'...</td>\n",
       "      <td>688</td>\n",
       "      <td>The university’s vice chancellor told students...</td>\n",
       "      <td>The university’s vice chancellor told students...</td>\n",
       "      <td>The University of Massachusetts Amherst has en...</td>\n",
       "      <td>True</td>\n",
       "    </tr>\n",
       "    <tr>\n",
       "      <th>5</th>\n",
       "      <td>‘Everything Going the Wrong Way’: Dollar Store...</td>\n",
       "      <td>2021-10-01</td>\n",
       "      <td>Business Day</td>\n",
       "      <td>['Shopping and Retail', 'Wages and Salaries', ...</td>\n",
       "      <td>1596</td>\n",
       "      <td>Their business model is being tested by worker...</td>\n",
       "      <td>Their business model is being tested by worker...</td>\n",
       "      <td>Sandra Beadling was fed up with the 70-hour wo...</td>\n",
       "      <td>True</td>\n",
       "    </tr>\n",
       "  </tbody>\n",
       "</table>\n",
       "</div>"
      ],
      "text/plain": [
       "                                            headline        date  \\\n",
       "0         When the Doctor’s Notes Hurt Your Feelings  2021-10-01   \n",
       "1  House Delays Vote on Infrastructure Bill as De...  2021-10-01   \n",
       "3  Senate Confirms Biden’s Pick to Lead the Burea...  2021-10-01   \n",
       "4  UMass Amherst Hires Cybersecurity Firm to Inve...  2021-10-01   \n",
       "5  ‘Everything Going the Wrong Way’: Dollar Store...  2021-10-01   \n",
       "\n",
       "        section                                           keywords  \\\n",
       "0          Well  ['Electronic Health Records', 'Doctors', 'inte...   \n",
       "1          U.S.  ['Infrastructure (Public Works)', 'American Jo...   \n",
       "3       Climate  ['Global Warming', 'Greenhouse Gas Emissions',...   \n",
       "4     Education  ['Colleges and Universities', 'Discrimination'...   \n",
       "5  Business Day  ['Shopping and Retail', 'Wages and Salaries', ...   \n",
       "\n",
       "   word_count                                           abstract  \\\n",
       "0        1203  Are you a “poor historian,” “well nourished” o...   \n",
       "1        1561  A liberal revolt left Democrats short of votes...   \n",
       "3         641  After a party-line vote, Tracy Stone-Manning b...   \n",
       "4         688  The university’s vice chancellor told students...   \n",
       "5        1596  Their business model is being tested by worker...   \n",
       "\n",
       "                                             snippet  \\\n",
       "0  Are you a “poor historian,” “well nourished” o...   \n",
       "1  A liberal revolt left Democrats short of votes...   \n",
       "3  After a party-line vote, Tracy Stone-Manning b...   \n",
       "4  The university’s vice chancellor told students...   \n",
       "5  Their business model is being tested by worker...   \n",
       "\n",
       "                                      lead_paragraph  abstract_eq_snippet  \n",
       "0  Have you ever been insulted by your own medica...                 True  \n",
       "1  WASHINGTON — President Biden’s trillion-dollar...                 True  \n",
       "3  WASHINGTON — The Senate narrowly approved Trac...                 True  \n",
       "4  The University of Massachusetts Amherst has en...                 True  \n",
       "5  Sandra Beadling was fed up with the 70-hour wo...                 True  "
      ]
     },
     "execution_count": 138,
     "metadata": {},
     "output_type": "execute_result"
    }
   ],
   "source": [
    "nyt_news_articles.head()"
   ]
  },
  {
   "cell_type": "code",
   "execution_count": 139,
   "metadata": {},
   "outputs": [
    {
     "data": {
      "text/html": [
       "<div>\n",
       "<style scoped>\n",
       "    .dataframe tbody tr th:only-of-type {\n",
       "        vertical-align: middle;\n",
       "    }\n",
       "\n",
       "    .dataframe tbody tr th {\n",
       "        vertical-align: top;\n",
       "    }\n",
       "\n",
       "    .dataframe thead th {\n",
       "        text-align: right;\n",
       "    }\n",
       "</style>\n",
       "<table border=\"1\" class=\"dataframe\">\n",
       "  <thead>\n",
       "    <tr style=\"text-align: right;\">\n",
       "      <th></th>\n",
       "      <th>headline</th>\n",
       "      <th>date</th>\n",
       "      <th>section</th>\n",
       "      <th>keywords</th>\n",
       "      <th>word_count</th>\n",
       "      <th>abstract</th>\n",
       "      <th>snippet</th>\n",
       "      <th>lead_paragraph</th>\n",
       "      <th>abstract_eq_snippet</th>\n",
       "    </tr>\n",
       "  </thead>\n",
       "  <tbody>\n",
       "    <tr>\n",
       "      <th>70</th>\n",
       "      <td>Covid cases hit records in South Korea and Sin...</td>\n",
       "      <td>2021-10-01</td>\n",
       "      <td>World</td>\n",
       "      <td>[]</td>\n",
       "      <td>440</td>\n",
       "      <td>As countries in Asia accelerate their vaccinat...</td>\n",
       "      <td>NaN</td>\n",
       "      <td>As countries in Asia accelerate their vaccinat...</td>\n",
       "      <td>False</td>\n",
       "    </tr>\n",
       "    <tr>\n",
       "      <th>385</th>\n",
       "      <td>Vaccination rates rise among teachers and othe...</td>\n",
       "      <td>2021-10-04</td>\n",
       "      <td>New York</td>\n",
       "      <td>[]</td>\n",
       "      <td>406</td>\n",
       "      <td>New York’s requirement that virtually everyone...</td>\n",
       "      <td>NaN</td>\n",
       "      <td>New York’s requirement that virtually everyone...</td>\n",
       "      <td>False</td>\n",
       "    </tr>\n",
       "    <tr>\n",
       "      <th>389</th>\n",
       "      <td>New Zealand abandons its goal of eliminating t...</td>\n",
       "      <td>2021-10-04</td>\n",
       "      <td>World</td>\n",
       "      <td>[]</td>\n",
       "      <td>607</td>\n",
       "      <td>Prime Minister Jacinda Ardern of New Zealand a...</td>\n",
       "      <td>NaN</td>\n",
       "      <td>Prime Minister Jacinda Ardern of New Zealand a...</td>\n",
       "      <td>False</td>\n",
       "    </tr>\n",
       "    <tr>\n",
       "      <th>394</th>\n",
       "      <td>Supply-chain snarls reach the book publishing ...</td>\n",
       "      <td>2021-10-04</td>\n",
       "      <td>World</td>\n",
       "      <td>[]</td>\n",
       "      <td>269</td>\n",
       "      <td>The churning disruption in the global supply c...</td>\n",
       "      <td>NaN</td>\n",
       "      <td>The churning disruption in the global supply c...</td>\n",
       "      <td>False</td>\n",
       "    </tr>\n",
       "    <tr>\n",
       "      <th>550</th>\n",
       "      <td>Fears of a ‘bottleneck recession’: How shortag...</td>\n",
       "      <td>2021-10-05</td>\n",
       "      <td>World</td>\n",
       "      <td>[]</td>\n",
       "      <td>195</td>\n",
       "      <td>In Germany, where one in four jobs depends on ...</td>\n",
       "      <td>NaN</td>\n",
       "      <td>In Germany, where one in four jobs depends on ...</td>\n",
       "      <td>False</td>\n",
       "    </tr>\n",
       "  </tbody>\n",
       "</table>\n",
       "</div>"
      ],
      "text/plain": [
       "                                              headline        date   section  \\\n",
       "70   Covid cases hit records in South Korea and Sin...  2021-10-01     World   \n",
       "385  Vaccination rates rise among teachers and othe...  2021-10-04  New York   \n",
       "389  New Zealand abandons its goal of eliminating t...  2021-10-04     World   \n",
       "394  Supply-chain snarls reach the book publishing ...  2021-10-04     World   \n",
       "550  Fears of a ‘bottleneck recession’: How shortag...  2021-10-05     World   \n",
       "\n",
       "    keywords  word_count                                           abstract  \\\n",
       "70        []         440  As countries in Asia accelerate their vaccinat...   \n",
       "385       []         406  New York’s requirement that virtually everyone...   \n",
       "389       []         607  Prime Minister Jacinda Ardern of New Zealand a...   \n",
       "394       []         269  The churning disruption in the global supply c...   \n",
       "550       []         195  In Germany, where one in four jobs depends on ...   \n",
       "\n",
       "    snippet                                     lead_paragraph  \\\n",
       "70      NaN  As countries in Asia accelerate their vaccinat...   \n",
       "385     NaN  New York’s requirement that virtually everyone...   \n",
       "389     NaN  Prime Minister Jacinda Ardern of New Zealand a...   \n",
       "394     NaN  The churning disruption in the global supply c...   \n",
       "550     NaN  In Germany, where one in four jobs depends on ...   \n",
       "\n",
       "     abstract_eq_snippet  \n",
       "70                 False  \n",
       "385                False  \n",
       "389                False  \n",
       "394                False  \n",
       "550                False  "
      ]
     },
     "execution_count": 139,
     "metadata": {},
     "output_type": "execute_result"
    }
   ],
   "source": [
    "nyt_news_articles[nyt_news_articles['abstract_eq_snippet'] == False].head()"
   ]
  },
  {
   "cell_type": "markdown",
   "metadata": {},
   "source": [
    "When abstract and snippet are different, in most cases it is due to missing values in snippet column."
   ]
  },
  {
   "cell_type": "code",
   "execution_count": 140,
   "metadata": {},
   "outputs": [],
   "source": [
    "# Drop snippet and abstract_eq_snippet columns\n",
    "nyt_news_articles.drop(['snippet', 'abstract_eq_snippet'], axis=1, inplace=True)"
   ]
  },
  {
   "cell_type": "code",
   "execution_count": 141,
   "metadata": {},
   "outputs": [
    {
     "data": {
      "text/html": [
       "<div>\n",
       "<style scoped>\n",
       "    .dataframe tbody tr th:only-of-type {\n",
       "        vertical-align: middle;\n",
       "    }\n",
       "\n",
       "    .dataframe tbody tr th {\n",
       "        vertical-align: top;\n",
       "    }\n",
       "\n",
       "    .dataframe thead th {\n",
       "        text-align: right;\n",
       "    }\n",
       "</style>\n",
       "<table border=\"1\" class=\"dataframe\">\n",
       "  <thead>\n",
       "    <tr style=\"text-align: right;\">\n",
       "      <th></th>\n",
       "      <th>headline</th>\n",
       "      <th>date</th>\n",
       "      <th>section</th>\n",
       "      <th>keywords</th>\n",
       "      <th>word_count</th>\n",
       "      <th>abstract</th>\n",
       "      <th>lead_paragraph</th>\n",
       "    </tr>\n",
       "  </thead>\n",
       "  <tbody>\n",
       "    <tr>\n",
       "      <th>0</th>\n",
       "      <td>When the Doctor’s Notes Hurt Your Feelings</td>\n",
       "      <td>2021-10-01</td>\n",
       "      <td>Well</td>\n",
       "      <td>['Electronic Health Records', 'Doctors', 'inte...</td>\n",
       "      <td>1203</td>\n",
       "      <td>Are you a “poor historian,” “well nourished” o...</td>\n",
       "      <td>Have you ever been insulted by your own medica...</td>\n",
       "    </tr>\n",
       "    <tr>\n",
       "      <th>1</th>\n",
       "      <td>House Delays Vote on Infrastructure Bill as De...</td>\n",
       "      <td>2021-10-01</td>\n",
       "      <td>U.S.</td>\n",
       "      <td>['Infrastructure (Public Works)', 'American Jo...</td>\n",
       "      <td>1561</td>\n",
       "      <td>A liberal revolt left Democrats short of votes...</td>\n",
       "      <td>WASHINGTON — President Biden’s trillion-dollar...</td>\n",
       "    </tr>\n",
       "    <tr>\n",
       "      <th>3</th>\n",
       "      <td>Senate Confirms Biden’s Pick to Lead the Burea...</td>\n",
       "      <td>2021-10-01</td>\n",
       "      <td>Climate</td>\n",
       "      <td>['Global Warming', 'Greenhouse Gas Emissions',...</td>\n",
       "      <td>641</td>\n",
       "      <td>After a party-line vote, Tracy Stone-Manning b...</td>\n",
       "      <td>WASHINGTON — The Senate narrowly approved Trac...</td>\n",
       "    </tr>\n",
       "    <tr>\n",
       "      <th>4</th>\n",
       "      <td>UMass Amherst Hires Cybersecurity Firm to Inve...</td>\n",
       "      <td>2021-10-01</td>\n",
       "      <td>Education</td>\n",
       "      <td>['Colleges and Universities', 'Discrimination'...</td>\n",
       "      <td>688</td>\n",
       "      <td>The university’s vice chancellor told students...</td>\n",
       "      <td>The University of Massachusetts Amherst has en...</td>\n",
       "    </tr>\n",
       "    <tr>\n",
       "      <th>5</th>\n",
       "      <td>‘Everything Going the Wrong Way’: Dollar Store...</td>\n",
       "      <td>2021-10-01</td>\n",
       "      <td>Business Day</td>\n",
       "      <td>['Shopping and Retail', 'Wages and Salaries', ...</td>\n",
       "      <td>1596</td>\n",
       "      <td>Their business model is being tested by worker...</td>\n",
       "      <td>Sandra Beadling was fed up with the 70-hour wo...</td>\n",
       "    </tr>\n",
       "  </tbody>\n",
       "</table>\n",
       "</div>"
      ],
      "text/plain": [
       "                                            headline        date  \\\n",
       "0         When the Doctor’s Notes Hurt Your Feelings  2021-10-01   \n",
       "1  House Delays Vote on Infrastructure Bill as De...  2021-10-01   \n",
       "3  Senate Confirms Biden’s Pick to Lead the Burea...  2021-10-01   \n",
       "4  UMass Amherst Hires Cybersecurity Firm to Inve...  2021-10-01   \n",
       "5  ‘Everything Going the Wrong Way’: Dollar Store...  2021-10-01   \n",
       "\n",
       "        section                                           keywords  \\\n",
       "0          Well  ['Electronic Health Records', 'Doctors', 'inte...   \n",
       "1          U.S.  ['Infrastructure (Public Works)', 'American Jo...   \n",
       "3       Climate  ['Global Warming', 'Greenhouse Gas Emissions',...   \n",
       "4     Education  ['Colleges and Universities', 'Discrimination'...   \n",
       "5  Business Day  ['Shopping and Retail', 'Wages and Salaries', ...   \n",
       "\n",
       "   word_count                                           abstract  \\\n",
       "0        1203  Are you a “poor historian,” “well nourished” o...   \n",
       "1        1561  A liberal revolt left Democrats short of votes...   \n",
       "3         641  After a party-line vote, Tracy Stone-Manning b...   \n",
       "4         688  The university’s vice chancellor told students...   \n",
       "5        1596  Their business model is being tested by worker...   \n",
       "\n",
       "                                      lead_paragraph  \n",
       "0  Have you ever been insulted by your own medica...  \n",
       "1  WASHINGTON — President Biden’s trillion-dollar...  \n",
       "3  WASHINGTON — The Senate narrowly approved Trac...  \n",
       "4  The University of Massachusetts Amherst has en...  \n",
       "5  Sandra Beadling was fed up with the 70-hour wo...  "
      ]
     },
     "execution_count": 141,
     "metadata": {},
     "output_type": "execute_result"
    }
   ],
   "source": [
    "nyt_news_articles.head()"
   ]
  },
  {
   "cell_type": "code",
   "execution_count": 148,
   "metadata": {},
   "outputs": [
    {
     "name": "stdout",
     "output_type": "stream",
     "text": [
      "When the Doctor’s Notes Hurt Your Feelings\n",
      "Are you a “poor historian,” “well nourished” or in need of a “time out”? As patients gain access to their own medical records, the notes left by doctors can sting.\n",
      "Have you ever been insulted by your own medical records?\n",
      "\n",
      "\n",
      "House Delays Vote on Infrastructure Bill as Democrats Feud\n",
      "A liberal revolt left Democrats short of votes, but leaders insisted they would bring up the measure again on Friday, giving them more time to reach a deal on a separate climate and safety net bill.\n",
      "WASHINGTON — President Biden’s trillion-dollar bipartisan infrastructure plan suffered a significant setback late Thursday night when House Democratic leaders, short of support amid a liberal revolt, put off a planned vote on a crucial plank of their domestic agenda.\n",
      "\n",
      "\n",
      "Senate Confirms Biden’s Pick to Lead the Bureau of Land Management\n",
      "After a party-line vote, Tracy Stone-Manning became the leader of an agency that manages oil and gas drilling on public lands.\n",
      "WASHINGTON — The Senate narrowly approved Tracy Stone-Manning on Thursday to lead the Bureau of Land Management, capping months of efforts by Republican lawmakers to block her confirmation because of her connection to a decades-old tree spiking incident.\n",
      "\n",
      "\n"
     ]
    }
   ],
   "source": [
    "for i in range(3):\n",
    "    print(nyt_news_articles.iloc[i]['headline'])\n",
    "    print(nyt_news_articles.iloc[i]['abstract'])\n",
    "    print(nyt_news_articles.iloc[i]['lead_paragraph'])\n",
    "    print('\\n')"
   ]
  },
  {
   "cell_type": "markdown",
   "metadata": {},
   "source": [
    "The lead_paragraph is really only an intro to the full text, the abstract seems to be the better summary."
   ]
  },
  {
   "cell_type": "code",
   "execution_count": 149,
   "metadata": {},
   "outputs": [],
   "source": [
    "nyt_news_articles = nyt_news_articles.drop(['lead_paragraph'], axis=1)"
   ]
  },
  {
   "cell_type": "code",
   "execution_count": 150,
   "metadata": {},
   "outputs": [
    {
     "data": {
      "text/plain": [
       "count     3122.000000\n",
       "mean       986.676169\n",
       "std        658.024050\n",
       "min          0.000000\n",
       "25%        563.250000\n",
       "50%        940.000000\n",
       "75%       1284.000000\n",
       "max      10220.000000\n",
       "Name: word_count, dtype: float64"
      ]
     },
     "execution_count": 150,
     "metadata": {},
     "output_type": "execute_result"
    }
   ],
   "source": [
    "nyt_news_articles['word_count'].describe()"
   ]
  },
  {
   "cell_type": "code",
   "execution_count": 151,
   "metadata": {},
   "outputs": [
    {
     "data": {
      "text/html": [
       "<div>\n",
       "<style scoped>\n",
       "    .dataframe tbody tr th:only-of-type {\n",
       "        vertical-align: middle;\n",
       "    }\n",
       "\n",
       "    .dataframe tbody tr th {\n",
       "        vertical-align: top;\n",
       "    }\n",
       "\n",
       "    .dataframe thead th {\n",
       "        text-align: right;\n",
       "    }\n",
       "</style>\n",
       "<table border=\"1\" class=\"dataframe\">\n",
       "  <thead>\n",
       "    <tr style=\"text-align: right;\">\n",
       "      <th></th>\n",
       "      <th>headline</th>\n",
       "      <th>date</th>\n",
       "      <th>section</th>\n",
       "      <th>keywords</th>\n",
       "      <th>word_count</th>\n",
       "      <th>abstract</th>\n",
       "    </tr>\n",
       "  </thead>\n",
       "  <tbody>\n",
       "    <tr>\n",
       "      <th>1547</th>\n",
       "      <td>The Return of the Monogrammed Carryall</td>\n",
       "      <td>2021-10-12</td>\n",
       "      <td>T Magazine</td>\n",
       "      <td>['Leather and Leather Goods', 'Fashion and App...</td>\n",
       "      <td>0</td>\n",
       "      <td>This season, the most sought-after briefcases,...</td>\n",
       "    </tr>\n",
       "  </tbody>\n",
       "</table>\n",
       "</div>"
      ],
      "text/plain": [
       "                                    headline        date     section  \\\n",
       "1547  The Return of the Monogrammed Carryall  2021-10-12  T Magazine   \n",
       "\n",
       "                                               keywords  word_count  \\\n",
       "1547  ['Leather and Leather Goods', 'Fashion and App...           0   \n",
       "\n",
       "                                               abstract  \n",
       "1547  This season, the most sought-after briefcases,...  "
      ]
     },
     "execution_count": 151,
     "metadata": {},
     "output_type": "execute_result"
    }
   ],
   "source": [
    "nyt_news_articles[nyt_news_articles['word_count'] == 0]"
   ]
  },
  {
   "cell_type": "code",
   "execution_count": 144,
   "metadata": {},
   "outputs": [
    {
     "data": {
      "image/png": "[encoded data removed]",
      "text/plain": [
       "<Figure size 640x480 with 1 Axes>"
      ]
     },
     "metadata": {},
     "output_type": "display_data"
    }
   ],
   "source": [
    "plt.hist(nyt_news_articles['word_count'], bins=100)\n",
    "plt.xlabel('Word count')\n",
    "plt.ylabel('Frequency')\n",
    "plt.title('Histogram of Word Counts in NYT Articles')\n",
    "plt.show()"
   ]
  },
  {
   "cell_type": "code",
   "execution_count": 168,
   "metadata": {},
   "outputs": [],
   "source": [
    "nyt_news_articles.reset_index(drop=True, inplace=True)"
   ]
  },
  {
   "cell_type": "code",
   "execution_count": 170,
   "metadata": {},
   "outputs": [
    {
     "name": "stdout",
     "output_type": "stream",
     "text": [
      "<class 'pandas.core.frame.DataFrame'>\n",
      "RangeIndex: 3122 entries, 0 to 3121\n",
      "Data columns (total 6 columns):\n",
      " #   Column      Non-Null Count  Dtype \n",
      "---  ------      --------------  ----- \n",
      " 0   headline    3122 non-null   object\n",
      " 1   date        3122 non-null   object\n",
      " 2   section     3122 non-null   object\n",
      " 3   keywords    3122 non-null   object\n",
      " 4   word_count  3122 non-null   int64 \n",
      " 5   abstract    3122 non-null   object\n",
      "dtypes: int64(1), object(5)\n",
      "memory usage: 146.5+ KB\n"
     ]
    }
   ],
   "source": [
    "nyt_news_articles.info()"
   ]
  },
  {
   "cell_type": "code",
   "execution_count": 152,
   "metadata": {},
   "outputs": [
    {
     "data": {
      "text/plain": [
       "Index(['headline', 'date', 'section', 'keywords', 'word_count', 'abstract'], dtype='object')"
      ]
     },
     "execution_count": 152,
     "metadata": {},
     "output_type": "execute_result"
    }
   ],
   "source": [
    "nyt_news_articles.columns"
   ]
  },
  {
   "cell_type": "code",
   "execution_count": 153,
   "metadata": {},
   "outputs": [
    {
     "data": {
      "text/plain": [
       "Index(['headline', 'date', 'doc_type', 'material_type', 'section', 'keywords',\n",
       "       'word_count', 'abstract', 'snippet', 'lead_paragraph'],\n",
       "      dtype='object')"
      ]
     },
     "execution_count": 153,
     "metadata": {},
     "output_type": "execute_result"
    }
   ],
   "source": [
    "nyt_2021_10_df.columns"
   ]
  },
  {
   "cell_type": "markdown",
   "metadata": {},
   "source": [
    "# Guardian Dataset"
   ]
  },
  {
   "cell_type": "code",
   "execution_count": 2,
   "metadata": {},
   "outputs": [],
   "source": [
    "# Load Guardian data\n",
    "files_gu = glob.glob('../data/raw/guardian/*.json')"
   ]
  },
  {
   "cell_type": "code",
   "execution_count": 3,
   "metadata": {},
   "outputs": [
    {
     "data": {
      "text/plain": [
       "['../data/raw/guardian/ga_2022-03-27_2022-04-26.json',\n",
       " '../data/raw/guardian/ga_2021-09-27_2021-10-26.json',\n",
       " '../data/raw/guardian/ga_2022-05-27_2022-06-26.json',\n",
       " '../data/raw/guardian/ga_2022-06-27_2022-07-26.json',\n",
       " '../data/raw/guardian/ga_2021-11-27_2021-12-26.json',\n",
       " '../data/raw/guardian/ga_2022-07-27_2022-08-26.json',\n",
       " '../data/raw/guardian/ga_2022-02-27_2022-03-26.json',\n",
       " '../data/raw/guardian/ga_2022-01-27_2022-02-26.json',\n",
       " '../data/raw/guardian/ga_2022-08-27_2022-09-27.json',\n",
       " '../data/raw/guardian/ga_2021-10-27_2021-11-26.json',\n",
       " '../data/raw/guardian/ga_2021-12-27_2022-01-26.json',\n",
       " '../data/raw/guardian/ga_2022-04-27_2022-05-26.json']"
      ]
     },
     "execution_count": 3,
     "metadata": {},
     "output_type": "execute_result"
    }
   ],
   "source": [
    "files_gu"
   ]
  },
  {
   "cell_type": "code",
   "execution_count": 4,
   "metadata": {},
   "outputs": [],
   "source": [
    "f = open('../data/raw/guardian/ga_2022-03-27_2022-04-26.json')\n",
    "gu_data = json.load(f)\n",
    "f.close()"
   ]
  },
  {
   "cell_type": "code",
   "execution_count": 5,
   "metadata": {},
   "outputs": [
    {
     "data": {
      "text/plain": [
       "6586"
      ]
     },
     "execution_count": 5,
     "metadata": {},
     "output_type": "execute_result"
    }
   ],
   "source": [
    "len(gu_data)"
   ]
  },
  {
   "cell_type": "code",
   "execution_count": 6,
   "metadata": {},
   "outputs": [
    {
     "data": {
      "text/plain": [
       "{'id': 'seek-the-new-world-of-work-/2022/apr/27/why-2022-is-the-year-of-the-great-job-boom-and-what-you-need-to-know-about-it',\n",
       " 'type': 'article',\n",
       " 'sectionId': 'seek-the-new-world-of-work-',\n",
       " 'sectionName': 'Seek: The new world of work',\n",
       " 'webPublicationDate': '2022-04-26T23:39:50Z',\n",
       " 'webTitle': 'Why 2022 is the year of the ‘great job boom’ and what you need to know about it',\n",
       " 'webUrl': 'https://www.theguardian.com/seek-the-new-world-of-work-/2022/apr/27/why-2022-is-the-year-of-the-great-job-boom-and-what-you-need-to-know-about-it',\n",
       " 'apiUrl': 'https://content.guardianapis.com/seek-the-new-world-of-work-/2022/apr/27/why-2022-is-the-year-of-the-great-job-boom-and-what-you-need-to-know-about-it',\n",
       " 'fields': {'headline': 'Why 2022 is the year of the ‘great job boom’ and what you need to know about it',\n",
       "  'standfirst': '<p>The pandemic has changed global workforces. In Australia, it has put the power in the hands of jobseekers.</p>',\n",
       "  'trailText': 'The pandemic has changed global workforces. In Australia, it has put the power in the hands of jobseekers.',\n",
       "  'byline': '',\n",
       "  'main': '<figure class=\"element element-image\" data-media-id=\"ec9b76f1051026afbb2356b952c1e8c8ce941251\"> <img src=\"https://media.guim.co.uk/ec9b76f1051026afbb2356b952c1e8c8ce941251/0_0_2121_1414/1000.jpg\" alt=\"With more job openings and less competition, now is great time to search for your next role.\" width=\"1000\" height=\"667\" class=\"gu-image\" /> <figcaption> <span class=\"element-image__caption\">With more job openings and less competition, now is great time to search for your next role.</span> <span class=\"element-image__credit\">Photograph: VioletaStoimenova/Getty Images</span> </figcaption> </figure>',\n",
       "  'body': '<p>Australia’s job market is in the middle of a mighty shake-up. “There are currently more jobs on Seek than there ever have been, and we’ve been around for 25 years,” says Elyssia Clark, Seek’s head of customer insights and strategy.</p> <p>Right now, she says, there are more than 235,000 jobs advertised on the site: a 50.7% increase compared to March 2019, the year before the pandemic took hold, and a 32.2% increase on this time last year. “Over the past 12 months, we’ve seen the number of job ads grow significantly,” Clark says. “And the demand for workers is everywhere, across virtually all industries and professions.”</p> <p>As Clark sees it, “We’re in the midst of the great job boom”.</p> <h2>Why are job openings booming?</h2> <p>A few factors have contributed to this seismic shift. One is that Australia’s unemployment rate is low, and “when there are less people out of work, there tends to be less people looking for jobs”, Clark says.</p> <p>But the job boom is mostly a consequence of the pandemic. Border closures have led to fewer candidates coming to Australia for work, and fewer people moving interstate in search of new jobs. The psychological turmoil wrought by Covid has also meant that Australian workers are more inclined to stay put.</p> <p>That’s meant the amount of people applying for jobs has gone down. Applications per job ad are at their lowest level since 2011, Clark says.</p>  <figure class=\"element element-image\" data-media-id=\"349e7aa4e106d6afbf9c76982f83376c9101cbd4\"> <img src=\"https://media.guim.co.uk/349e7aa4e106d6afbf9c76982f83376c9101cbd4/0_0_2121_1414/1000.jpg\" alt=\"Happy metal worker greeting his new manager in steel mill.\" width=\"1000\" height=\"667\" class=\"gu-image\" /> </figure>  <ul> <li><p>The demand for workers is across virtually all industries and professions</p></li> </ul> <p>“Not only are there more opportunities than ever before, there is also less competition for roles. It’s certainly a jobseeker’s market at the moment, so if people are looking for better work-life balance, a bigger salary or maybe even a step up in their career, there has never been a better time. Jobseekers have more choice and more negotiation power.”</p> <h2>What does it mean for employees?</h2> <p>If you’ve been considering taking the leap into a more senior position, this may be the time to pounce. Your chances are especially strong if you work in one of the industries advertising the highest volume of jobs: healthcare and medical, hospitality and tourism, and manufacturing, transport and logistics. Trades and services, the industry with the most demand, has more than 25,000 roles advertised.</p> <p>Career coach Leah Lambart, who helps people land their dream jobs, says: “For industries that are used to bringing in staff from overseas, it’s definitely time for workers to look for opportunities to move up.”</p> <p>As Lambart sees it, 2022 is the year to snag a promotion, or move across to a competitor for a hefty pay rise.</p> <p>But even if you’re reluctant to switch gigs, you can still use the job boom to your advantage. This is a golden opportunity to negotiate a higher salary, a new role at your current company or better conditions – something many of us are due for after two years of the pandemic.</p> <p>“During the last couple of years, I’ve noticed a lot of people actually doing a lot more work than what’s in their position description,” Lambart says. “That’s often because companies have been under-resourced during Covid, which means employees are often taking on a lot more responsibility and working longer hours than they perhaps should be.</p>  <figure class=\"element element-image\" data-media-id=\"c4a94e1b9a6969954a42471e8ab25f877ac6175d\"> <img src=\"https://media.guim.co.uk/c4a94e1b9a6969954a42471e8ab25f877ac6175d/0_0_2120_1415/1000.jpg\" alt=\"Mid adult woman working at desk in office\" width=\"1000\" height=\"667\" class=\"gu-image\" /> </figure>  <ul> <li><p>Jobseekers currently have more choice and more negotiation power.</p></li> </ul> <p>“If that’s the case, they could easily document what they’re doing that’s above and beyond their position description to negotiate a pay rise”.</p> <h2>What’s the impact for employers?</h2> <p>On the flip side, the job boom means savvy employers will also need to prepare to ensure they can attract and retain the best talent.</p> <p>With the tables turning and the power shifting, Clark says employers need to be ready to communicate clearly and concisely why someone should consider working for them. She also recommends considering sign-on incentives to lure the best candidates, and emphasises the importance of a smooth, efficient, and quick recruitment process.</p> <p>“In this current market, the last thing you want to do is lose top talent to a lengthy and labour-intensive process as it’s likely your opportunity isn’t the only one they’re considering,” she says.</p> <p>Employers will also need to focus on retaining their current key players. “The conditions are appealing for staff to look at other opportunities, so ensure you’re keeping the communication with your team,” Clark says. “It may be worthwhile considering your stance and process on counter-offers in case your staff are being poached.”</p> <p>Whatever their approach, employers will need to raise the bar this year. With job ads up and applications per job ad down, there’s never been a better time for Australian professionals to throw their hat in the ring. In 2022, it’s jobseekers calling the shots.</p> <p><em><strong>For advice on negotiating your next opportunity during the great job boom visit <a href=\"https://www.seek.com.au/career-advice/?tracking=CPP-TGAIART-TheGuardianGreatJobBoom-30308&amp;utm_campaign=TheGuardianGreatJobBoom&amp;utm_source=TheGuardian&amp;utm_medium=Link&amp;utm_content=TheGuardianPartnerCampaign_Art1\" rel=\"nofollow\">Seek Career Advice</a></strong></em></p>',\n",
       "  'wordcount': '801',\n",
       "  'displayHint': 'photoEssay',\n",
       "  'firstPublicationDate': '2022-04-26T23:39:50Z',\n",
       "  'isInappropriateForSponsorship': 'false',\n",
       "  'isPremoderated': 'false',\n",
       "  'lastModified': '2022-05-12T06:55:42Z',\n",
       "  'productionOffice': 'AUS',\n",
       "  'publication': 'theguardian.com',\n",
       "  'shortUrl': 'https://www.theguardian.com/p/ya44j',\n",
       "  'shouldHideAdverts': 'false',\n",
       "  'showInRelatedContent': 'true',\n",
       "  'thumbnail': 'https://media.guim.co.uk/9f6b26af0a4ab397a2ce8eb9fe4473a3a6258d21/0_17_509_305/500.jpg',\n",
       "  'legallySensitive': 'false',\n",
       "  'lang': 'en',\n",
       "  'isLive': 'true',\n",
       "  'bodyText': 'Australia’s job market is in the middle of a mighty shake-up. “There are currently more jobs on Seek than there ever have been, and we’ve been around for 25 years,” says Elyssia Clark, Seek’s head of customer insights and strategy. Right now, she says, there are more than 235,000 jobs advertised on the site: a 50.7% increase compared to March 2019, the year before the pandemic took hold, and a 32.2% increase on this time last year. “Over the past 12 months, we’ve seen the number of job ads grow significantly,” Clark says. “And the demand for workers is everywhere, across virtually all industries and professions.” As Clark sees it, “We’re in the midst of the great job boom”. Why are job openings booming? A few factors have contributed to this seismic shift. One is that Australia’s unemployment rate is low, and “when there are less people out of work, there tends to be less people looking for jobs”, Clark says. But the job boom is mostly a consequence of the pandemic. Border closures have led to fewer candidates coming to Australia for work, and fewer people moving interstate in search of new jobs. The psychological turmoil wrought by Covid has also meant that Australian workers are more inclined to stay put. That’s meant the amount of people applying for jobs has gone down. Applications per job ad are at their lowest level since 2011, Clark says. The demand for workers is across virtually all industries and professions “Not only are there more opportunities than ever before, there is also less competition for roles. It’s certainly a jobseeker’s market at the moment, so if people are looking for better work-life balance, a bigger salary or maybe even a step up in their career, there has never been a better time. Jobseekers have more choice and more negotiation power.” What does it mean for employees? If you’ve been considering taking the leap into a more senior position, this may be the time to pounce. Your chances are especially strong if you work in one of the industries advertising the highest volume of jobs: healthcare and medical, hospitality and tourism, and manufacturing, transport and logistics. Trades and services, the industry with the most demand, has more than 25,000 roles advertised. Career coach Leah Lambart, who helps people land their dream jobs, says: “For industries that are used to bringing in staff from overseas, it’s definitely time for workers to look for opportunities to move up.” As Lambart sees it, 2022 is the year to snag a promotion, or move across to a competitor for a hefty pay rise. But even if you’re reluctant to switch gigs, you can still use the job boom to your advantage. This is a golden opportunity to negotiate a higher salary, a new role at your current company or better conditions – something many of us are due for after two years of the pandemic. “During the last couple of years, I’ve noticed a lot of people actually doing a lot more work than what’s in their position description,” Lambart says. “That’s often because companies have been under-resourced during Covid, which means employees are often taking on a lot more responsibility and working longer hours than they perhaps should be. Jobseekers currently have more choice and more negotiation power. “If that’s the case, they could easily document what they’re doing that’s above and beyond their position description to negotiate a pay rise”. What’s the impact for employers? On the flip side, the job boom means savvy employers will also need to prepare to ensure they can attract and retain the best talent. With the tables turning and the power shifting, Clark says employers need to be ready to communicate clearly and concisely why someone should consider working for them. She also recommends considering sign-on incentives to lure the best candidates, and emphasises the importance of a smooth, efficient, and quick recruitment process. “In this current market, the last thing you want to do is lose top talent to a lengthy and labour-intensive process as it’s likely your opportunity isn’t the only one they’re considering,” she says. Employers will also need to focus on retaining their current key players. “The conditions are appealing for staff to look at other opportunities, so ensure you’re keeping the communication with your team,” Clark says. “It may be worthwhile considering your stance and process on counter-offers in case your staff are being poached.” Whatever their approach, employers will need to raise the bar this year. With job ads up and applications per job ad down, there’s never been a better time for Australian professionals to throw their hat in the ring. In 2022, it’s jobseekers calling the shots. For advice on negotiating your next opportunity during the great job boom visit Seek Career Advice',\n",
       "  'charCount': '4782',\n",
       "  'shouldHideReaderRevenue': 'false',\n",
       "  'showAffiliateLinks': 'false',\n",
       "  'bylineHtml': ''},\n",
       " 'tags': [{'id': 'seek-the-new-world-of-work-/seek-the-new-world-of-work-',\n",
       "   'type': 'paid-content',\n",
       "   'webTitle': 'Seek: The new world of work',\n",
       "   'webUrl': 'https://www.theguardian.com/seek-the-new-world-of-work-/seek-the-new-world-of-work-',\n",
       "   'apiUrl': 'https://content.guardianapis.com/seek-the-new-world-of-work-/seek-the-new-world-of-work-',\n",
       "   'references': [],\n",
       "   'activeSponsorships': [{'sponsorshipType': 'paid-content',\n",
       "     'sponsorName': 'Seek',\n",
       "     'sponsorLogo': 'https://static.theguardian.com/commercial/sponsor/21/Apr/2022/3a942eb4-ef6f-4d83-a070-628af8e1b7e0-Seek-LOGO.png',\n",
       "     'sponsorLink': 'https://www.seek.com.au/',\n",
       "     'aboutLink': 'https://www.theguardian.com/info/2016/jan/25/content-funding',\n",
       "     'sponsorLogoDimensions': {'width': 280, 'height': 180},\n",
       "     'validFrom': '2022-04-21T01:33:00Z',\n",
       "     'validTo': '2024-04-21T01:33:00Z'}],\n",
       "   'paidContentType': 'Topic'},\n",
       "  {'id': 'type/article',\n",
       "   'type': 'type',\n",
       "   'webTitle': 'Article',\n",
       "   'webUrl': 'https://www.theguardian.com/articles',\n",
       "   'apiUrl': 'https://content.guardianapis.com/type/article',\n",
       "   'references': []},\n",
       "  {'id': 'tone/advertisement-features',\n",
       "   'type': 'tone',\n",
       "   'webTitle': 'Advertisement features',\n",
       "   'webUrl': 'https://www.theguardian.com/tone/advertisement-features',\n",
       "   'apiUrl': 'https://content.guardianapis.com/tone/advertisement-features',\n",
       "   'references': []},\n",
       "  {'id': 'tracking/commissioningdesk/au-labs',\n",
       "   'type': 'tracking',\n",
       "   'webTitle': 'AU Labs',\n",
       "   'webUrl': 'https://www.theguardian.com/tracking/commissioningdesk/au-labs',\n",
       "   'apiUrl': 'https://content.guardianapis.com/tracking/commissioningdesk/au-labs',\n",
       "   'references': []}],\n",
       " 'isHosted': False}"
      ]
     },
     "execution_count": 6,
     "metadata": {},
     "output_type": "execute_result"
    }
   ],
   "source": [
    "gu_data[0]"
   ]
  },
  {
   "cell_type": "code",
   "execution_count": 7,
   "metadata": {},
   "outputs": [
    {
     "data": {
      "text/html": [
       "<div>\n",
       "<style scoped>\n",
       "    .dataframe tbody tr th:only-of-type {\n",
       "        vertical-align: middle;\n",
       "    }\n",
       "\n",
       "    .dataframe tbody tr th {\n",
       "        vertical-align: top;\n",
       "    }\n",
       "\n",
       "    .dataframe thead th {\n",
       "        text-align: right;\n",
       "    }\n",
       "</style>\n",
       "<table border=\"1\" class=\"dataframe\">\n",
       "  <thead>\n",
       "    <tr style=\"text-align: right;\">\n",
       "      <th></th>\n",
       "      <th>id</th>\n",
       "      <th>type</th>\n",
       "      <th>sectionId</th>\n",
       "      <th>sectionName</th>\n",
       "      <th>webPublicationDate</th>\n",
       "      <th>webTitle</th>\n",
       "      <th>webUrl</th>\n",
       "      <th>apiUrl</th>\n",
       "      <th>tags</th>\n",
       "      <th>isHosted</th>\n",
       "      <th>...</th>\n",
       "      <th>fields.showInRelatedContent</th>\n",
       "      <th>fields.thumbnail</th>\n",
       "      <th>fields.legallySensitive</th>\n",
       "      <th>fields.lang</th>\n",
       "      <th>fields.isLive</th>\n",
       "      <th>fields.bodyText</th>\n",
       "      <th>fields.charCount</th>\n",
       "      <th>fields.shouldHideReaderRevenue</th>\n",
       "      <th>fields.showAffiliateLinks</th>\n",
       "      <th>fields.bylineHtml</th>\n",
       "    </tr>\n",
       "  </thead>\n",
       "  <tbody>\n",
       "    <tr>\n",
       "      <th>0</th>\n",
       "      <td>seek-the-new-world-of-work-/2022/apr/27/why-20...</td>\n",
       "      <td>article</td>\n",
       "      <td>seek-the-new-world-of-work-</td>\n",
       "      <td>Seek: The new world of work</td>\n",
       "      <td>2022-04-26T23:39:50Z</td>\n",
       "      <td>Why 2022 is the year of the ‘great job boom’ a...</td>\n",
       "      <td>https://www.theguardian.com/seek-the-new-world...</td>\n",
       "      <td>https://content.guardianapis.com/seek-the-new-...</td>\n",
       "      <td>[{'id': 'seek-the-new-world-of-work-/seek-the-...</td>\n",
       "      <td>False</td>\n",
       "      <td>...</td>\n",
       "      <td>true</td>\n",
       "      <td>https://media.guim.co.uk/9f6b26af0a4ab397a2ce8...</td>\n",
       "      <td>false</td>\n",
       "      <td>en</td>\n",
       "      <td>true</td>\n",
       "      <td>Australia’s job market is in the middle of a m...</td>\n",
       "      <td>4782</td>\n",
       "      <td>false</td>\n",
       "      <td>false</td>\n",
       "      <td></td>\n",
       "    </tr>\n",
       "  </tbody>\n",
       "</table>\n",
       "<p>1 rows × 36 columns</p>\n",
       "</div>"
      ],
      "text/plain": [
       "                                                  id     type  \\\n",
       "0  seek-the-new-world-of-work-/2022/apr/27/why-20...  article   \n",
       "\n",
       "                     sectionId                  sectionName  \\\n",
       "0  seek-the-new-world-of-work-  Seek: The new world of work   \n",
       "\n",
       "     webPublicationDate                                           webTitle  \\\n",
       "0  2022-04-26T23:39:50Z  Why 2022 is the year of the ‘great job boom’ a...   \n",
       "\n",
       "                                              webUrl  \\\n",
       "0  https://www.theguardian.com/seek-the-new-world...   \n",
       "\n",
       "                                              apiUrl  \\\n",
       "0  https://content.guardianapis.com/seek-the-new-...   \n",
       "\n",
       "                                                tags  isHosted  ...  \\\n",
       "0  [{'id': 'seek-the-new-world-of-work-/seek-the-...     False  ...   \n",
       "\n",
       "  fields.showInRelatedContent  \\\n",
       "0                        true   \n",
       "\n",
       "                                    fields.thumbnail fields.legallySensitive  \\\n",
       "0  https://media.guim.co.uk/9f6b26af0a4ab397a2ce8...                   false   \n",
       "\n",
       "  fields.lang fields.isLive  \\\n",
       "0          en          true   \n",
       "\n",
       "                                     fields.bodyText fields.charCount  \\\n",
       "0  Australia’s job market is in the middle of a m...             4782   \n",
       "\n",
       "  fields.shouldHideReaderRevenue fields.showAffiliateLinks fields.bylineHtml  \n",
       "0                          false                     false                    \n",
       "\n",
       "[1 rows x 36 columns]"
      ]
     },
     "execution_count": 7,
     "metadata": {},
     "output_type": "execute_result"
    }
   ],
   "source": [
    "pd.json_normalize(gu_data[0])"
   ]
  },
  {
   "cell_type": "code",
   "execution_count": 8,
   "metadata": {},
   "outputs": [
    {
     "data": {
      "text/plain": [
       "Index(['id', 'type', 'sectionId', 'sectionName', 'webPublicationDate',\n",
       "       'webTitle', 'webUrl', 'apiUrl', 'tags', 'isHosted', 'fields.headline',\n",
       "       'fields.standfirst', 'fields.trailText', 'fields.byline', 'fields.main',\n",
       "       'fields.body', 'fields.wordcount', 'fields.displayHint',\n",
       "       'fields.firstPublicationDate', 'fields.isInappropriateForSponsorship',\n",
       "       'fields.isPremoderated', 'fields.lastModified',\n",
       "       'fields.productionOffice', 'fields.publication', 'fields.shortUrl',\n",
       "       'fields.shouldHideAdverts', 'fields.showInRelatedContent',\n",
       "       'fields.thumbnail', 'fields.legallySensitive', 'fields.lang',\n",
       "       'fields.isLive', 'fields.bodyText', 'fields.charCount',\n",
       "       'fields.shouldHideReaderRevenue', 'fields.showAffiliateLinks',\n",
       "       'fields.bylineHtml'],\n",
       "      dtype='object')"
      ]
     },
     "execution_count": 8,
     "metadata": {},
     "output_type": "execute_result"
    }
   ],
   "source": [
    "pd.json_normalize(gu_data[0]).columns"
   ]
  },
  {
   "cell_type": "markdown",
   "metadata": {},
   "source": [
    "## TODO\n",
    "\n",
    "- [x] flatten columns with json_normalize\n",
    "- [x] rename columns that start with field.\n",
    "- [ ] get list of tags for each article\n",
    "- [ ] drop useless columns"
   ]
  },
  {
   "cell_type": "markdown",
   "metadata": {},
   "source": [
    "### Flatten nested columns"
   ]
  },
  {
   "cell_type": "code",
   "execution_count": 9,
   "metadata": {},
   "outputs": [
    {
     "data": {
      "text/html": [
       "<div>\n",
       "<style scoped>\n",
       "    .dataframe tbody tr th:only-of-type {\n",
       "        vertical-align: middle;\n",
       "    }\n",
       "\n",
       "    .dataframe tbody tr th {\n",
       "        vertical-align: top;\n",
       "    }\n",
       "\n",
       "    .dataframe thead th {\n",
       "        text-align: right;\n",
       "    }\n",
       "</style>\n",
       "<table border=\"1\" class=\"dataframe\">\n",
       "  <thead>\n",
       "    <tr style=\"text-align: right;\">\n",
       "      <th></th>\n",
       "      <th>id</th>\n",
       "      <th>type</th>\n",
       "      <th>sectionId</th>\n",
       "      <th>sectionName</th>\n",
       "      <th>webPublicationDate</th>\n",
       "      <th>webTitle</th>\n",
       "      <th>webUrl</th>\n",
       "      <th>apiUrl</th>\n",
       "      <th>tags</th>\n",
       "      <th>isHosted</th>\n",
       "      <th>...</th>\n",
       "      <th>pillarId</th>\n",
       "      <th>pillarName</th>\n",
       "      <th>fields.newspaperPageNumber</th>\n",
       "      <th>fields.newspaperEditionDate</th>\n",
       "      <th>fields.commentCloseDate</th>\n",
       "      <th>fields.commentable</th>\n",
       "      <th>fields.starRating</th>\n",
       "      <th>fields.liveBloggingNow</th>\n",
       "      <th>fields.sensitive</th>\n",
       "      <th>fields.scheduledPublicationDate</th>\n",
       "    </tr>\n",
       "  </thead>\n",
       "  <tbody>\n",
       "    <tr>\n",
       "      <th>0</th>\n",
       "      <td>seek-the-new-world-of-work-/2022/apr/27/why-20...</td>\n",
       "      <td>article</td>\n",
       "      <td>seek-the-new-world-of-work-</td>\n",
       "      <td>Seek: The new world of work</td>\n",
       "      <td>2022-04-26T23:39:50Z</td>\n",
       "      <td>Why 2022 is the year of the ‘great job boom’ a...</td>\n",
       "      <td>https://www.theguardian.com/seek-the-new-world...</td>\n",
       "      <td>https://content.guardianapis.com/seek-the-new-...</td>\n",
       "      <td>[{'id': 'seek-the-new-world-of-work-/seek-the-...</td>\n",
       "      <td>False</td>\n",
       "      <td>...</td>\n",
       "      <td>NaN</td>\n",
       "      <td>NaN</td>\n",
       "      <td>NaN</td>\n",
       "      <td>NaN</td>\n",
       "      <td>NaN</td>\n",
       "      <td>NaN</td>\n",
       "      <td>NaN</td>\n",
       "      <td>NaN</td>\n",
       "      <td>NaN</td>\n",
       "      <td>NaN</td>\n",
       "    </tr>\n",
       "    <tr>\n",
       "      <th>1</th>\n",
       "      <td>world/2022/apr/26/us-covid-infections-antibodi...</td>\n",
       "      <td>article</td>\n",
       "      <td>world</td>\n",
       "      <td>World news</td>\n",
       "      <td>2022-04-26T23:28:51Z</td>\n",
       "      <td>More than half of Americans have had Covid, in...</td>\n",
       "      <td>https://www.theguardian.com/world/2022/apr/26/...</td>\n",
       "      <td>https://content.guardianapis.com/world/2022/ap...</td>\n",
       "      <td>[{'id': 'world/coronavirus-outbreak', 'type': ...</td>\n",
       "      <td>False</td>\n",
       "      <td>...</td>\n",
       "      <td>pillar/news</td>\n",
       "      <td>News</td>\n",
       "      <td>NaN</td>\n",
       "      <td>NaN</td>\n",
       "      <td>NaN</td>\n",
       "      <td>NaN</td>\n",
       "      <td>NaN</td>\n",
       "      <td>NaN</td>\n",
       "      <td>NaN</td>\n",
       "      <td>NaN</td>\n",
       "    </tr>\n",
       "    <tr>\n",
       "      <th>2</th>\n",
       "      <td>media/2022/apr/27/mail-on-sunday-editor-reject...</td>\n",
       "      <td>article</td>\n",
       "      <td>media</td>\n",
       "      <td>Media</td>\n",
       "      <td>2022-04-26T23:16:08Z</td>\n",
       "      <td>Mail on Sunday editor rejects meeting with Spe...</td>\n",
       "      <td>https://www.theguardian.com/media/2022/apr/27/...</td>\n",
       "      <td>https://content.guardianapis.com/media/2022/ap...</td>\n",
       "      <td>[{'id': 'media/mailonsunday', 'type': 'keyword...</td>\n",
       "      <td>False</td>\n",
       "      <td>...</td>\n",
       "      <td>pillar/news</td>\n",
       "      <td>News</td>\n",
       "      <td>NaN</td>\n",
       "      <td>NaN</td>\n",
       "      <td>NaN</td>\n",
       "      <td>NaN</td>\n",
       "      <td>NaN</td>\n",
       "      <td>NaN</td>\n",
       "      <td>NaN</td>\n",
       "      <td>NaN</td>\n",
       "    </tr>\n",
       "    <tr>\n",
       "      <th>3</th>\n",
       "      <td>technology/2022/apr/26/alphabet-google-revenue...</td>\n",
       "      <td>article</td>\n",
       "      <td>technology</td>\n",
       "      <td>Technology</td>\n",
       "      <td>2022-04-26T23:05:49Z</td>\n",
       "      <td>Alphabet revenue falls short as YouTube and Ti...</td>\n",
       "      <td>https://www.theguardian.com/technology/2022/ap...</td>\n",
       "      <td>https://content.guardianapis.com/technology/20...</td>\n",
       "      <td>[{'id': 'technology/alphabet', 'type': 'keywor...</td>\n",
       "      <td>False</td>\n",
       "      <td>...</td>\n",
       "      <td>pillar/news</td>\n",
       "      <td>News</td>\n",
       "      <td>NaN</td>\n",
       "      <td>NaN</td>\n",
       "      <td>NaN</td>\n",
       "      <td>NaN</td>\n",
       "      <td>NaN</td>\n",
       "      <td>NaN</td>\n",
       "      <td>NaN</td>\n",
       "      <td>NaN</td>\n",
       "    </tr>\n",
       "    <tr>\n",
       "      <th>4</th>\n",
       "      <td>education/2022/apr/27/student-loan-change-engl...</td>\n",
       "      <td>article</td>\n",
       "      <td>education</td>\n",
       "      <td>Education</td>\n",
       "      <td>2022-04-26T23:01:11Z</td>\n",
       "      <td>IFS: England’s student loan change to hit poor...</td>\n",
       "      <td>https://www.theguardian.com/education/2022/apr...</td>\n",
       "      <td>https://content.guardianapis.com/education/202...</td>\n",
       "      <td>[{'id': 'education/students', 'type': 'keyword...</td>\n",
       "      <td>False</td>\n",
       "      <td>...</td>\n",
       "      <td>pillar/news</td>\n",
       "      <td>News</td>\n",
       "      <td>24</td>\n",
       "      <td>2022-04-27T00:00:00Z</td>\n",
       "      <td>NaN</td>\n",
       "      <td>NaN</td>\n",
       "      <td>NaN</td>\n",
       "      <td>NaN</td>\n",
       "      <td>NaN</td>\n",
       "      <td>NaN</td>\n",
       "    </tr>\n",
       "  </tbody>\n",
       "</table>\n",
       "<p>5 rows × 46 columns</p>\n",
       "</div>"
      ],
      "text/plain": [
       "                                                  id     type  \\\n",
       "0  seek-the-new-world-of-work-/2022/apr/27/why-20...  article   \n",
       "1  world/2022/apr/26/us-covid-infections-antibodi...  article   \n",
       "2  media/2022/apr/27/mail-on-sunday-editor-reject...  article   \n",
       "3  technology/2022/apr/26/alphabet-google-revenue...  article   \n",
       "4  education/2022/apr/27/student-loan-change-engl...  article   \n",
       "\n",
       "                     sectionId                  sectionName  \\\n",
       "0  seek-the-new-world-of-work-  Seek: The new world of work   \n",
       "1                        world                   World news   \n",
       "2                        media                        Media   \n",
       "3                   technology                   Technology   \n",
       "4                    education                    Education   \n",
       "\n",
       "     webPublicationDate                                           webTitle  \\\n",
       "0  2022-04-26T23:39:50Z  Why 2022 is the year of the ‘great job boom’ a...   \n",
       "1  2022-04-26T23:28:51Z  More than half of Americans have had Covid, in...   \n",
       "2  2022-04-26T23:16:08Z  Mail on Sunday editor rejects meeting with Spe...   \n",
       "3  2022-04-26T23:05:49Z  Alphabet revenue falls short as YouTube and Ti...   \n",
       "4  2022-04-26T23:01:11Z  IFS: England’s student loan change to hit poor...   \n",
       "\n",
       "                                              webUrl  \\\n",
       "0  https://www.theguardian.com/seek-the-new-world...   \n",
       "1  https://www.theguardian.com/world/2022/apr/26/...   \n",
       "2  https://www.theguardian.com/media/2022/apr/27/...   \n",
       "3  https://www.theguardian.com/technology/2022/ap...   \n",
       "4  https://www.theguardian.com/education/2022/apr...   \n",
       "\n",
       "                                              apiUrl  \\\n",
       "0  https://content.guardianapis.com/seek-the-new-...   \n",
       "1  https://content.guardianapis.com/world/2022/ap...   \n",
       "2  https://content.guardianapis.com/media/2022/ap...   \n",
       "3  https://content.guardianapis.com/technology/20...   \n",
       "4  https://content.guardianapis.com/education/202...   \n",
       "\n",
       "                                                tags  isHosted  ...  \\\n",
       "0  [{'id': 'seek-the-new-world-of-work-/seek-the-...     False  ...   \n",
       "1  [{'id': 'world/coronavirus-outbreak', 'type': ...     False  ...   \n",
       "2  [{'id': 'media/mailonsunday', 'type': 'keyword...     False  ...   \n",
       "3  [{'id': 'technology/alphabet', 'type': 'keywor...     False  ...   \n",
       "4  [{'id': 'education/students', 'type': 'keyword...     False  ...   \n",
       "\n",
       "      pillarId pillarName fields.newspaperPageNumber  \\\n",
       "0          NaN        NaN                        NaN   \n",
       "1  pillar/news       News                        NaN   \n",
       "2  pillar/news       News                        NaN   \n",
       "3  pillar/news       News                        NaN   \n",
       "4  pillar/news       News                         24   \n",
       "\n",
       "  fields.newspaperEditionDate fields.commentCloseDate fields.commentable  \\\n",
       "0                         NaN                     NaN                NaN   \n",
       "1                         NaN                     NaN                NaN   \n",
       "2                         NaN                     NaN                NaN   \n",
       "3                         NaN                     NaN                NaN   \n",
       "4        2022-04-27T00:00:00Z                     NaN                NaN   \n",
       "\n",
       "  fields.starRating fields.liveBloggingNow fields.sensitive  \\\n",
       "0               NaN                    NaN              NaN   \n",
       "1               NaN                    NaN              NaN   \n",
       "2               NaN                    NaN              NaN   \n",
       "3               NaN                    NaN              NaN   \n",
       "4               NaN                    NaN              NaN   \n",
       "\n",
       "  fields.scheduledPublicationDate  \n",
       "0                             NaN  \n",
       "1                             NaN  \n",
       "2                             NaN  \n",
       "3                             NaN  \n",
       "4                             NaN  \n",
       "\n",
       "[5 rows x 46 columns]"
      ]
     },
     "execution_count": 9,
     "metadata": {},
     "output_type": "execute_result"
    }
   ],
   "source": [
    "# turn json into dataframe with nested structures flattened\n",
    "gu_df = pd.json_normalize(gu_data)\n",
    "gu_df.head()"
   ]
  },
  {
   "cell_type": "code",
   "execution_count": 11,
   "metadata": {},
   "outputs": [
    {
     "data": {
      "text/plain": [
       "Index(['id', 'type', 'sectionId', 'sectionName', 'webPublicationDate',\n",
       "       'webTitle', 'webUrl', 'apiUrl', 'tags', 'isHosted', 'fields.headline',\n",
       "       'fields.standfirst', 'fields.trailText', 'fields.byline', 'fields.main',\n",
       "       'fields.body', 'fields.wordcount', 'fields.displayHint',\n",
       "       'fields.firstPublicationDate', 'fields.isInappropriateForSponsorship',\n",
       "       'fields.isPremoderated', 'fields.lastModified',\n",
       "       'fields.productionOffice', 'fields.publication', 'fields.shortUrl',\n",
       "       'fields.shouldHideAdverts', 'fields.showInRelatedContent',\n",
       "       'fields.thumbnail', 'fields.legallySensitive', 'fields.lang',\n",
       "       'fields.isLive', 'fields.bodyText', 'fields.charCount',\n",
       "       'fields.shouldHideReaderRevenue', 'fields.showAffiliateLinks',\n",
       "       'fields.bylineHtml', 'pillarId', 'pillarName',\n",
       "       'fields.newspaperPageNumber', 'fields.newspaperEditionDate',\n",
       "       'fields.commentCloseDate', 'fields.commentable', 'fields.starRating',\n",
       "       'fields.liveBloggingNow', 'fields.sensitive',\n",
       "       'fields.scheduledPublicationDate'],\n",
       "      dtype='object')"
      ]
     },
     "execution_count": 11,
     "metadata": {},
     "output_type": "execute_result"
    }
   ],
   "source": [
    "gu_df.columns"
   ]
  },
  {
   "cell_type": "markdown",
   "metadata": {},
   "source": [
    "Columns originally nested inside `fields` have the name prefix `fields.`."
   ]
  },
  {
   "cell_type": "markdown",
   "metadata": {},
   "source": [
    "### Rename columns starting with 'fields.'"
   ]
  },
  {
   "cell_type": "code",
   "execution_count": 12,
   "metadata": {},
   "outputs": [],
   "source": [
    "# create dictionary to rename columns with prefix\n",
    "colnames = {}\n",
    "\n",
    "for colname in gu_df.columns:\n",
    "    if colname.startswith('fields.'):\n",
    "        colnames[colname] = re.sub(r\"fields.\", '', colname)"
   ]
  },
  {
   "cell_type": "code",
   "execution_count": 13,
   "metadata": {},
   "outputs": [
    {
     "data": {
      "text/plain": [
       "{'fields.headline': 'headline',\n",
       " 'fields.standfirst': 'standfirst',\n",
       " 'fields.trailText': 'trailText',\n",
       " 'fields.byline': 'byline',\n",
       " 'fields.main': 'main',\n",
       " 'fields.body': 'body',\n",
       " 'fields.wordcount': 'wordcount',\n",
       " 'fields.displayHint': 'displayHint',\n",
       " 'fields.firstPublicationDate': 'firstPublicationDate',\n",
       " 'fields.isInappropriateForSponsorship': 'isInappropriateForSponsorship',\n",
       " 'fields.isPremoderated': 'isPremoderated',\n",
       " 'fields.lastModified': 'lastModified',\n",
       " 'fields.productionOffice': 'productionOffice',\n",
       " 'fields.publication': 'publication',\n",
       " 'fields.shortUrl': 'shortUrl',\n",
       " 'fields.shouldHideAdverts': 'shouldHideAdverts',\n",
       " 'fields.showInRelatedContent': 'showInRelatedContent',\n",
       " 'fields.thumbnail': 'thumbnail',\n",
       " 'fields.legallySensitive': 'legallySensitive',\n",
       " 'fields.lang': 'lang',\n",
       " 'fields.isLive': 'isLive',\n",
       " 'fields.bodyText': 'bodyText',\n",
       " 'fields.charCount': 'charCount',\n",
       " 'fields.shouldHideReaderRevenue': 'shouldHideReaderRevenue',\n",
       " 'fields.showAffiliateLinks': 'showAffiliateLinks',\n",
       " 'fields.bylineHtml': 'bylineHtml',\n",
       " 'fields.newspaperPageNumber': 'newspaperPageNumber',\n",
       " 'fields.newspaperEditionDate': 'newspaperEditionDate',\n",
       " 'fields.commentCloseDate': 'commentCloseDate',\n",
       " 'fields.commentable': 'commentable',\n",
       " 'fields.starRating': 'starRating',\n",
       " 'fields.liveBloggingNow': 'liveBloggingNow',\n",
       " 'fields.sensitive': 'sensitive',\n",
       " 'fields.scheduledPublicationDate': 'scheduledPublicationDate'}"
      ]
     },
     "execution_count": 13,
     "metadata": {},
     "output_type": "execute_result"
    }
   ],
   "source": [
    "colnames"
   ]
  },
  {
   "cell_type": "code",
   "execution_count": 14,
   "metadata": {},
   "outputs": [
    {
     "data": {
      "text/html": [
       "<div>\n",
       "<style scoped>\n",
       "    .dataframe tbody tr th:only-of-type {\n",
       "        vertical-align: middle;\n",
       "    }\n",
       "\n",
       "    .dataframe tbody tr th {\n",
       "        vertical-align: top;\n",
       "    }\n",
       "\n",
       "    .dataframe thead th {\n",
       "        text-align: right;\n",
       "    }\n",
       "</style>\n",
       "<table border=\"1\" class=\"dataframe\">\n",
       "  <thead>\n",
       "    <tr style=\"text-align: right;\">\n",
       "      <th></th>\n",
       "      <th>id</th>\n",
       "      <th>type</th>\n",
       "      <th>sectionId</th>\n",
       "      <th>sectionName</th>\n",
       "      <th>webPublicationDate</th>\n",
       "      <th>webTitle</th>\n",
       "      <th>webUrl</th>\n",
       "      <th>apiUrl</th>\n",
       "      <th>tags</th>\n",
       "      <th>isHosted</th>\n",
       "      <th>...</th>\n",
       "      <th>pillarId</th>\n",
       "      <th>pillarName</th>\n",
       "      <th>newspaperPageNumber</th>\n",
       "      <th>newspaperEditionDate</th>\n",
       "      <th>commentCloseDate</th>\n",
       "      <th>commentable</th>\n",
       "      <th>starRating</th>\n",
       "      <th>liveBloggingNow</th>\n",
       "      <th>sensitive</th>\n",
       "      <th>scheduledPublicationDate</th>\n",
       "    </tr>\n",
       "  </thead>\n",
       "  <tbody>\n",
       "    <tr>\n",
       "      <th>0</th>\n",
       "      <td>seek-the-new-world-of-work-/2022/apr/27/why-20...</td>\n",
       "      <td>article</td>\n",
       "      <td>seek-the-new-world-of-work-</td>\n",
       "      <td>Seek: The new world of work</td>\n",
       "      <td>2022-04-26T23:39:50Z</td>\n",
       "      <td>Why 2022 is the year of the ‘great job boom’ a...</td>\n",
       "      <td>https://www.theguardian.com/seek-the-new-world...</td>\n",
       "      <td>https://content.guardianapis.com/seek-the-new-...</td>\n",
       "      <td>[{'id': 'seek-the-new-world-of-work-/seek-the-...</td>\n",
       "      <td>False</td>\n",
       "      <td>...</td>\n",
       "      <td>NaN</td>\n",
       "      <td>NaN</td>\n",
       "      <td>NaN</td>\n",
       "      <td>NaN</td>\n",
       "      <td>NaN</td>\n",
       "      <td>NaN</td>\n",
       "      <td>NaN</td>\n",
       "      <td>NaN</td>\n",
       "      <td>NaN</td>\n",
       "      <td>NaN</td>\n",
       "    </tr>\n",
       "    <tr>\n",
       "      <th>1</th>\n",
       "      <td>world/2022/apr/26/us-covid-infections-antibodi...</td>\n",
       "      <td>article</td>\n",
       "      <td>world</td>\n",
       "      <td>World news</td>\n",
       "      <td>2022-04-26T23:28:51Z</td>\n",
       "      <td>More than half of Americans have had Covid, in...</td>\n",
       "      <td>https://www.theguardian.com/world/2022/apr/26/...</td>\n",
       "      <td>https://content.guardianapis.com/world/2022/ap...</td>\n",
       "      <td>[{'id': 'world/coronavirus-outbreak', 'type': ...</td>\n",
       "      <td>False</td>\n",
       "      <td>...</td>\n",
       "      <td>pillar/news</td>\n",
       "      <td>News</td>\n",
       "      <td>NaN</td>\n",
       "      <td>NaN</td>\n",
       "      <td>NaN</td>\n",
       "      <td>NaN</td>\n",
       "      <td>NaN</td>\n",
       "      <td>NaN</td>\n",
       "      <td>NaN</td>\n",
       "      <td>NaN</td>\n",
       "    </tr>\n",
       "    <tr>\n",
       "      <th>2</th>\n",
       "      <td>media/2022/apr/27/mail-on-sunday-editor-reject...</td>\n",
       "      <td>article</td>\n",
       "      <td>media</td>\n",
       "      <td>Media</td>\n",
       "      <td>2022-04-26T23:16:08Z</td>\n",
       "      <td>Mail on Sunday editor rejects meeting with Spe...</td>\n",
       "      <td>https://www.theguardian.com/media/2022/apr/27/...</td>\n",
       "      <td>https://content.guardianapis.com/media/2022/ap...</td>\n",
       "      <td>[{'id': 'media/mailonsunday', 'type': 'keyword...</td>\n",
       "      <td>False</td>\n",
       "      <td>...</td>\n",
       "      <td>pillar/news</td>\n",
       "      <td>News</td>\n",
       "      <td>NaN</td>\n",
       "      <td>NaN</td>\n",
       "      <td>NaN</td>\n",
       "      <td>NaN</td>\n",
       "      <td>NaN</td>\n",
       "      <td>NaN</td>\n",
       "      <td>NaN</td>\n",
       "      <td>NaN</td>\n",
       "    </tr>\n",
       "    <tr>\n",
       "      <th>3</th>\n",
       "      <td>technology/2022/apr/26/alphabet-google-revenue...</td>\n",
       "      <td>article</td>\n",
       "      <td>technology</td>\n",
       "      <td>Technology</td>\n",
       "      <td>2022-04-26T23:05:49Z</td>\n",
       "      <td>Alphabet revenue falls short as YouTube and Ti...</td>\n",
       "      <td>https://www.theguardian.com/technology/2022/ap...</td>\n",
       "      <td>https://content.guardianapis.com/technology/20...</td>\n",
       "      <td>[{'id': 'technology/alphabet', 'type': 'keywor...</td>\n",
       "      <td>False</td>\n",
       "      <td>...</td>\n",
       "      <td>pillar/news</td>\n",
       "      <td>News</td>\n",
       "      <td>NaN</td>\n",
       "      <td>NaN</td>\n",
       "      <td>NaN</td>\n",
       "      <td>NaN</td>\n",
       "      <td>NaN</td>\n",
       "      <td>NaN</td>\n",
       "      <td>NaN</td>\n",
       "      <td>NaN</td>\n",
       "    </tr>\n",
       "    <tr>\n",
       "      <th>4</th>\n",
       "      <td>education/2022/apr/27/student-loan-change-engl...</td>\n",
       "      <td>article</td>\n",
       "      <td>education</td>\n",
       "      <td>Education</td>\n",
       "      <td>2022-04-26T23:01:11Z</td>\n",
       "      <td>IFS: England’s student loan change to hit poor...</td>\n",
       "      <td>https://www.theguardian.com/education/2022/apr...</td>\n",
       "      <td>https://content.guardianapis.com/education/202...</td>\n",
       "      <td>[{'id': 'education/students', 'type': 'keyword...</td>\n",
       "      <td>False</td>\n",
       "      <td>...</td>\n",
       "      <td>pillar/news</td>\n",
       "      <td>News</td>\n",
       "      <td>24</td>\n",
       "      <td>2022-04-27T00:00:00Z</td>\n",
       "      <td>NaN</td>\n",
       "      <td>NaN</td>\n",
       "      <td>NaN</td>\n",
       "      <td>NaN</td>\n",
       "      <td>NaN</td>\n",
       "      <td>NaN</td>\n",
       "    </tr>\n",
       "  </tbody>\n",
       "</table>\n",
       "<p>5 rows × 46 columns</p>\n",
       "</div>"
      ],
      "text/plain": [
       "                                                  id     type  \\\n",
       "0  seek-the-new-world-of-work-/2022/apr/27/why-20...  article   \n",
       "1  world/2022/apr/26/us-covid-infections-antibodi...  article   \n",
       "2  media/2022/apr/27/mail-on-sunday-editor-reject...  article   \n",
       "3  technology/2022/apr/26/alphabet-google-revenue...  article   \n",
       "4  education/2022/apr/27/student-loan-change-engl...  article   \n",
       "\n",
       "                     sectionId                  sectionName  \\\n",
       "0  seek-the-new-world-of-work-  Seek: The new world of work   \n",
       "1                        world                   World news   \n",
       "2                        media                        Media   \n",
       "3                   technology                   Technology   \n",
       "4                    education                    Education   \n",
       "\n",
       "     webPublicationDate                                           webTitle  \\\n",
       "0  2022-04-26T23:39:50Z  Why 2022 is the year of the ‘great job boom’ a...   \n",
       "1  2022-04-26T23:28:51Z  More than half of Americans have had Covid, in...   \n",
       "2  2022-04-26T23:16:08Z  Mail on Sunday editor rejects meeting with Spe...   \n",
       "3  2022-04-26T23:05:49Z  Alphabet revenue falls short as YouTube and Ti...   \n",
       "4  2022-04-26T23:01:11Z  IFS: England’s student loan change to hit poor...   \n",
       "\n",
       "                                              webUrl  \\\n",
       "0  https://www.theguardian.com/seek-the-new-world...   \n",
       "1  https://www.theguardian.com/world/2022/apr/26/...   \n",
       "2  https://www.theguardian.com/media/2022/apr/27/...   \n",
       "3  https://www.theguardian.com/technology/2022/ap...   \n",
       "4  https://www.theguardian.com/education/2022/apr...   \n",
       "\n",
       "                                              apiUrl  \\\n",
       "0  https://content.guardianapis.com/seek-the-new-...   \n",
       "1  https://content.guardianapis.com/world/2022/ap...   \n",
       "2  https://content.guardianapis.com/media/2022/ap...   \n",
       "3  https://content.guardianapis.com/technology/20...   \n",
       "4  https://content.guardianapis.com/education/202...   \n",
       "\n",
       "                                                tags  isHosted  ...  \\\n",
       "0  [{'id': 'seek-the-new-world-of-work-/seek-the-...     False  ...   \n",
       "1  [{'id': 'world/coronavirus-outbreak', 'type': ...     False  ...   \n",
       "2  [{'id': 'media/mailonsunday', 'type': 'keyword...     False  ...   \n",
       "3  [{'id': 'technology/alphabet', 'type': 'keywor...     False  ...   \n",
       "4  [{'id': 'education/students', 'type': 'keyword...     False  ...   \n",
       "\n",
       "      pillarId pillarName newspaperPageNumber  newspaperEditionDate  \\\n",
       "0          NaN        NaN                 NaN                   NaN   \n",
       "1  pillar/news       News                 NaN                   NaN   \n",
       "2  pillar/news       News                 NaN                   NaN   \n",
       "3  pillar/news       News                 NaN                   NaN   \n",
       "4  pillar/news       News                  24  2022-04-27T00:00:00Z   \n",
       "\n",
       "  commentCloseDate commentable starRating liveBloggingNow sensitive  \\\n",
       "0              NaN         NaN        NaN             NaN       NaN   \n",
       "1              NaN         NaN        NaN             NaN       NaN   \n",
       "2              NaN         NaN        NaN             NaN       NaN   \n",
       "3              NaN         NaN        NaN             NaN       NaN   \n",
       "4              NaN         NaN        NaN             NaN       NaN   \n",
       "\n",
       "  scheduledPublicationDate  \n",
       "0                      NaN  \n",
       "1                      NaN  \n",
       "2                      NaN  \n",
       "3                      NaN  \n",
       "4                      NaN  \n",
       "\n",
       "[5 rows x 46 columns]"
      ]
     },
     "execution_count": 14,
     "metadata": {},
     "output_type": "execute_result"
    }
   ],
   "source": [
    "gu_df_renamed = gu_df.rename(columns=colnames)\n",
    "gu_df_renamed.head()"
   ]
  },
  {
   "cell_type": "code",
   "execution_count": 15,
   "metadata": {},
   "outputs": [
    {
     "data": {
      "text/plain": [
       "Index(['id', 'type', 'sectionId', 'sectionName', 'webPublicationDate',\n",
       "       'webTitle', 'webUrl', 'apiUrl', 'tags', 'isHosted', 'headline',\n",
       "       'standfirst', 'trailText', 'byline', 'main', 'body', 'wordcount',\n",
       "       'displayHint', 'firstPublicationDate', 'isInappropriateForSponsorship',\n",
       "       'isPremoderated', 'lastModified', 'productionOffice', 'publication',\n",
       "       'shortUrl', 'shouldHideAdverts', 'showInRelatedContent', 'thumbnail',\n",
       "       'legallySensitive', 'lang', 'isLive', 'bodyText', 'charCount',\n",
       "       'shouldHideReaderRevenue', 'showAffiliateLinks', 'bylineHtml',\n",
       "       'pillarId', 'pillarName', 'newspaperPageNumber', 'newspaperEditionDate',\n",
       "       'commentCloseDate', 'commentable', 'starRating', 'liveBloggingNow',\n",
       "       'sensitive', 'scheduledPublicationDate'],\n",
       "      dtype='object')"
      ]
     },
     "execution_count": 15,
     "metadata": {},
     "output_type": "execute_result"
    }
   ],
   "source": [
    "gu_df_renamed.columns"
   ]
  },
  {
   "cell_type": "code",
   "execution_count": 16,
   "metadata": {},
   "outputs": [
    {
     "name": "stdout",
     "output_type": "stream",
     "text": [
      "<class 'pandas.core.frame.DataFrame'>\n",
      "RangeIndex: 6586 entries, 0 to 6585\n",
      "Data columns (total 46 columns):\n",
      " #   Column                         Non-Null Count  Dtype \n",
      "---  ------                         --------------  ----- \n",
      " 0   id                             6586 non-null   object\n",
      " 1   type                           6586 non-null   object\n",
      " 2   sectionId                      6586 non-null   object\n",
      " 3   sectionName                    6586 non-null   object\n",
      " 4   webPublicationDate             6586 non-null   object\n",
      " 5   webTitle                       6586 non-null   object\n",
      " 6   webUrl                         6586 non-null   object\n",
      " 7   apiUrl                         6586 non-null   object\n",
      " 8   tags                           6586 non-null   object\n",
      " 9   isHosted                       6586 non-null   bool  \n",
      " 10  headline                       6586 non-null   object\n",
      " 11  standfirst                     6344 non-null   object\n",
      " 12  trailText                      6586 non-null   object\n",
      " 13  byline                         6522 non-null   object\n",
      " 14  main                           6586 non-null   object\n",
      " 15  body                           6586 non-null   object\n",
      " 16  wordcount                      6586 non-null   object\n",
      " 17  displayHint                    144 non-null    object\n",
      " 18  firstPublicationDate           6586 non-null   object\n",
      " 19  isInappropriateForSponsorship  6524 non-null   object\n",
      " 20  isPremoderated                 6586 non-null   object\n",
      " 21  lastModified                   6586 non-null   object\n",
      " 22  productionOffice               6586 non-null   object\n",
      " 23  publication                    6586 non-null   object\n",
      " 24  shortUrl                       6586 non-null   object\n",
      " 25  shouldHideAdverts              6586 non-null   object\n",
      " 26  showInRelatedContent           6586 non-null   object\n",
      " 27  thumbnail                      6462 non-null   object\n",
      " 28  legallySensitive               6585 non-null   object\n",
      " 29  lang                           6586 non-null   object\n",
      " 30  isLive                         6586 non-null   object\n",
      " 31  bodyText                       6586 non-null   object\n",
      " 32  charCount                      6586 non-null   object\n",
      " 33  shouldHideReaderRevenue        6571 non-null   object\n",
      " 34  showAffiliateLinks             6523 non-null   object\n",
      " 35  bylineHtml                     6522 non-null   object\n",
      " 36  pillarId                       6559 non-null   object\n",
      " 37  pillarName                     6559 non-null   object\n",
      " 38  newspaperPageNumber            3368 non-null   object\n",
      " 39  newspaperEditionDate           3533 non-null   object\n",
      " 40  commentCloseDate               1498 non-null   object\n",
      " 41  commentable                    1663 non-null   object\n",
      " 42  starRating                     313 non-null    object\n",
      " 43  liveBloggingNow                234 non-null    object\n",
      " 44  sensitive                      255 non-null    object\n",
      " 45  scheduledPublicationDate       3 non-null      object\n",
      "dtypes: bool(1), object(45)\n",
      "memory usage: 2.3+ MB\n"
     ]
    }
   ],
   "source": [
    "gu_df_renamed.info()"
   ]
  },
  {
   "cell_type": "markdown",
   "metadata": {},
   "source": [
    "### Create list of tags for each article"
   ]
  },
  {
   "cell_type": "code",
   "execution_count": 21,
   "metadata": {},
   "outputs": [
    {
     "data": {
      "text/plain": [
       "[{'id': 'world/coronavirus-outbreak',\n",
       "  'type': 'keyword',\n",
       "  'sectionId': 'world',\n",
       "  'sectionName': 'World news',\n",
       "  'webTitle': 'Coronavirus',\n",
       "  'webUrl': 'https://www.theguardian.com/world/coronavirus-outbreak',\n",
       "  'apiUrl': 'https://content.guardianapis.com/world/coronavirus-outbreak',\n",
       "  'references': []},\n",
       " {'id': 'science/infectiousdiseases',\n",
       "  'type': 'keyword',\n",
       "  'sectionId': 'science',\n",
       "  'sectionName': 'Science',\n",
       "  'webTitle': 'Infectious diseases',\n",
       "  'webUrl': 'https://www.theguardian.com/science/infectiousdiseases',\n",
       "  'apiUrl': 'https://content.guardianapis.com/science/infectiousdiseases',\n",
       "  'references': []},\n",
       " {'id': 'science/medical-research',\n",
       "  'type': 'keyword',\n",
       "  'sectionId': 'science',\n",
       "  'sectionName': 'Science',\n",
       "  'webTitle': 'Medical research',\n",
       "  'webUrl': 'https://www.theguardian.com/science/medical-research',\n",
       "  'apiUrl': 'https://content.guardianapis.com/science/medical-research',\n",
       "  'references': []},\n",
       " {'id': 'us-news/us-news',\n",
       "  'type': 'keyword',\n",
       "  'sectionId': 'us-news',\n",
       "  'sectionName': 'US news',\n",
       "  'webTitle': 'US news',\n",
       "  'webUrl': 'https://www.theguardian.com/us-news/us-news',\n",
       "  'apiUrl': 'https://content.guardianapis.com/us-news/us-news',\n",
       "  'references': []},\n",
       " {'id': 'world/world',\n",
       "  'type': 'keyword',\n",
       "  'sectionId': 'world',\n",
       "  'sectionName': 'World news',\n",
       "  'webTitle': 'World news',\n",
       "  'webUrl': 'https://www.theguardian.com/world/world',\n",
       "  'apiUrl': 'https://content.guardianapis.com/world/world',\n",
       "  'references': []},\n",
       " {'id': 'type/article',\n",
       "  'type': 'type',\n",
       "  'webTitle': 'Article',\n",
       "  'webUrl': 'https://www.theguardian.com/articles',\n",
       "  'apiUrl': 'https://content.guardianapis.com/type/article',\n",
       "  'references': []},\n",
       " {'id': 'tone/news',\n",
       "  'type': 'tone',\n",
       "  'webTitle': 'News',\n",
       "  'webUrl': 'https://www.theguardian.com/tone/news',\n",
       "  'apiUrl': 'https://content.guardianapis.com/tone/news',\n",
       "  'references': []},\n",
       " {'id': 'tracking/commissioningdesk/west-coast-news',\n",
       "  'type': 'tracking',\n",
       "  'webTitle': 'West Coast News',\n",
       "  'webUrl': 'https://www.theguardian.com/tracking/commissioningdesk/west-coast-news',\n",
       "  'apiUrl': 'https://content.guardianapis.com/tracking/commissioningdesk/west-coast-news',\n",
       "  'references': []}]"
      ]
     },
     "execution_count": 21,
     "metadata": {},
     "output_type": "execute_result"
    }
   ],
   "source": [
    "gu_df_renamed.iloc[1]['tags']"
   ]
  },
  {
   "cell_type": "code",
   "execution_count": 26,
   "metadata": {},
   "outputs": [],
   "source": [
    "# extract id, webTitle, webUrl for tags\n",
    "tag_ids = [tag['id'] for tag in gu_df_renamed.iloc[1]['tags'] if 'id' in tag]\n",
    "tag_webTitles = [tag['webTitle'] for tag in gu_df_renamed.iloc[1]['tags'] if 'webTitle' in tag]\n",
    "tag_webUrls = [tag['webUrl'] for tag in gu_df_renamed.iloc[1]['tags'] if 'webUrl' in tag]"
   ]
  },
  {
   "cell_type": "code",
   "execution_count": 27,
   "metadata": {},
   "outputs": [
    {
     "name": "stdout",
     "output_type": "stream",
     "text": [
      "['world/coronavirus-outbreak', 'science/infectiousdiseases', 'science/medical-research', 'us-news/us-news', 'world/world', 'type/article', 'tone/news', 'tracking/commissioningdesk/west-coast-news']\n",
      "['Coronavirus', 'Infectious diseases', 'Medical research', 'US news', 'World news', 'Article', 'News', 'West Coast News']\n",
      "['https://www.theguardian.com/world/coronavirus-outbreak', 'https://www.theguardian.com/science/infectiousdiseases', 'https://www.theguardian.com/science/medical-research', 'https://www.theguardian.com/us-news/us-news', 'https://www.theguardian.com/world/world', 'https://www.theguardian.com/articles', 'https://www.theguardian.com/tone/news', 'https://www.theguardian.com/tracking/commissioningdesk/west-coast-news']\n"
     ]
    }
   ],
   "source": [
    "print(tag_ids)\n",
    "print(tag_webTitles)\n",
    "print(tag_webUrls)"
   ]
  },
  {
   "cell_type": "code",
   "execution_count": 34,
   "metadata": {},
   "outputs": [],
   "source": [
    "gu_df_renamed['tag_ids'] = gu_df_renamed['tags'].apply(lambda x: [tag['id'] for tag in x if 'id' in tag])\n",
    "gu_df_renamed['tag_webTitles'] = gu_df_renamed['tags'].apply(lambda x: [tag['webTitle'] for tag in x if 'webTitle' in tag])\n",
    "gu_df_renamed['tag_webUrls'] = gu_df_renamed['tags'].apply(lambda x: [tag['webUrl'] for tag in x if 'webUrl' in tag])"
   ]
  },
  {
   "cell_type": "code",
   "execution_count": 35,
   "metadata": {},
   "outputs": [
    {
     "data": {
      "text/html": [
       "<div>\n",
       "<style scoped>\n",
       "    .dataframe tbody tr th:only-of-type {\n",
       "        vertical-align: middle;\n",
       "    }\n",
       "\n",
       "    .dataframe tbody tr th {\n",
       "        vertical-align: top;\n",
       "    }\n",
       "\n",
       "    .dataframe thead th {\n",
       "        text-align: right;\n",
       "    }\n",
       "</style>\n",
       "<table border=\"1\" class=\"dataframe\">\n",
       "  <thead>\n",
       "    <tr style=\"text-align: right;\">\n",
       "      <th></th>\n",
       "      <th>id</th>\n",
       "      <th>type</th>\n",
       "      <th>sectionId</th>\n",
       "      <th>sectionName</th>\n",
       "      <th>webPublicationDate</th>\n",
       "      <th>webTitle</th>\n",
       "      <th>webUrl</th>\n",
       "      <th>apiUrl</th>\n",
       "      <th>tags</th>\n",
       "      <th>isHosted</th>\n",
       "      <th>...</th>\n",
       "      <th>newspaperEditionDate</th>\n",
       "      <th>commentCloseDate</th>\n",
       "      <th>commentable</th>\n",
       "      <th>starRating</th>\n",
       "      <th>liveBloggingNow</th>\n",
       "      <th>sensitive</th>\n",
       "      <th>scheduledPublicationDate</th>\n",
       "      <th>tag_ids</th>\n",
       "      <th>tag_webTitles</th>\n",
       "      <th>tag_webUrls</th>\n",
       "    </tr>\n",
       "  </thead>\n",
       "  <tbody>\n",
       "    <tr>\n",
       "      <th>0</th>\n",
       "      <td>seek-the-new-world-of-work-/2022/apr/27/why-20...</td>\n",
       "      <td>article</td>\n",
       "      <td>seek-the-new-world-of-work-</td>\n",
       "      <td>Seek: The new world of work</td>\n",
       "      <td>2022-04-26T23:39:50Z</td>\n",
       "      <td>Why 2022 is the year of the ‘great job boom’ a...</td>\n",
       "      <td>https://www.theguardian.com/seek-the-new-world...</td>\n",
       "      <td>https://content.guardianapis.com/seek-the-new-...</td>\n",
       "      <td>[{'id': 'seek-the-new-world-of-work-/seek-the-...</td>\n",
       "      <td>False</td>\n",
       "      <td>...</td>\n",
       "      <td>NaN</td>\n",
       "      <td>NaN</td>\n",
       "      <td>NaN</td>\n",
       "      <td>NaN</td>\n",
       "      <td>NaN</td>\n",
       "      <td>NaN</td>\n",
       "      <td>NaN</td>\n",
       "      <td>[seek-the-new-world-of-work-/seek-the-new-worl...</td>\n",
       "      <td>[Seek: The new world of work, Article, Adverti...</td>\n",
       "      <td>[https://www.theguardian.com/seek-the-new-worl...</td>\n",
       "    </tr>\n",
       "    <tr>\n",
       "      <th>1</th>\n",
       "      <td>world/2022/apr/26/us-covid-infections-antibodi...</td>\n",
       "      <td>article</td>\n",
       "      <td>world</td>\n",
       "      <td>World news</td>\n",
       "      <td>2022-04-26T23:28:51Z</td>\n",
       "      <td>More than half of Americans have had Covid, in...</td>\n",
       "      <td>https://www.theguardian.com/world/2022/apr/26/...</td>\n",
       "      <td>https://content.guardianapis.com/world/2022/ap...</td>\n",
       "      <td>[{'id': 'world/coronavirus-outbreak', 'type': ...</td>\n",
       "      <td>False</td>\n",
       "      <td>...</td>\n",
       "      <td>NaN</td>\n",
       "      <td>NaN</td>\n",
       "      <td>NaN</td>\n",
       "      <td>NaN</td>\n",
       "      <td>NaN</td>\n",
       "      <td>NaN</td>\n",
       "      <td>NaN</td>\n",
       "      <td>[world/coronavirus-outbreak, science/infectiou...</td>\n",
       "      <td>[Coronavirus, Infectious diseases, Medical res...</td>\n",
       "      <td>[https://www.theguardian.com/world/coronavirus...</td>\n",
       "    </tr>\n",
       "    <tr>\n",
       "      <th>2</th>\n",
       "      <td>media/2022/apr/27/mail-on-sunday-editor-reject...</td>\n",
       "      <td>article</td>\n",
       "      <td>media</td>\n",
       "      <td>Media</td>\n",
       "      <td>2022-04-26T23:16:08Z</td>\n",
       "      <td>Mail on Sunday editor rejects meeting with Spe...</td>\n",
       "      <td>https://www.theguardian.com/media/2022/apr/27/...</td>\n",
       "      <td>https://content.guardianapis.com/media/2022/ap...</td>\n",
       "      <td>[{'id': 'media/mailonsunday', 'type': 'keyword...</td>\n",
       "      <td>False</td>\n",
       "      <td>...</td>\n",
       "      <td>NaN</td>\n",
       "      <td>NaN</td>\n",
       "      <td>NaN</td>\n",
       "      <td>NaN</td>\n",
       "      <td>NaN</td>\n",
       "      <td>NaN</td>\n",
       "      <td>NaN</td>\n",
       "      <td>[media/mailonsunday, politics/angela-rayner, p...</td>\n",
       "      <td>[Mail on Sunday, Angela Rayner, Labour, Daily ...</td>\n",
       "      <td>[https://www.theguardian.com/media/mailonsunda...</td>\n",
       "    </tr>\n",
       "    <tr>\n",
       "      <th>3</th>\n",
       "      <td>technology/2022/apr/26/alphabet-google-revenue...</td>\n",
       "      <td>article</td>\n",
       "      <td>technology</td>\n",
       "      <td>Technology</td>\n",
       "      <td>2022-04-26T23:05:49Z</td>\n",
       "      <td>Alphabet revenue falls short as YouTube and Ti...</td>\n",
       "      <td>https://www.theguardian.com/technology/2022/ap...</td>\n",
       "      <td>https://content.guardianapis.com/technology/20...</td>\n",
       "      <td>[{'id': 'technology/alphabet', 'type': 'keywor...</td>\n",
       "      <td>False</td>\n",
       "      <td>...</td>\n",
       "      <td>NaN</td>\n",
       "      <td>NaN</td>\n",
       "      <td>NaN</td>\n",
       "      <td>NaN</td>\n",
       "      <td>NaN</td>\n",
       "      <td>NaN</td>\n",
       "      <td>NaN</td>\n",
       "      <td>[technology/alphabet, technology/google, us-ne...</td>\n",
       "      <td>[Alphabet, Google, US news, Technology, Quarte...</td>\n",
       "      <td>[https://www.theguardian.com/technology/alphab...</td>\n",
       "    </tr>\n",
       "    <tr>\n",
       "      <th>4</th>\n",
       "      <td>education/2022/apr/27/student-loan-change-engl...</td>\n",
       "      <td>article</td>\n",
       "      <td>education</td>\n",
       "      <td>Education</td>\n",
       "      <td>2022-04-26T23:01:11Z</td>\n",
       "      <td>IFS: England’s student loan change to hit poor...</td>\n",
       "      <td>https://www.theguardian.com/education/2022/apr...</td>\n",
       "      <td>https://content.guardianapis.com/education/202...</td>\n",
       "      <td>[{'id': 'education/students', 'type': 'keyword...</td>\n",
       "      <td>False</td>\n",
       "      <td>...</td>\n",
       "      <td>2022-04-27T00:00:00Z</td>\n",
       "      <td>NaN</td>\n",
       "      <td>NaN</td>\n",
       "      <td>NaN</td>\n",
       "      <td>NaN</td>\n",
       "      <td>NaN</td>\n",
       "      <td>NaN</td>\n",
       "      <td>[education/students, education/higher-educatio...</td>\n",
       "      <td>[Students, Higher education, Race, Department ...</td>\n",
       "      <td>[https://www.theguardian.com/education/student...</td>\n",
       "    </tr>\n",
       "  </tbody>\n",
       "</table>\n",
       "<p>5 rows × 49 columns</p>\n",
       "</div>"
      ],
      "text/plain": [
       "                                                  id     type  \\\n",
       "0  seek-the-new-world-of-work-/2022/apr/27/why-20...  article   \n",
       "1  world/2022/apr/26/us-covid-infections-antibodi...  article   \n",
       "2  media/2022/apr/27/mail-on-sunday-editor-reject...  article   \n",
       "3  technology/2022/apr/26/alphabet-google-revenue...  article   \n",
       "4  education/2022/apr/27/student-loan-change-engl...  article   \n",
       "\n",
       "                     sectionId                  sectionName  \\\n",
       "0  seek-the-new-world-of-work-  Seek: The new world of work   \n",
       "1                        world                   World news   \n",
       "2                        media                        Media   \n",
       "3                   technology                   Technology   \n",
       "4                    education                    Education   \n",
       "\n",
       "     webPublicationDate                                           webTitle  \\\n",
       "0  2022-04-26T23:39:50Z  Why 2022 is the year of the ‘great job boom’ a...   \n",
       "1  2022-04-26T23:28:51Z  More than half of Americans have had Covid, in...   \n",
       "2  2022-04-26T23:16:08Z  Mail on Sunday editor rejects meeting with Spe...   \n",
       "3  2022-04-26T23:05:49Z  Alphabet revenue falls short as YouTube and Ti...   \n",
       "4  2022-04-26T23:01:11Z  IFS: England’s student loan change to hit poor...   \n",
       "\n",
       "                                              webUrl  \\\n",
       "0  https://www.theguardian.com/seek-the-new-world...   \n",
       "1  https://www.theguardian.com/world/2022/apr/26/...   \n",
       "2  https://www.theguardian.com/media/2022/apr/27/...   \n",
       "3  https://www.theguardian.com/technology/2022/ap...   \n",
       "4  https://www.theguardian.com/education/2022/apr...   \n",
       "\n",
       "                                              apiUrl  \\\n",
       "0  https://content.guardianapis.com/seek-the-new-...   \n",
       "1  https://content.guardianapis.com/world/2022/ap...   \n",
       "2  https://content.guardianapis.com/media/2022/ap...   \n",
       "3  https://content.guardianapis.com/technology/20...   \n",
       "4  https://content.guardianapis.com/education/202...   \n",
       "\n",
       "                                                tags  isHosted  ...  \\\n",
       "0  [{'id': 'seek-the-new-world-of-work-/seek-the-...     False  ...   \n",
       "1  [{'id': 'world/coronavirus-outbreak', 'type': ...     False  ...   \n",
       "2  [{'id': 'media/mailonsunday', 'type': 'keyword...     False  ...   \n",
       "3  [{'id': 'technology/alphabet', 'type': 'keywor...     False  ...   \n",
       "4  [{'id': 'education/students', 'type': 'keyword...     False  ...   \n",
       "\n",
       "   newspaperEditionDate commentCloseDate commentable starRating  \\\n",
       "0                   NaN              NaN         NaN        NaN   \n",
       "1                   NaN              NaN         NaN        NaN   \n",
       "2                   NaN              NaN         NaN        NaN   \n",
       "3                   NaN              NaN         NaN        NaN   \n",
       "4  2022-04-27T00:00:00Z              NaN         NaN        NaN   \n",
       "\n",
       "  liveBloggingNow sensitive scheduledPublicationDate  \\\n",
       "0             NaN       NaN                      NaN   \n",
       "1             NaN       NaN                      NaN   \n",
       "2             NaN       NaN                      NaN   \n",
       "3             NaN       NaN                      NaN   \n",
       "4             NaN       NaN                      NaN   \n",
       "\n",
       "                                             tag_ids  \\\n",
       "0  [seek-the-new-world-of-work-/seek-the-new-worl...   \n",
       "1  [world/coronavirus-outbreak, science/infectiou...   \n",
       "2  [media/mailonsunday, politics/angela-rayner, p...   \n",
       "3  [technology/alphabet, technology/google, us-ne...   \n",
       "4  [education/students, education/higher-educatio...   \n",
       "\n",
       "                                       tag_webTitles  \\\n",
       "0  [Seek: The new world of work, Article, Adverti...   \n",
       "1  [Coronavirus, Infectious diseases, Medical res...   \n",
       "2  [Mail on Sunday, Angela Rayner, Labour, Daily ...   \n",
       "3  [Alphabet, Google, US news, Technology, Quarte...   \n",
       "4  [Students, Higher education, Race, Department ...   \n",
       "\n",
       "                                         tag_webUrls  \n",
       "0  [https://www.theguardian.com/seek-the-new-worl...  \n",
       "1  [https://www.theguardian.com/world/coronavirus...  \n",
       "2  [https://www.theguardian.com/media/mailonsunda...  \n",
       "3  [https://www.theguardian.com/technology/alphab...  \n",
       "4  [https://www.theguardian.com/education/student...  \n",
       "\n",
       "[5 rows x 49 columns]"
      ]
     },
     "execution_count": 35,
     "metadata": {},
     "output_type": "execute_result"
    }
   ],
   "source": [
    "gu_df_renamed.head()"
   ]
  },
  {
   "cell_type": "markdown",
   "metadata": {},
   "source": [
    "Column descriptions\n",
    "- `isHosted`: *\n",
    "- `firstPublicationDate`: *        \n",
    "- `isInappropriateForSponsorship`: *  \n",
    "- `isPremoderated`: Comments will be checked by a moderator prior to publication if true *  \n",
    "- `lastModified`: *\n",
    "- `productionOffice`:\n",
    "- `publication`:\n",
    "- `shortUrl` *\n",
    "- `shouldHideAdverts`: Hide ads (logical) *\n",
    "- `showInRelatedContent`: *\n",
    "- `thumbnail`: images for articles *\n",
    "- `legallySensitive`: *\n",
    "- `isLive`: *\n",
    "- `shouldHideReaderRevenue`: *\n",
    "- `showAffiliateLinks`: *\n",
    "- `bylineHtml`:  News article author\n",
    "- `pillarId`: *not sure what this is yet*\n",
    "- `pillarName`: *not sure what this is yet*\n",
    "- `newspaperPageNumber`: Page where the news article was featured in the printed newspaper  *\n",
    "- `newspaperEditionDate`: Publication date of print news article *\n",
    "\n",
    "Columns with many NaN:\n",
    "- `displayHint`: *\n",
    "- `commentCloseDate`: The date the comments have been closed *\n",
    "- `commentable`: Comments included (logical) *\n",
    "- `starRating`: *\n",
    "- `liveBloggingNow`: Content is currently live blogged if `true` *"
   ]
  },
  {
   "cell_type": "code",
   "execution_count": 36,
   "metadata": {},
   "outputs": [],
   "source": [
    "cols_to_drop = [\n",
    "    'isHosted', 'displayHint', 'firstPublicationDate', 'isInappropriateForSponsorship',\n",
    "    'isPremoderated', 'lastModified', 'productionOffice', 'shortUrl', 'shouldHideAdverts',\n",
    "    'showInRelatedContent', 'thumbnail', 'legallySensitive', 'isLive', 'shouldHideReaderRevenue',\n",
    "    'showAffiliateLinks', 'newspaperPageNumber', 'newspaperEditionDate', 'commentCloseDate', 'commentable', \n",
    "    'starRating', 'liveBloggingNow', 'sensitive', 'scheduledPublicationDate', 'tags'\n",
    "    ]"
   ]
  },
  {
   "cell_type": "code",
   "execution_count": 37,
   "metadata": {},
   "outputs": [],
   "source": [
    "gu_reduced = gu_df_renamed.drop(cols_to_drop, axis=1)"
   ]
  },
  {
   "cell_type": "code",
   "execution_count": 38,
   "metadata": {},
   "outputs": [
    {
     "name": "stdout",
     "output_type": "stream",
     "text": [
      "<class 'pandas.core.frame.DataFrame'>\n",
      "RangeIndex: 6586 entries, 0 to 6585\n",
      "Data columns (total 25 columns):\n",
      " #   Column              Non-Null Count  Dtype \n",
      "---  ------              --------------  ----- \n",
      " 0   id                  6586 non-null   object\n",
      " 1   type                6586 non-null   object\n",
      " 2   sectionId           6586 non-null   object\n",
      " 3   sectionName         6586 non-null   object\n",
      " 4   webPublicationDate  6586 non-null   object\n",
      " 5   webTitle            6586 non-null   object\n",
      " 6   webUrl              6586 non-null   object\n",
      " 7   apiUrl              6586 non-null   object\n",
      " 8   headline            6586 non-null   object\n",
      " 9   standfirst          6344 non-null   object\n",
      " 10  trailText           6586 non-null   object\n",
      " 11  byline              6522 non-null   object\n",
      " 12  main                6586 non-null   object\n",
      " 13  body                6586 non-null   object\n",
      " 14  wordcount           6586 non-null   object\n",
      " 15  publication         6586 non-null   object\n",
      " 16  lang                6586 non-null   object\n",
      " 17  bodyText            6586 non-null   object\n",
      " 18  charCount           6586 non-null   object\n",
      " 19  bylineHtml          6522 non-null   object\n",
      " 20  pillarId            6559 non-null   object\n",
      " 21  pillarName          6559 non-null   object\n",
      " 22  tag_ids             6586 non-null   object\n",
      " 23  tag_webTitles       6586 non-null   object\n",
      " 24  tag_webUrls         6586 non-null   object\n",
      "dtypes: object(25)\n",
      "memory usage: 1.3+ MB\n"
     ]
    }
   ],
   "source": [
    "gu_reduced.info()"
   ]
  },
  {
   "cell_type": "code",
   "execution_count": 39,
   "metadata": {},
   "outputs": [
    {
     "name": "stdout",
     "output_type": "stream",
     "text": [
      "count        6586\n",
      "unique          4\n",
      "top       article\n",
      "freq         6254\n",
      "Name: type, dtype: object\n",
      "['article' 'crossword' 'liveblog' 'interactive']\n"
     ]
    }
   ],
   "source": [
    "print(gu_reduced['type'].describe())\n",
    "print(gu_reduced['type'].unique())"
   ]
  },
  {
   "cell_type": "code",
   "execution_count": 40,
   "metadata": {},
   "outputs": [],
   "source": [
    "# select only type == articles\n",
    "gu_articles = gu_reduced[gu_reduced['type'] == 'article']\n",
    "gu_articles.drop('type', axis=1, inplace=True)"
   ]
  },
  {
   "cell_type": "code",
   "execution_count": 41,
   "metadata": {},
   "outputs": [
    {
     "data": {
      "text/plain": [
       "0    <figure class=\"element element-image\" data-med...\n",
       "1    <figure class=\"element element-image\" data-med...\n",
       "2    <figure class=\"element element-image\" data-med...\n",
       "Name: main, dtype: object"
      ]
     },
     "execution_count": 41,
     "metadata": {},
     "output_type": "execute_result"
    }
   ],
   "source": [
    "gu_articles['main'].iloc[:3]"
   ]
  },
  {
   "cell_type": "markdown",
   "metadata": {},
   "source": [
    "`main` seems to be the main article image."
   ]
  },
  {
   "cell_type": "code",
   "execution_count": 42,
   "metadata": {},
   "outputs": [],
   "source": [
    "gu_articles.drop('main', axis=1, inplace=True)"
   ]
  },
  {
   "cell_type": "code",
   "execution_count": 43,
   "metadata": {},
   "outputs": [],
   "source": [
    "short_text_cols = ['webTitle', 'headline', 'standfirst', 'trailText', 'byline']"
   ]
  },
  {
   "cell_type": "code",
   "execution_count": 44,
   "metadata": {},
   "outputs": [
    {
     "name": "stdout",
     "output_type": "stream",
     "text": [
      "webTitle:  Why 2022 is the year of the ‘great job boom’ and what you need to know about it\n",
      "headline:  Why 2022 is the year of the ‘great job boom’ and what you need to know about it\n",
      "standfirst:  <p>The pandemic has changed global workforces. In Australia, it has put the power in the hands of jobseekers.</p>\n",
      "trailText:  The pandemic has changed global workforces. In Australia, it has put the power in the hands of jobseekers.\n",
      "byline:  \n",
      "\n",
      "\n",
      "webTitle:  More than half of Americans have had Covid, including three of four children\n",
      "headline:  More than half of Americans have had Covid, including three of four children\n",
      "standfirst:  <p>A CDC report showed a striking increase in those with coronavirus antibodies between December and February</p><p></p>\n",
      "trailText:  A CDC report showed a striking increase in those with coronavirus antibodies between December and February\n",
      "byline:  Guardian staff and agencies\n",
      "\n",
      "\n",
      "webTitle:  Mail on Sunday editor rejects meeting with Speaker over Angela Rayner story\n",
      "headline:  Mail on Sunday editor rejects meeting with Speaker over Angela Rayner story\n",
      "standfirst:  <p>David Dillon had been called to a meeting with Sir Lindsay Hoyle after running a story widely condemned as sexist</p>\n",
      "trailText:  David Dillon had been called to a meeting with Sir Lindsay Hoyle after running a story widely condemned as sexist\n",
      "byline:  Tom Ambrose\n",
      "\n",
      "\n"
     ]
    }
   ],
   "source": [
    "for i in range(3):\n",
    "    for col in short_text_cols:\n",
    "        print(f\"{col}: \", gu_articles.iloc[i][col])\n",
    "    print('\\n')"
   ]
  },
  {
   "cell_type": "markdown",
   "metadata": {},
   "source": [
    "`webTitle` and `headline` are the same"
   ]
  },
  {
   "cell_type": "code",
   "execution_count": 45,
   "metadata": {},
   "outputs": [
    {
     "data": {
      "text/plain": [
       "count     6254\n",
       "unique       2\n",
       "top       True\n",
       "freq      5261\n",
       "Name: webTitle_eq_headline, dtype: object"
      ]
     },
     "execution_count": 45,
     "metadata": {},
     "output_type": "execute_result"
    }
   ],
   "source": [
    "gu_articles['webTitle_eq_headline'] = gu_articles.apply(lambda x: x['webTitle'] == x['headline'], axis=1)\n",
    "gu_articles['webTitle_eq_headline'].describe()"
   ]
  },
  {
   "cell_type": "code",
   "execution_count": 46,
   "metadata": {},
   "outputs": [
    {
     "name": "stdout",
     "output_type": "stream",
     "text": [
      "Foden dazzles on big stage as defiant Real Madrid refuse to admit defeat | Barney Ronay\n",
      "Foden dazzles on big stage as defiant Real Madrid refuse to admit defeat\n",
      "Henderson, Emery and night in a bar that launched Klopp’s new Liverpool | Andy Hunter\n",
      "Henderson, Emery and night in a bar that launched Klopp’s new Liverpool\n",
      "PM dodges MPs again as junior minister takes the flak | John Crace\n",
      "PM dodges MPs again as junior minister takes the flak\n"
     ]
    }
   ],
   "source": [
    "for i in range(3):\n",
    "    print(gu_articles[gu_articles['webTitle_eq_headline'] == False].iloc[i]['webTitle'])\n",
    "    print(gu_articles[gu_articles['webTitle_eq_headline'] == False].iloc[i]['headline'])"
   ]
  },
  {
   "cell_type": "markdown",
   "metadata": {},
   "source": [
    "In cases where the two columns are not equal, `webTitle` contains title and author whereas `headline` only contains the title"
   ]
  },
  {
   "cell_type": "code",
   "execution_count": 47,
   "metadata": {},
   "outputs": [],
   "source": [
    "gu_articles.drop(['webTitle', 'webTitle_eq_headline'], axis=1, inplace=True)"
   ]
  },
  {
   "cell_type": "code",
   "execution_count": 48,
   "metadata": {},
   "outputs": [
    {
     "name": "stdout",
     "output_type": "stream",
     "text": [
      "<class 'pandas.core.frame.DataFrame'>\n",
      "Int64Index: 6254 entries, 0 to 6584\n",
      "Data columns (total 2 columns):\n",
      " #   Column      Non-Null Count  Dtype \n",
      "---  ------      --------------  ----- \n",
      " 0   standfirst  6094 non-null   object\n",
      " 1   trailText   6254 non-null   object\n",
      "dtypes: object(2)\n",
      "memory usage: 146.6+ KB\n"
     ]
    }
   ],
   "source": [
    "gu_articles[['standfirst', 'trailText']].info()"
   ]
  },
  {
   "cell_type": "markdown",
   "metadata": {},
   "source": [
    "`standfirst` and `trailText`: former is the same as the latter, but contains the HTML tags. There are no obvious missing values in `trailText`"
   ]
  },
  {
   "cell_type": "code",
   "execution_count": 49,
   "metadata": {},
   "outputs": [],
   "source": [
    "gu_articles.drop('standfirst', axis=1, inplace=True)"
   ]
  },
  {
   "cell_type": "code",
   "execution_count": 50,
   "metadata": {},
   "outputs": [
    {
     "name": "stdout",
     "output_type": "stream",
     "text": [
      "<class 'pandas.core.frame.DataFrame'>\n",
      "Int64Index: 6254 entries, 0 to 6584\n",
      "Data columns (total 21 columns):\n",
      " #   Column              Non-Null Count  Dtype \n",
      "---  ------              --------------  ----- \n",
      " 0   id                  6254 non-null   object\n",
      " 1   sectionId           6254 non-null   object\n",
      " 2   sectionName         6254 non-null   object\n",
      " 3   webPublicationDate  6254 non-null   object\n",
      " 4   webUrl              6254 non-null   object\n",
      " 5   apiUrl              6254 non-null   object\n",
      " 6   headline            6254 non-null   object\n",
      " 7   trailText           6254 non-null   object\n",
      " 8   byline              6226 non-null   object\n",
      " 9   body                6254 non-null   object\n",
      " 10  wordcount           6254 non-null   object\n",
      " 11  publication         6254 non-null   object\n",
      " 12  lang                6254 non-null   object\n",
      " 13  bodyText            6254 non-null   object\n",
      " 14  charCount           6254 non-null   object\n",
      " 15  bylineHtml          6226 non-null   object\n",
      " 16  pillarId            6227 non-null   object\n",
      " 17  pillarName          6227 non-null   object\n",
      " 18  tag_ids             6254 non-null   object\n",
      " 19  tag_webTitles       6254 non-null   object\n",
      " 20  tag_webUrls         6254 non-null   object\n",
      "dtypes: object(21)\n",
      "memory usage: 1.0+ MB\n"
     ]
    }
   ],
   "source": [
    "gu_articles.info()"
   ]
  },
  {
   "cell_type": "markdown",
   "metadata": {},
   "source": [
    "3 relevant text fields:\n",
    "- `headline`\n",
    "- `trailText`\n",
    "- `body`/`bodyText`"
   ]
  },
  {
   "cell_type": "markdown",
   "metadata": {},
   "source": [
    "# Twitter - Guardian Tweets"
   ]
  },
  {
   "cell_type": "code",
   "execution_count": 5,
   "metadata": {},
   "outputs": [],
   "source": [
    "# Load Twitter data\n",
    "twitter_df = pd.read_csv('../data/raw/gu_twitter/gu_tweets.csv')"
   ]
  },
  {
   "cell_type": "code",
   "execution_count": 6,
   "metadata": {},
   "outputs": [
    {
     "data": {
      "text/html": [
       "<div>\n",
       "<style scoped>\n",
       "    .dataframe tbody tr th:only-of-type {\n",
       "        vertical-align: middle;\n",
       "    }\n",
       "\n",
       "    .dataframe tbody tr th {\n",
       "        vertical-align: top;\n",
       "    }\n",
       "\n",
       "    .dataframe thead th {\n",
       "        text-align: right;\n",
       "    }\n",
       "</style>\n",
       "<table border=\"1\" class=\"dataframe\">\n",
       "  <thead>\n",
       "    <tr style=\"text-align: right;\">\n",
       "      <th></th>\n",
       "      <th>created_at</th>\n",
       "      <th>id</th>\n",
       "      <th>text</th>\n",
       "    </tr>\n",
       "  </thead>\n",
       "  <tbody>\n",
       "    <tr>\n",
       "      <th>0</th>\n",
       "      <td>Wed Sep 28 21:17:47 +0000 2022</td>\n",
       "      <td>1575233331943309339</td>\n",
       "      <td>Morning mail: hurricane with 240km/h winds hit...</td>\n",
       "    </tr>\n",
       "    <tr>\n",
       "      <th>1</th>\n",
       "      <td>Wed Sep 28 21:17:46 +0000 2022</td>\n",
       "      <td>1575233327329574924</td>\n",
       "      <td>R Kelly ordered to pay restitution of $300,000...</td>\n",
       "    </tr>\n",
       "    <tr>\n",
       "      <th>2</th>\n",
       "      <td>Wed Sep 28 21:17:44 +0000 2022</td>\n",
       "      <td>1575233321063292928</td>\n",
       "      <td>Two aircraft involved in ‘minor collision’ on ...</td>\n",
       "    </tr>\n",
       "    <tr>\n",
       "      <th>3</th>\n",
       "      <td>Wed Sep 28 21:10:00 +0000 2022</td>\n",
       "      <td>1575231372490309658</td>\n",
       "      <td>We’re keen to hear from people who have recent...</td>\n",
       "    </tr>\n",
       "    <tr>\n",
       "      <th>4</th>\n",
       "      <td>Wed Sep 28 21:03:05 +0000 2022</td>\n",
       "      <td>1575229631912869894</td>\n",
       "      <td>Guardian front page, Thursday 29 September 202...</td>\n",
       "    </tr>\n",
       "  </tbody>\n",
       "</table>\n",
       "</div>"
      ],
      "text/plain": [
       "                       created_at                   id  \\\n",
       "0  Wed Sep 28 21:17:47 +0000 2022  1575233331943309339   \n",
       "1  Wed Sep 28 21:17:46 +0000 2022  1575233327329574924   \n",
       "2  Wed Sep 28 21:17:44 +0000 2022  1575233321063292928   \n",
       "3  Wed Sep 28 21:10:00 +0000 2022  1575231372490309658   \n",
       "4  Wed Sep 28 21:03:05 +0000 2022  1575229631912869894   \n",
       "\n",
       "                                                text  \n",
       "0  Morning mail: hurricane with 240km/h winds hit...  \n",
       "1  R Kelly ordered to pay restitution of $300,000...  \n",
       "2  Two aircraft involved in ‘minor collision’ on ...  \n",
       "3  We’re keen to hear from people who have recent...  \n",
       "4  Guardian front page, Thursday 29 September 202...  "
      ]
     },
     "execution_count": 6,
     "metadata": {},
     "output_type": "execute_result"
    }
   ],
   "source": [
    "twitter_df.head()"
   ]
  }
 ],
 "metadata": {
  "kernelspec": {
   "display_name": "Python 3.9.13 ('b-thesis')",
   "language": "python",
   "name": "python3"
  },
  "language_info": {
   "codemirror_mode": {
    "name": "ipython",
    "version": 3
   },
   "file_extension": ".py",
   "mimetype": "text/x-python",
   "name": "python",
   "nbconvert_exporter": "python",
   "pygments_lexer": "ipython3",
   "version": "3.9.13"
  },
  "orig_nbformat": 4,
  "vscode": {
   "interpreter": {
    "hash": "6cc34f913a7f1ca55160808e1759ac312dd0ad5ecfa942c36b2d3d154b205193"
   }
  }
 },
 "nbformat": 4,
 "nbformat_minor": 2
}
