{
 "cells": [
  {
   "cell_type": "markdown",
   "metadata": {},
   "source": [
    "# Setup"
   ]
  },
  {
   "cell_type": "code",
   "execution_count": 4,
   "metadata": {},
   "outputs": [
    {
     "name": "stdout",
     "output_type": "stream",
     "text": [
      "The dotenv extension is already loaded. To reload it, use:\n",
      "  %reload_ext dotenv\n"
     ]
    }
   ],
   "source": [
    "# Navigate file system\n",
    "import os\n",
    "\n",
    "# Access API secrets in .env file\n",
    "%load_ext dotenv\n",
    "%dotenv\n",
    "\n",
    "# Accessing API\n",
    "import requests\n",
    "\n",
    "# Datetime utilities\n",
    "import time\n",
    "from datetime import date, timedelta\n",
    "import dateutil\n",
    "from dateutil.relativedelta import relativedelta\n",
    "\n",
    "# Dataset exploration\n",
    "import pandas as pd\n",
    "pd.set_option('display.max_rows', None)\n",
    "\n",
    "# Output formatting\n",
    "from pprint import pprint\n",
    "\n",
    "# Notebook settings\n",
    "import warnings\n",
    "warnings.filterwarnings('ignore')"
   ]
  },
  {
   "cell_type": "code",
   "execution_count": 18,
   "metadata": {},
   "outputs": [],
   "source": [
    "GUARDIAN_API_KEY=os.getenv('GUARDIAN_API_KEY')\n",
    "API_ENDPOINT = 'https://content.guardianapis.com/search'\n",
    "params = {\n",
    "    'from-date': '2022-09-26',\n",
    "    'to-date': '2022-09-27',\n",
    "    'show-fields': 'all',\n",
    "    'section':'news',\n",
    "    'page-size': '10',\n",
    "    'api-key': GUARDIAN_API_KEY\n",
    "}"
   ]
  },
  {
   "cell_type": "code",
   "execution_count": 7,
   "metadata": {},
   "outputs": [],
   "source": [
    "start = date(2021, 9, 27)\n",
    "end = date(2022, 9, 27)\n",
    "date_range = range((end - start).days + 1)"
   ]
  },
  {
   "cell_type": "code",
   "execution_count": 8,
   "metadata": {},
   "outputs": [
    {
     "data": {
      "text/plain": [
       "range(0, 366)"
      ]
     },
     "execution_count": 8,
     "metadata": {},
     "output_type": "execute_result"
    }
   ],
   "source": [
    "date_range"
   ]
  },
  {
   "cell_type": "code",
   "execution_count": 31,
   "metadata": {},
   "outputs": [],
   "source": [
    "sections_df = pd.DataFrame(requests.get(f\"https://content.guardianapis.com/sections?&api-key={GUARDIAN_API_KEY}\").json()['response']['results'])\n",
    "sections_df.drop(['editions', 'activeSponsorships'], axis=1, inplace=True)"
   ]
  },
  {
   "cell_type": "code",
   "execution_count": 40,
   "metadata": {},
   "outputs": [
    {
     "data": {
      "text/html": [
       "<div>\n",
       "<style scoped>\n",
       "    .dataframe tbody tr th:only-of-type {\n",
       "        vertical-align: middle;\n",
       "    }\n",
       "\n",
       "    .dataframe tbody tr th {\n",
       "        vertical-align: top;\n",
       "    }\n",
       "\n",
       "    .dataframe thead th {\n",
       "        text-align: right;\n",
       "    }\n",
       "</style>\n",
       "<table border=\"1\" class=\"dataframe\">\n",
       "  <thead>\n",
       "    <tr style=\"text-align: right;\">\n",
       "      <th></th>\n",
       "      <th>id</th>\n",
       "      <th>webTitle</th>\n",
       "      <th>webUrl</th>\n",
       "      <th>apiUrl</th>\n",
       "    </tr>\n",
       "  </thead>\n",
       "  <tbody>\n",
       "    <tr>\n",
       "      <th>0</th>\n",
       "      <td>about</td>\n",
       "      <td>About</td>\n",
       "      <td>https://www.theguardian.com/about</td>\n",
       "      <td>https://content.guardianapis.com/about</td>\n",
       "    </tr>\n",
       "    <tr>\n",
       "      <th>1</th>\n",
       "      <td>animals-farmed</td>\n",
       "      <td>Animals farmed</td>\n",
       "      <td>https://www.theguardian.com/animals-farmed</td>\n",
       "      <td>https://content.guardianapis.com/animals-farmed</td>\n",
       "    </tr>\n",
       "    <tr>\n",
       "      <th>2</th>\n",
       "      <td>artanddesign</td>\n",
       "      <td>Art and design</td>\n",
       "      <td>https://www.theguardian.com/artanddesign</td>\n",
       "      <td>https://content.guardianapis.com/artanddesign</td>\n",
       "    </tr>\n",
       "    <tr>\n",
       "      <th>3</th>\n",
       "      <td>australia-news</td>\n",
       "      <td>Australia news</td>\n",
       "      <td>https://www.theguardian.com/australia-news</td>\n",
       "      <td>https://content.guardianapis.com/australia-news</td>\n",
       "    </tr>\n",
       "    <tr>\n",
       "      <th>4</th>\n",
       "      <td>better-business</td>\n",
       "      <td>Better Business</td>\n",
       "      <td>https://www.theguardian.com/better-business</td>\n",
       "      <td>https://content.guardianapis.com/better-business</td>\n",
       "    </tr>\n",
       "  </tbody>\n",
       "</table>\n",
       "</div>"
      ],
      "text/plain": [
       "                id         webTitle  \\\n",
       "0            about            About   \n",
       "1   animals-farmed   Animals farmed   \n",
       "2     artanddesign   Art and design   \n",
       "3   australia-news   Australia news   \n",
       "4  better-business  Better Business   \n",
       "\n",
       "                                        webUrl  \\\n",
       "0            https://www.theguardian.com/about   \n",
       "1   https://www.theguardian.com/animals-farmed   \n",
       "2     https://www.theguardian.com/artanddesign   \n",
       "3   https://www.theguardian.com/australia-news   \n",
       "4  https://www.theguardian.com/better-business   \n",
       "\n",
       "                                             apiUrl  \n",
       "0            https://content.guardianapis.com/about  \n",
       "1   https://content.guardianapis.com/animals-farmed  \n",
       "2     https://content.guardianapis.com/artanddesign  \n",
       "3   https://content.guardianapis.com/australia-news  \n",
       "4  https://content.guardianapis.com/better-business  "
      ]
     },
     "execution_count": 40,
     "metadata": {},
     "output_type": "execute_result"
    }
   ],
   "source": [
    "sections_df.head()"
   ]
  },
  {
   "cell_type": "code",
   "execution_count": 44,
   "metadata": {},
   "outputs": [
    {
     "data": {
      "text/plain": [
       "Index(['id', 'type', 'sectionId', 'sectionName', 'webPublicationDate',\n",
       "       'webTitle', 'webUrl', 'apiUrl', 'isHosted', 'pillarId', 'pillarName',\n",
       "       'fields.headline', 'fields.standfirst', 'fields.trailText',\n",
       "       'fields.byline', 'fields.main', 'fields.body',\n",
       "       'fields.newspaperPageNumber', 'fields.wordcount',\n",
       "       'fields.firstPublicationDate', 'fields.isInappropriateForSponsorship',\n",
       "       'fields.isPremoderated', 'fields.lastModified',\n",
       "       'fields.newspaperEditionDate', 'fields.productionOffice',\n",
       "       'fields.publication', 'fields.shortUrl', 'fields.shouldHideAdverts',\n",
       "       'fields.showInRelatedContent', 'fields.legallySensitive', 'fields.lang',\n",
       "       'fields.isLive', 'fields.bodyText', 'fields.charCount',\n",
       "       'fields.shouldHideReaderRevenue', 'fields.showAffiliateLinks',\n",
       "       'fields.bylineHtml', 'fields.thumbnail'],\n",
       "      dtype='object')"
      ]
     },
     "execution_count": 44,
     "metadata": {},
     "output_type": "execute_result"
    }
   ],
   "source": [
    "\n",
    "pd.json_normalize(r.json()['response']['results']).columns#[0]"
   ]
  },
  {
   "cell_type": "code",
   "execution_count": 19,
   "metadata": {},
   "outputs": [
    {
     "data": {
      "text/plain": [
       "{'response': {'status': 'ok',\n",
       "  'userTier': 'developer',\n",
       "  'total': 4,\n",
       "  'startIndex': 1,\n",
       "  'pageSize': 10,\n",
       "  'currentPage': 1,\n",
       "  'pages': 1,\n",
       "  'orderBy': 'newest',\n",
       "  'results': [{'id': 'news/2022/sep/27/corrections-and-clarifications',\n",
       "    'type': 'article',\n",
       "    'sectionId': 'news',\n",
       "    'sectionName': 'News',\n",
       "    'webPublicationDate': '2022-09-27T20:00:47Z',\n",
       "    'webTitle': 'Corrections and clarifications',\n",
       "    'webUrl': 'https://www.theguardian.com/news/2022/sep/27/corrections-and-clarifications',\n",
       "    'apiUrl': 'https://content.guardianapis.com/news/2022/sep/27/corrections-and-clarifications',\n",
       "    'fields': {'headline': 'Corrections and clarifications',\n",
       "     'standfirst': '<p>John Maynard Keynes | Irene Papas obituary</p>',\n",
       "     'trailText': 'John Maynard Keynes | Irene Papas obituary',\n",
       "     'byline': 'Corrections and clarifications column editor',\n",
       "     'main': '',\n",
       "     'body': '<p>• An article (<a href=\"https://www.theguardian.com/politics/2022/sep/13/how-is-liz-trusss-government-challenging-treasury-orthodoxy\" title=\"\">A gamble on growth</a>, 14 September, p33) referred to the economist John Maynard Keynes arguing that spending on job creation would pay for itself because shorter dole queues would mean higher taxes and a smaller welfare bill. That should have said higher tax receipts, not taxes.</p> <p>• The actor Irene Papas was born in 1929, not 1926, and was 93 when she died, not 96 as an <a href=\"https://www.theguardian.com/film/2022/sep/14/irene-papas-obituary\" title=\"\">obituary</a> said (15 September, Journal, p10).</p> <p>• Other recently amended articles include:</p> <p><a href=\"https://www.theguardian.com/uk-news/2022/sep/23/mini-budget-brings-fear-and-anger-to-liz-truss-home-patch\" title=\"\">‘Helping the rich’: mini-budget brings fear and anger to PM’s home patch</a></p> <p><a href=\"https://www.theguardian.com/uk-news/2022/sep/23/mini-budget-government-accused-huge-tax-cut-for-super-wealthy\" title=\"\">‘A budget for the 1%’: government accused of huge tax cut for super-wealthy</a></p> <p><a href=\"https://www.theguardian.com/world/2022/sep/23/families-need-help-with-inquests-say-relatives-of-woman-who-died-of-dairy-allergy\" title=\"\">Families need help with inquests, say relatives of woman who died of dairy allergy</a></p> <p><a href=\"https://www.theguardian.com/sport/2022/sep/26/a-generational-talent-rihanna-to-perform-super-bowl-half-time-show\" title=\"\">‘A generational talent’: Rihanna to perform Super Bowl half-time show</a></p> <p><a href=\"https://www.theguardian.com/environment/2022/sep/23/rees-mogg-constituency-fracked-tory-shale-gas-drilling\" title=\"\">Rees-Mogg should make his constituency first to be fracked, says Tory MP</a></p> <p><a href=\"https://www.theguardian.com/environment/2022/sep/22/truss-could-break-fracking-election-pledge-to-bypass-local-opposition\" title=\"\">Truss could break fracking election pledge to bypass local opposition</a></p> <p><a href=\"https://www.theguardian.com/tv-and-radio/2022/sep/25/bali-2002-review-bali-bombings-mini-series-is-out-of-its-depth\" title=\"\">Bali 2002 review – Bali bombings mini-series is out of its depth</a></p> <p><a href=\"https://www.theguardian.com/music/2022/sep/26/a-church-with-open-doors-the-ecstatic-power-of-pharoah-sanders\" title=\"\">A church with open doors: the ecstatic power of Pharoah Sanders</a></p> <p><a href=\"https://www.theguardian.com/commentisfree/2022/sep/26/january-6-committee-ginni-thomas-clarence-thomas\" title=\"\">The January 6 committee has its sights on Ginni Thomas. She should be worried</a></p> <p><a href=\"https://www.theguardian.com/law/2022/sep/07/liz-truss-halts-dominic-raab-bill-of-rights-plan\" title=\"\">Liz Truss halts Dominic Raab’s bill of rights plan</a></p> <p><em>Editorial complaints and correction requests can be sent to: </em><a href=\"mailto:guardian.readers@theguardian.com\" title=\"\"><em>guardian.readers@theguardian.com</em></a><em>.</em><br incopy-break-type=\"webbreak\"></p> <p><em>You can also write to: Readers’ editor, Kings Place, 90 York Way, London N1 9GU, or leave a voicemail on +44 (0) 20 3353 4736.</em></p>',\n",
       "     'newspaperPageNumber': '5',\n",
       "     'wordcount': '234',\n",
       "     'firstPublicationDate': '2022-09-27T20:00:47Z',\n",
       "     'isInappropriateForSponsorship': 'true',\n",
       "     'isPremoderated': 'false',\n",
       "     'lastModified': '2022-09-27T20:00:47Z',\n",
       "     'newspaperEditionDate': '2022-09-28T00:00:00Z',\n",
       "     'productionOffice': 'UK',\n",
       "     'publication': 'The Guardian',\n",
       "     'shortUrl': 'https://www.theguardian.com/p/mbcxj',\n",
       "     'shouldHideAdverts': 'false',\n",
       "     'showInRelatedContent': 'true',\n",
       "     'legallySensitive': 'false',\n",
       "     'lang': 'en',\n",
       "     'isLive': 'true',\n",
       "     'bodyText': '• An article (A gamble on growth, 14 September, p33) referred to the economist John Maynard Keynes arguing that spending on job creation would pay for itself because shorter dole queues would mean higher taxes and a smaller welfare bill. That should have said higher tax receipts, not taxes. • The actor Irene Papas was born in 1929, not 1926, and was 93 when she died, not 96 as an obituary said (15 September, Journal, p10). • Other recently amended articles include: ‘Helping the rich’: mini-budget brings fear and anger to PM’s home patch ‘A budget for the 1%’: government accused of huge tax cut for super-wealthy Families need help with inquests, say relatives of woman who died of dairy allergy ‘A generational talent’: Rihanna to perform Super Bowl half-time show Rees-Mogg should make his constituency first to be fracked, says Tory MP Truss could break fracking election pledge to bypass local opposition Bali 2002 review – Bali bombings mini-series is out of its depth A church with open doors: the ecstatic power of Pharoah Sanders The January 6 committee has its sights on Ginni Thomas. She should be worried Liz Truss halts Dominic Raab’s bill of rights plan Editorial complaints and correction requests can be sent to: guardian.readers@theguardian.com. You can also write to: Readers’ editor, Kings Place, 90 York Way, London N1 9GU, or leave a voicemail on +44 (0) 20 3353 4736.',\n",
       "     'charCount': '1394',\n",
       "     'shouldHideReaderRevenue': 'false',\n",
       "     'showAffiliateLinks': 'false',\n",
       "     'bylineHtml': '<a href=\"profile/editor-of-the-corrections-and-clarifications-column\">Corrections and clarifications column editor</a>'},\n",
       "    'isHosted': False,\n",
       "    'pillarId': 'pillar/news',\n",
       "    'pillarName': 'News'},\n",
       "   {'id': 'news/2022/sep/27/axioma-russian-oligarch-seized-superyacht-sold-gibraltar',\n",
       "    'type': 'article',\n",
       "    'sectionId': 'news',\n",
       "    'sectionName': 'News',\n",
       "    'webPublicationDate': '2022-09-27T18:01:02Z',\n",
       "    'webTitle': 'Russian oligarch’s seized superyacht sold for $37.5m',\n",
       "    'webUrl': 'https://www.theguardian.com/news/2022/sep/27/axioma-russian-oligarch-seized-superyacht-sold-gibraltar',\n",
       "    'apiUrl': 'https://content.guardianapis.com/news/2022/sep/27/axioma-russian-oligarch-seized-superyacht-sold-gibraltar',\n",
       "    'fields': {'headline': 'Russian oligarch’s seized superyacht sold for $37.5m',\n",
       "     'standfirst': '<p>Axioma, which had been owned by Dmitry Pumpyansky, auctioned after being impounded in Gibraltar </p>',\n",
       "     'trailText': 'Axioma, which had been owned by Dmitry Pumpyansky, auctioned after being impounded in Gibraltar',\n",
       "     'byline': 'Rupert Neate Wealth correspondent',\n",
       "     'main': '<figure class=\"element element-image\" data-media-id=\"b9a4ec3e6eeaf512cda598108122bc6727e3076b\"> <img src=\"https://media.guim.co.uk/b9a4ec3e6eeaf512cda598108122bc6727e3076b/0_233_3500_2101/1000.jpg\" alt=\"The Axioma superyacht has a swimming pool, a 3D cinema room, a gym and a jacuzzi.\" width=\"1000\" height=\"600\" class=\"gu-image\" /> <figcaption> <span class=\"element-image__caption\">The Axioma superyacht has a swimming pool, a 3D cinema room, a gym and a jacuzzi.</span> <span class=\"element-image__credit\">Photograph: Jon Nazca/Reuters</span> </figcaption> </figure>',\n",
       "     'body': '<p>A luxury superyacht taken from a Russian oligarch facing sanctions has been sold to an undisclosed buyer for $37.5m (£35m) in <a href=\"https://www.theguardian.com/world/2022/aug/20/gibraltar-prepares-for-first-auction-of-a-russian-oligarchs-detained-superyacht\">the first sale of its kind</a> since Russia invaded Ukraine.</p> <p>The 72.5-metre <a href=\"https://www.yachtcharterfleet.com/luxury-charter-yacht-22231/axioma.htm\">Axioma</a> was seized from the steel billionaire Dmitry Pumpyansky <a href=\"https://www.theguardian.com/world/2022/mar/22/superyacht-belonging-to-russian-oligarch-seized-in-gibraltar?utm_term=Autofeed&amp;CMP=twt_gu&amp;utm_medium&amp;utm_source=Twitter\">in March</a> after <a href=\"https://www.theguardian.com/world/2022/mar/04/russia-oligarchs-business-figures-west-sanction-lists-us-eu-uk-ukraine\">sanctions by the UK, EU and the US</a>.</p> <p>However, the yacht, which features a swimming pool, a 3D cinema room, a gym, a Jacuzzi and a fully equipped spa – was not sold for the benefit of the Ukrainian people but for a US investment bank, JP Morgan, which claims Pumpyansky owes it €20.5m.</p> <p>The yacht was impounded by the Gibraltar authorities in March, after a court claim from JP Morgan. The Office of the Admiralty Marshal, a branch of Gibraltar’s supreme court, oversaw its auction in August, which attracted 63 bids.</p> <p>“The Admiralty Marshal has today sold the MY Axioma following payment into court of $37.5m by the successful bidder,” the court said in a statement on Tuesday. “The bid was selected after completion of an enhanced due diligence process, but the Admiralty Marshal will not be disclosing the identity of the buyer.”</p> <p>Pumpyansky was until March of this year the owner and chair of the steel pipe manufacturer OAO TMK, a supplier to the Russian state-owned energy company Gazprom. The UK said the billionaire, who it said had built up an estimated £1.84bn fortune, <a href=\"https://www.gov.uk/government/news/foreign-secretary-announces-historic-round-of-sanctions-15-march-2022\">was one of the oligarchs “closest to Putin”</a>.</p> <p>The yacht was detained by the Gibraltar government after a legal claim from <a href=\"https://www.theguardian.com/business/jpmorgan\">JP Morgan</a>, which said Pumpyansky’s holding company Pyrene Investments owed it €20.5m.</p> <p>JP Morgan said the fact the billionaire had been subjected to sanctions meant the terms of the loan had been breached because it legally could not accept repayments from Pyrene, and asked the Gibraltar courts to detain and sell the yacht.</p> <p>The yacht, the work of the superyacht designer Alberto Pinto, was built by Dunya Yachts in Turkey in 2013. The boat, which was originally named Red Square before being renamed Axioma, was <a href=\"https://www.yachtcharterfleet.com/luxury-charter-yacht-22231/axioma.htm\">available for other millionaires to charter</a> for $558,500 a week.</p> <p>“With its luxurious interiors, vast array of onboard facilities and a highly trained and professional crew, a luxury yacht vacation onboard motor yacht Axioma promises to be nothing short of spectacular,” the charter listing states.</p>',\n",
       "     'wordcount': '384',\n",
       "     'firstPublicationDate': '2022-09-27T18:01:02Z',\n",
       "     'isInappropriateForSponsorship': 'false',\n",
       "     'isPremoderated': 'false',\n",
       "     'lastModified': '2022-09-27T18:23:48Z',\n",
       "     'productionOffice': 'UK',\n",
       "     'publication': 'theguardian.com',\n",
       "     'shortUrl': 'https://www.theguardian.com/p/mbdje',\n",
       "     'shouldHideAdverts': 'false',\n",
       "     'showInRelatedContent': 'true',\n",
       "     'thumbnail': 'https://media.guim.co.uk/b9a4ec3e6eeaf512cda598108122bc6727e3076b/0_233_3500_2101/500.jpg',\n",
       "     'legallySensitive': 'false',\n",
       "     'lang': 'en',\n",
       "     'isLive': 'true',\n",
       "     'bodyText': 'A luxury superyacht taken from a Russian oligarch facing sanctions has been sold to an undisclosed buyer for $37.5m (£35m) in the first sale of its kind since Russia invaded Ukraine. The 72.5-metre Axioma was seized from the steel billionaire Dmitry Pumpyansky in March after sanctions by the UK, EU and the US. However, the yacht, which features a swimming pool, a 3D cinema room, a gym, a Jacuzzi and a fully equipped spa – was not sold for the benefit of the Ukrainian people but for a US investment bank, JP Morgan, which claims Pumpyansky owes it €20.5m. The yacht was impounded by the Gibraltar authorities in March, after a court claim from JP Morgan. The Office of the Admiralty Marshal, a branch of Gibraltar’s supreme court, oversaw its auction in August, which attracted 63 bids. “The Admiralty Marshal has today sold the MY Axioma following payment into court of $37.5m by the successful bidder,” the court said in a statement on Tuesday. “The bid was selected after completion of an enhanced due diligence process, but the Admiralty Marshal will not be disclosing the identity of the buyer.” Pumpyansky was until March of this year the owner and chair of the steel pipe manufacturer OAO TMK, a supplier to the Russian state-owned energy company Gazprom. The UK said the billionaire, who it said had built up an estimated £1.84bn fortune, was one of the oligarchs “closest to Putin”. The yacht was detained by the Gibraltar government after a legal claim from JP Morgan, which said Pumpyansky’s holding company Pyrene Investments owed it €20.5m. JP Morgan said the fact the billionaire had been subjected to sanctions meant the terms of the loan had been breached because it legally could not accept repayments from Pyrene, and asked the Gibraltar courts to detain and sell the yacht. The yacht, the work of the superyacht designer Alberto Pinto, was built by Dunya Yachts in Turkey in 2013. The boat, which was originally named Red Square before being renamed Axioma, was available for other millionaires to charter for $558,500 a week. “With its luxurious interiors, vast array of onboard facilities and a highly trained and professional crew, a luxury yacht vacation onboard motor yacht Axioma promises to be nothing short of spectacular,” the charter listing states.',\n",
       "     'charCount': '2282',\n",
       "     'shouldHideReaderRevenue': 'false',\n",
       "     'showAffiliateLinks': 'false',\n",
       "     'bylineHtml': '<a href=\"profile/rupertneate\">Rupert Neate</a> Wealth correspondent'},\n",
       "    'isHosted': False,\n",
       "    'pillarId': 'pillar/news',\n",
       "    'pillarName': 'News'},\n",
       "   {'id': 'news/2022/sep/27/super-rich-uk-non-doms-avoiding-32bn-in-tax-each-year-report-finds',\n",
       "    'type': 'article',\n",
       "    'sectionId': 'news',\n",
       "    'sectionName': 'News',\n",
       "    'webPublicationDate': '2022-09-26T23:01:06Z',\n",
       "    'webTitle': 'Super-rich UK non-doms avoiding £3.2bn in tax each year, report finds',\n",
       "    'webUrl': 'https://www.theguardian.com/news/2022/sep/27/super-rich-uk-non-doms-avoiding-32bn-in-tax-each-year-report-finds',\n",
       "    'apiUrl': 'https://content.guardianapis.com/news/2022/sep/27/super-rich-uk-non-doms-avoiding-32bn-in-tax-each-year-report-finds',\n",
       "    'fields': {'headline': 'Super-rich UK non-doms avoiding £3.2bn in tax each year, report finds',\n",
       "     'standfirst': '<p>Analysis also challenges argument that the scheme attracts wealthy people who would otherwise leave the country</p>',\n",
       "     'trailText': 'Analysis also challenges argument that the scheme attracts wealthy people who would otherwise leave the country',\n",
       "     'byline': 'Rupert Neate Wealth correspondent',\n",
       "     'main': '<figure class=\"element element-image\" data-media-id=\"74df9258d0f46a7cb5a768e6a6639a4b7e6c4af7\"> <img src=\"https://media.guim.co.uk/74df9258d0f46a7cb5a768e6a6639a4b7e6c4af7/0_155_3302_1981/1000.jpg\" alt=\"Rishi Sunak and his wife Akshata Murthy\" width=\"1000\" height=\"600\" class=\"gu-image\" /> <figcaption> <span class=\"element-image__caption\">Rishi Sunak and his wife, Akshata Murthy, who was criticised for using her non-domicile status to avoid an estimated £4.5m in tax on overseas income.</span> <span class=\"element-image__credit\">Photograph: Ian West/PA</span> </figcaption> </figure>',\n",
       "     'body': '<p>Super-rich overseas people in the UK registered as having <a href=\"https://www.theguardian.com/politics/2022/apr/07/what-is-non-domicile-status-and-who-qualifies-hmrc\">non-domicile status</a> are being legally allowed to avoid paying more than £3.2bn of tax on at least £10.9bn of offshore income a year, according to a report.</p> <p>An analysis by academic economists <a href=\"https://warwick.ac.uk/fac/soc/economics/research/centres/cage/manage/publications/bn38.2022.pdf\">found that</a> 26,000 people granted non-dom tax status by HM Revenue and Customs (HMRC) collect an average of £420,000 a year in unreported overseas income and capital gains.</p> <p>The researchers at the University of Warwick and the London School of Economics and Political Science (LSE) calculated that the tax these individuals save by using the “remittance basis”<strong> </strong>tax break works out at more than £125,000 a year on average.</p> <p>Scrapping the non-dom scheme and taxing this income could raise more than £3.2bn in additional annual tax revenue, the researchers claimed.</p> <p>The government insists the non-dom scheme is good for the UK economy as it attracts wealthy overseas people to the country, who pay tax on their UK income and spend a lot of money here. They say that scrapping the scheme would lead to many leaving the country, taking their money with them.</p> <p>However, the Warwick and LSE research, which is based on HMRC filings, claims that “only 0.3% of those affected would leave the country (fewer than 100 people), most of whom are paying hardly any tax under the current regime”.</p> <aside class=\"element element-rich-link element--thumbnail\"> <p> <span>Related: </span><a href=\"https://www.theguardian.com/politics/2022/apr/07/what-is-non-domicile-status-and-who-qualifies-hmrc\">What is non-domicile status and who qualifies?</a> </p> </aside>  <p>Arun Advani, associate professor at Warwick’s economics department and Cage research centre, said: “Historically, arguments against abolition of the non-dom regime rested on uncertainty about whether it would raise any money. It’s now plain to see that it does, so supporters of the status quo need to find a new case for its defence.”</p> <p>Controversy over the non-dom tax loophole went from being a niche issue among tax experts to wider public debate this year after it was revealed that <a href=\"https://www.theguardian.com/politics/2022/apr/08/rishi-sunak-akshata-murty-us-green-cards\">the wife of the then chancellor, Rishi Sunak</a>, was using the status to avoid an estimated £4.5m in tax on dividends she collected from her billionaire father’s IT business.</p> <p>After widespread outrage, Sunak’s wife, Akshata Murty, <a href=\"https://www.theguardian.com/politics/2022/apr/08/rishi-sunak-akshata-murty-us-green-cards\">said she would pay UK taxes</a> on all income going forward as her tax arrangements were not “compatible with my husband’s [then] job as chancellor”, adding that she appreciated the “British sense of fairness”.</p> <p>However, Murty has retained her non-dom status, which could in the future allow her family to legally avoid an inheritance tax bill of more than £275m.</p> <p>The vast majority of non-doms are foreigners living in the UK who use the status so they are only taxed on income and capital gains arising in the country, but not on those generated overseas. Most ordinary people living and working in the UK pay tax on income and capital gains arising here and abroad.</p> <p>Famous non-doms have included the steel magnate Lakshmi Mittal, the media baron Viscount Rothermere and the oligarch and former owner of Chelsea football club, Roman Abramovich.</p> <p>Andy Summers, associate professor at LSE Law School, said: “Non-doms receive ten times as much investment income offshore as they report in the UK. By rewarding non-doms for keeping their investments abroad, the current tax rules harm our economy as well as being unfair on ordinary taxpayers who must pay tax on their worldwide income.”</p>',\n",
       "     'wordcount': '542',\n",
       "     'firstPublicationDate': '2022-09-26T23:01:06Z',\n",
       "     'isInappropriateForSponsorship': 'false',\n",
       "     'isPremoderated': 'false',\n",
       "     'lastModified': '2022-09-26T23:02:41Z',\n",
       "     'productionOffice': 'UK',\n",
       "     'publication': 'theguardian.com',\n",
       "     'shortUrl': 'https://www.theguardian.com/p/mb6gh',\n",
       "     'shouldHideAdverts': 'false',\n",
       "     'showInRelatedContent': 'true',\n",
       "     'thumbnail': 'https://media.guim.co.uk/74df9258d0f46a7cb5a768e6a6639a4b7e6c4af7/0_155_3302_1981/500.jpg',\n",
       "     'legallySensitive': 'false',\n",
       "     'lang': 'en',\n",
       "     'isLive': 'true',\n",
       "     'bodyText': 'Super-rich overseas people in the UK registered as having non-domicile status are being legally allowed to avoid paying more than £3.2bn of tax on at least £10.9bn of offshore income a year, according to a report. An analysis by academic economists found that 26,000 people granted non-dom tax status by HM Revenue and Customs (HMRC) collect an average of £420,000 a year in unreported overseas income and capital gains. The researchers at the University of Warwick and the London School of Economics and Political Science (LSE) calculated that the tax these individuals save by using the “remittance basis” tax break works out at more than £125,000 a year on average. Scrapping the non-dom scheme and taxing this income could raise more than £3.2bn in additional annual tax revenue, the researchers claimed. The government insists the non-dom scheme is good for the UK economy as it attracts wealthy overseas people to the country, who pay tax on their UK income and spend a lot of money here. They say that scrapping the scheme would lead to many leaving the country, taking their money with them. However, the Warwick and LSE research, which is based on HMRC filings, claims that “only 0.3% of those affected would leave the country (fewer than 100 people), most of whom are paying hardly any tax under the current regime”. Arun Advani, associate professor at Warwick’s economics department and Cage research centre, said: “Historically, arguments against abolition of the non-dom regime rested on uncertainty about whether it would raise any money. It’s now plain to see that it does, so supporters of the status quo need to find a new case for its defence.” Controversy over the non-dom tax loophole went from being a niche issue among tax experts to wider public debate this year after it was revealed that the wife of the then chancellor, Rishi Sunak, was using the status to avoid an estimated £4.5m in tax on dividends she collected from her billionaire father’s IT business. After widespread outrage, Sunak’s wife, Akshata Murty, said she would pay UK taxes on all income going forward as her tax arrangements were not “compatible with my husband’s [then] job as chancellor”, adding that she appreciated the “British sense of fairness”. However, Murty has retained her non-dom status, which could in the future allow her family to legally avoid an inheritance tax bill of more than £275m. The vast majority of non-doms are foreigners living in the UK who use the status so they are only taxed on income and capital gains arising in the country, but not on those generated overseas. Most ordinary people living and working in the UK pay tax on income and capital gains arising here and abroad. Famous non-doms have included the steel magnate Lakshmi Mittal, the media baron Viscount Rothermere and the oligarch and former owner of Chelsea football club, Roman Abramovich. Andy Summers, associate professor at LSE Law School, said: “Non-doms receive ten times as much investment income offshore as they report in the UK. By rewarding non-doms for keeping their investments abroad, the current tax rules harm our economy as well as being unfair on ordinary taxpayers who must pay tax on their worldwide income.”',\n",
       "     'charCount': '3218',\n",
       "     'shouldHideReaderRevenue': 'false',\n",
       "     'showAffiliateLinks': 'false',\n",
       "     'bylineHtml': '<a href=\"profile/rupertneate\">Rupert Neate</a> Wealth correspondent'},\n",
       "    'isHosted': False,\n",
       "    'pillarId': 'pillar/news',\n",
       "    'pillarName': 'News'},\n",
       "   {'id': 'news/2022/sep/26/corrections-and-clarifications',\n",
       "    'type': 'article',\n",
       "    'sectionId': 'news',\n",
       "    'sectionName': 'News',\n",
       "    'webPublicationDate': '2022-09-26T20:00:02Z',\n",
       "    'webTitle': 'Corrections and clarifications',\n",
       "    'webUrl': 'https://www.theguardian.com/news/2022/sep/26/corrections-and-clarifications',\n",
       "    'apiUrl': 'https://content.guardianapis.com/news/2022/sep/26/corrections-and-clarifications',\n",
       "    'fields': {'headline': 'Corrections and clarifications',\n",
       "     'standfirst': '<p>Fracking | BASF sales</p>',\n",
       "     'trailText': 'Fracking | BASF sales',\n",
       "     'byline': 'Corrections and clarifications column editor',\n",
       "     'main': '',\n",
       "     'body': '<p>• The authors of an opinion piece meant to describe themselves as “veteran targets”, rather than “veterans”, of the fracking protests (<a href=\"https://www.theguardian.com/commentisfree/2022/sep/21/liz-truss-fracking-britain-economic-political-low-carbon-cuadrilla\" title=\"\">Fracking won’t solve the UK’s energy woes</a>, 22 September, Journal, p4).</p> <p>• The automobile industry makes up more than 20% of the chemical firm BASF’s sales, not 80% as an article said (<a href=\"https://www.theguardian.com/business/2022/sep/15/gas-rationing-germany-basf-plant-europe-crisis\" title=\"\">Shutdown at BASF site would hit all of Europe</a>, 16 September, p29).</p> <p>• Other recently amended articles include:</p> <p><a href=\"https://www.theguardian.com/world/2022/sep/22/church-of-england-bars-desmond-tutus-daughter-from-officiating-at-funeral\" title=\"\">Church of England bars Desmond Tutu’s daughter from officiating at funeral</a></p> <p><a href=\"https://www.theguardian.com/us-news/2022/sep/24/douglas-jensen-capitol-attack-january-6-qanon\" title=\"\">QAnon follower who chased officer on January 6 convicted of felonies</a></p> <p><a href=\"https://www.theguardian.com/global-development/2022/sep/21/theres-a-path-towards-death-that-people-travel-how-hunger-destroys-lives-and-communities\" title=\"\">‘There’s a path towards death that people travel’: how hunger destroys lives and communities</a></p> <p><a href=\"https://www.theguardian.com/us-news/live/2022/sep/23/trump-biden-midterms-republicans-democrats-us-politics-live-updates#pinned-post\" title=\"\">US intelligence resumes national security review of Mar-a-Lago documents – as it happened</a></p> <p><a href=\"https://www.theguardian.com/artanddesign/2022/sep/23/marina-abramovic-gates-and-portals-review-why-surrender-your-liberty-to-these-wafer-thin-ideas\" title=\"\">Marina Abramović’s Gates and Portals review – why surrender your liberty to these wafer-thin ideas?</a></p> <p><a href=\"https://www.theguardian.com/world/2022/sep/17/serbian-police-arrest-dozens-as-belgrade-europride-marchers-defy-ban\" title=\"\">Belgrade EuroPride marchers defy ban as counter-protesters clash with police</a></p> <p><a href=\"https://www.theguardian.com/news/2002/apr/01/guardianobituaries\" title=\"\">Richard Sylbert obituary</a></p> <p><a href=\"https://www.theguardian.com/global/2022/sep/07/rise-jacob-rees-mogg-fossil-fuel-fan-charge-cutting-uk-carbon-emissions\" title=\"\">Jacob Rees-Mogg: the fossil fuel fan in charge of cutting UK carbon emissions</a></p> <p><a href=\"https://www.theguardian.com/tv-and-radio/2022/sep/13/ted-lasso-actor-brett-goldstein-roy-kent-wins-and-swears-again-at-emmys\" title=\"\">Ted Lasso actor wins and swears again at Emmys</a></p> <p><a href=\"https://www.theguardian.com/politics/2022/sep/05/truss-downing-street-winter-energy-bills-state-subsidies-labour-says\" title=\"\">Truss will pay under £2,000 for Downing Street winter energy bills, Labour says</a></p> <p><em>Editorial complaints and correction requests can be sent to: </em><a href=\"mailto:guardian.readers@theguardian.com\" title=\"\"><em>guardian.readers@theguardian.com</em></a><em>. </em></p> <p><em>You can also write to: Readers’ editor, Kings Place, 90 York Way, London N1 9GU, or leave a voicemail on +44 (0) 20 3353 4736.</em></p>',\n",
       "     'newspaperPageNumber': '9',\n",
       "     'wordcount': '217',\n",
       "     'firstPublicationDate': '2022-09-26T20:00:02Z',\n",
       "     'isInappropriateForSponsorship': 'true',\n",
       "     'isPremoderated': 'false',\n",
       "     'lastModified': '2022-09-27T04:22:55Z',\n",
       "     'newspaperEditionDate': '2022-09-27T00:00:00Z',\n",
       "     'productionOffice': 'UK',\n",
       "     'publication': 'The Guardian',\n",
       "     'shortUrl': 'https://www.theguardian.com/p/mb7vj',\n",
       "     'shouldHideAdverts': 'false',\n",
       "     'showInRelatedContent': 'true',\n",
       "     'legallySensitive': 'false',\n",
       "     'lang': 'en',\n",
       "     'isLive': 'true',\n",
       "     'bodyText': '• The authors of an opinion piece meant to describe themselves as “veteran targets”, rather than “veterans”, of the fracking protests (Fracking won’t solve the UK’s energy woes, 22 September, Journal, p4). • The automobile industry makes up more than 20% of the chemical firm BASF’s sales, not 80% as an article said (Shutdown at BASF site would hit all of Europe, 16 September, p29). • Other recently amended articles include: Church of England bars Desmond Tutu’s daughter from officiating at funeral QAnon follower who chased officer on January 6 convicted of felonies ‘There’s a path towards death that people travel’: how hunger destroys lives and communities US intelligence resumes national security review of Mar-a-Lago documents – as it happened Marina Abramović’s Gates and Portals review – why surrender your liberty to these wafer-thin ideas? Belgrade EuroPride marchers defy ban as counter-protesters clash with police Richard Sylbert obituary Jacob Rees-Mogg: the fossil fuel fan in charge of cutting UK carbon emissions Ted Lasso actor wins and swears again at Emmys Truss will pay under £2,000 for Downing Street winter energy bills, Labour says Editorial complaints and correction requests can be sent to: guardian.readers@theguardian.com. You can also write to: Readers’ editor, Kings Place, 90 York Way, London N1 9GU, or leave a voicemail on +44 (0) 20 3353 4736.',\n",
       "     'charCount': '1383',\n",
       "     'shouldHideReaderRevenue': 'false',\n",
       "     'showAffiliateLinks': 'false',\n",
       "     'bylineHtml': '<a href=\"profile/editor-of-the-corrections-and-clarifications-column\">Corrections and clarifications column editor</a>'},\n",
       "    'isHosted': False,\n",
       "    'pillarId': 'pillar/news',\n",
       "    'pillarName': 'News'}]}}"
      ]
     },
     "execution_count": 19,
     "metadata": {},
     "output_type": "execute_result"
    }
   ],
   "source": [
    "r = requests.get(API_ENDPOINT, params)\n",
    "r.json()"
   ]
  },
  {
   "cell_type": "code",
   "execution_count": null,
   "metadata": {},
   "outputs": [],
   "source": [
    "for day_count in date_range:\n",
    "    dt = start + timedelta(days=day_count)\n",
    "    print(dt)"
   ]
  }
 ],
 "metadata": {
  "kernelspec": {
   "display_name": "Python 3.9.13 ('b-thesis')",
   "language": "python",
   "name": "python3"
  },
  "language_info": {
   "codemirror_mode": {
    "name": "ipython",
    "version": 3
   },
   "file_extension": ".py",
   "mimetype": "text/x-python",
   "name": "python",
   "nbconvert_exporter": "python",
   "pygments_lexer": "ipython3",
   "version": "3.9.13"
  },
  "orig_nbformat": 4,
  "vscode": {
   "interpreter": {
    "hash": "6cc34f913a7f1ca55160808e1759ac312dd0ad5ecfa942c36b2d3d154b205193"
   }
  }
 },
 "nbformat": 4,
 "nbformat_minor": 2
}
