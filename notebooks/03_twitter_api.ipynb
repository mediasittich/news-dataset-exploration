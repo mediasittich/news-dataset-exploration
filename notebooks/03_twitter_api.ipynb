{
 "cells": [
  {
   "cell_type": "code",
   "execution_count": 63,
   "metadata": {},
   "outputs": [
    {
     "name": "stdout",
     "output_type": "stream",
     "text": [
      "The dotenv extension is already loaded. To reload it, use:\n",
      "  %reload_ext dotenv\n"
     ]
    }
   ],
   "source": [
    "import os\n",
    "# Twitter API \n",
    "import tweepy\n",
    "\n",
    "import requests\n",
    "\n",
    "import configparser\n",
    "# read config\n",
    "config = configparser.ConfigParser()\n",
    "config.read('../config.ini')\n",
    "\n",
    "# Access API secrets in .env file\n",
    "%load_ext dotenv\n",
    "%dotenv\n",
    "\n",
    "import pandas as pd"
   ]
  },
  {
   "cell_type": "code",
   "execution_count": 45,
   "metadata": {},
   "outputs": [],
   "source": [
    "api_key = config['twitter']['api_key']\n",
    "api_key_secret = config['twitter']['api_key_secret']\n",
    "\n",
    "access_token = config['twitter']['access_token']\n",
    "access_token_secret = config['twitter']['access_token_secret']"
   ]
  },
  {
   "cell_type": "code",
   "execution_count": 46,
   "metadata": {},
   "outputs": [],
   "source": [
    "# authenticate\n",
    "auth = tweepy.OAuthHandler(api_key, api_key_secret)\n",
    "auth.set_access_token(access_token, access_token_secret)"
   ]
  },
  {
   "cell_type": "code",
   "execution_count": 47,
   "metadata": {},
   "outputs": [],
   "source": [
    "api = tweepy.API(auth)"
   ]
  },
  {
   "cell_type": "code",
   "execution_count": 50,
   "metadata": {},
   "outputs": [
    {
     "name": "stdout",
     "output_type": "stream",
     "text": [
      "The user credentials are valid.\n"
     ]
    }
   ],
   "source": [
    "if api.verify_credentials() == False:\n",
    "    print(\"The user credentials are invalid.\")\n",
    "else:\n",
    "    print(\"The user credentials are valid.\")"
   ]
  },
  {
   "cell_type": "code",
   "execution_count": 81,
   "metadata": {},
   "outputs": [],
   "source": [
    "page_list = []\n",
    "\n",
    "for page in tweepy.Cursor(api.user_timeline, screen_name='guardian', count=200).pages(16):\n",
    "    page_list.append(page)"
   ]
  },
  {
   "cell_type": "code",
   "execution_count": 82,
   "metadata": {},
   "outputs": [
    {
     "data": {
      "text/plain": [
       "16"
      ]
     },
     "execution_count": 82,
     "metadata": {},
     "output_type": "execute_result"
    }
   ],
   "source": [
    "len(page_list)"
   ]
  },
  {
   "cell_type": "code",
   "execution_count": 83,
   "metadata": {},
   "outputs": [
    {
     "data": {
      "text/plain": [
       "200"
      ]
     },
     "execution_count": 83,
     "metadata": {},
     "output_type": "execute_result"
    }
   ],
   "source": [
    "len(page_list[0])"
   ]
  },
  {
   "cell_type": "code",
   "execution_count": 84,
   "metadata": {},
   "outputs": [],
   "source": [
    "all_statuses_lst = []\n",
    "\n",
    "for page in page_list:\n",
    "    for status in page:\n",
    "        all_statuses_lst.append(status._json)"
   ]
  },
  {
   "cell_type": "code",
   "execution_count": 90,
   "metadata": {},
   "outputs": [
    {
     "data": {
      "text/plain": [
       "dict_keys(['created_at', 'id', 'id_str', 'text', 'truncated', 'entities', 'source', 'in_reply_to_status_id', 'in_reply_to_status_id_str', 'in_reply_to_user_id', 'in_reply_to_user_id_str', 'in_reply_to_screen_name', 'user', 'geo', 'coordinates', 'place', 'contributors', 'is_quote_status', 'retweet_count', 'favorite_count', 'favorited', 'retweeted', 'possibly_sensitive', 'lang'])"
      ]
     },
     "execution_count": 90,
     "metadata": {},
     "output_type": "execute_result"
    }
   ],
   "source": [
    "all_statuses_lst[0].keys()"
   ]
  },
  {
   "cell_type": "code",
   "execution_count": 91,
   "metadata": {},
   "outputs": [
    {
     "data": {
      "text/plain": [
       "{'created_at': 'Wed Sep 28 21:17:47 +0000 2022',\n",
       " 'id': 1575233331943309339,\n",
       " 'id_str': '1575233331943309339',\n",
       " 'text': 'Morning mail: hurricane with 240km/h winds hits Florida, blueberry pesticide fears, rents climbing fast https://t.co/lLrbI2KBKy',\n",
       " 'truncated': False,\n",
       " 'entities': {'hashtags': [],\n",
       "  'symbols': [],\n",
       "  'user_mentions': [],\n",
       "  'urls': [{'url': 'https://t.co/lLrbI2KBKy',\n",
       "    'expanded_url': 'https://www.theguardian.com/australia-news/2022/sep/29/morning-mail-hurricane-with-240kmh-winds-hits-florida-blueberry-pesticide-fears-rents-climbing-fast?utm_term=Autofeed&CMP=twt_gu&utm_medium&utm_source=Twitter#Echobox=1664399777',\n",
       "    'display_url': 'theguardian.com/australia-news…',\n",
       "    'indices': [104, 127]}]},\n",
       " 'source': '<a href=\"https://www.echobox.com\" rel=\"nofollow\">Echobox</a>',\n",
       " 'in_reply_to_status_id': None,\n",
       " 'in_reply_to_status_id_str': None,\n",
       " 'in_reply_to_user_id': None,\n",
       " 'in_reply_to_user_id_str': None,\n",
       " 'in_reply_to_screen_name': None,\n",
       " 'user': {'id': 87818409,\n",
       "  'id_str': '87818409',\n",
       "  'name': 'The Guardian',\n",
       "  'screen_name': 'guardian',\n",
       "  'location': 'London',\n",
       "  'description': 'The need for independent journalism has never been greater. Become a Guardian supporter: https://t.co/gWyuUVlObq',\n",
       "  'url': 'https://t.co/c53pnmnuIT',\n",
       "  'entities': {'url': {'urls': [{'url': 'https://t.co/c53pnmnuIT',\n",
       "      'expanded_url': 'https://www.theguardian.com',\n",
       "      'display_url': 'theguardian.com',\n",
       "      'indices': [0, 23]}]},\n",
       "   'description': {'urls': [{'url': 'https://t.co/gWyuUVlObq',\n",
       "      'expanded_url': 'https://support.theguardian.com',\n",
       "      'display_url': 'support.theguardian.com',\n",
       "      'indices': [89, 112]}]}},\n",
       "  'protected': False,\n",
       "  'followers_count': 10751810,\n",
       "  'friends_count': 1061,\n",
       "  'listed_count': 70507,\n",
       "  'created_at': 'Thu Nov 05 23:49:19 +0000 2009',\n",
       "  'favourites_count': 139,\n",
       "  'utc_offset': None,\n",
       "  'time_zone': None,\n",
       "  'geo_enabled': False,\n",
       "  'verified': True,\n",
       "  'statuses_count': 776018,\n",
       "  'lang': None,\n",
       "  'contributors_enabled': False,\n",
       "  'is_translator': False,\n",
       "  'is_translation_enabled': True,\n",
       "  'profile_background_color': 'FFFFFF',\n",
       "  'profile_background_image_url': 'http://abs.twimg.com/images/themes/theme1/bg.png',\n",
       "  'profile_background_image_url_https': 'https://abs.twimg.com/images/themes/theme1/bg.png',\n",
       "  'profile_background_tile': False,\n",
       "  'profile_image_url': 'http://pbs.twimg.com/profile_images/1175141826870861825/K2qKoGla_normal.png',\n",
       "  'profile_image_url_https': 'https://pbs.twimg.com/profile_images/1175141826870861825/K2qKoGla_normal.png',\n",
       "  'profile_banner_url': 'https://pbs.twimg.com/profile_banners/87818409/1620214786',\n",
       "  'profile_link_color': '005789',\n",
       "  'profile_sidebar_border_color': 'FFFFFF',\n",
       "  'profile_sidebar_fill_color': 'CAE3F3',\n",
       "  'profile_text_color': '333333',\n",
       "  'profile_use_background_image': False,\n",
       "  'has_extended_profile': False,\n",
       "  'default_profile': False,\n",
       "  'default_profile_image': False,\n",
       "  'following': True,\n",
       "  'follow_request_sent': False,\n",
       "  'notifications': False,\n",
       "  'translator_type': 'regular',\n",
       "  'withheld_in_countries': []},\n",
       " 'geo': None,\n",
       " 'coordinates': None,\n",
       " 'place': None,\n",
       " 'contributors': None,\n",
       " 'is_quote_status': False,\n",
       " 'retweet_count': 2,\n",
       " 'favorite_count': 9,\n",
       " 'favorited': False,\n",
       " 'retweeted': False,\n",
       " 'possibly_sensitive': False,\n",
       " 'lang': 'en'}"
      ]
     },
     "execution_count": 91,
     "metadata": {},
     "output_type": "execute_result"
    }
   ],
   "source": [
    "all_statuses_lst[0]"
   ]
  },
  {
   "cell_type": "code",
   "execution_count": 102,
   "metadata": {},
   "outputs": [],
   "source": [
    "guardian_tweets_df = pd.json_normalize(all_statuses_lst)"
   ]
  },
  {
   "cell_type": "code",
   "execution_count": 103,
   "metadata": {},
   "outputs": [],
   "source": [
    "cols_to_drop = []\n",
    "\n",
    "for col in guardian_tweets_df.columns:\n",
    "    if col.startswith('user'):\n",
    "        cols_to_drop.append(col)"
   ]
  },
  {
   "cell_type": "code",
   "execution_count": 104,
   "metadata": {},
   "outputs": [
    {
     "data": {
      "text/plain": [
       "44"
      ]
     },
     "execution_count": 104,
     "metadata": {},
     "output_type": "execute_result"
    }
   ],
   "source": [
    "len(cols_to_drop)"
   ]
  },
  {
   "cell_type": "code",
   "execution_count": 105,
   "metadata": {},
   "outputs": [],
   "source": [
    "for col in guardian_tweets_df.columns:\n",
    "    if col.startswith('retweeted_status'):\n",
    "        cols_to_drop.append(col)"
   ]
  },
  {
   "cell_type": "code",
   "execution_count": 106,
   "metadata": {},
   "outputs": [
    {
     "data": {
      "text/plain": [
       "114"
      ]
     },
     "execution_count": 106,
     "metadata": {},
     "output_type": "execute_result"
    }
   ],
   "source": [
    "len(cols_to_drop)"
   ]
  },
  {
   "cell_type": "code",
   "execution_count": 107,
   "metadata": {},
   "outputs": [
    {
     "name": "stdout",
     "output_type": "stream",
     "text": [
      "Index(['created_at', 'id', 'id_str', 'text', 'truncated', 'source',\n",
      "       'in_reply_to_status_id', 'in_reply_to_status_id_str',\n",
      "       'in_reply_to_user_id', 'in_reply_to_user_id_str',\n",
      "       ...\n",
      "       'retweeted_status.coordinates', 'retweeted_status.place',\n",
      "       'retweeted_status.contributors', 'retweeted_status.is_quote_status',\n",
      "       'retweeted_status.retweet_count', 'retweeted_status.favorite_count',\n",
      "       'retweeted_status.favorited', 'retweeted_status.retweeted',\n",
      "       'retweeted_status.possibly_sensitive', 'retweeted_status.lang'],\n",
      "      dtype='object', length=142)\n"
     ]
    }
   ],
   "source": [
    "print(guardian_tweets_df.columns)"
   ]
  },
  {
   "cell_type": "code",
   "execution_count": 108,
   "metadata": {},
   "outputs": [],
   "source": [
    "guardian_tweets_df.drop(cols_to_drop, axis=1, inplace=True)"
   ]
  },
  {
   "cell_type": "code",
   "execution_count": 109,
   "metadata": {},
   "outputs": [
    {
     "data": {
      "text/plain": [
       "Index(['created_at', 'id', 'id_str', 'text', 'truncated', 'source',\n",
       "       'in_reply_to_status_id', 'in_reply_to_status_id_str',\n",
       "       'in_reply_to_user_id', 'in_reply_to_user_id_str',\n",
       "       'in_reply_to_screen_name', 'geo', 'coordinates', 'place',\n",
       "       'contributors', 'is_quote_status', 'retweet_count', 'favorite_count',\n",
       "       'favorited', 'retweeted', 'possibly_sensitive', 'lang',\n",
       "       'entities.hashtags', 'entities.symbols', 'entities.user_mentions',\n",
       "       'entities.urls', 'entities.media', 'extended_entities.media'],\n",
       "      dtype='object')"
      ]
     },
     "execution_count": 109,
     "metadata": {},
     "output_type": "execute_result"
    }
   ],
   "source": [
    "guardian_tweets_df.columns"
   ]
  },
  {
   "cell_type": "code",
   "execution_count": 110,
   "metadata": {},
   "outputs": [
    {
     "data": {
      "text/html": [
       "<div>\n",
       "<style scoped>\n",
       "    .dataframe tbody tr th:only-of-type {\n",
       "        vertical-align: middle;\n",
       "    }\n",
       "\n",
       "    .dataframe tbody tr th {\n",
       "        vertical-align: top;\n",
       "    }\n",
       "\n",
       "    .dataframe thead th {\n",
       "        text-align: right;\n",
       "    }\n",
       "</style>\n",
       "<table border=\"1\" class=\"dataframe\">\n",
       "  <thead>\n",
       "    <tr style=\"text-align: right;\">\n",
       "      <th></th>\n",
       "      <th>created_at</th>\n",
       "      <th>id</th>\n",
       "      <th>id_str</th>\n",
       "      <th>text</th>\n",
       "      <th>truncated</th>\n",
       "      <th>source</th>\n",
       "      <th>in_reply_to_status_id</th>\n",
       "      <th>in_reply_to_status_id_str</th>\n",
       "      <th>in_reply_to_user_id</th>\n",
       "      <th>in_reply_to_user_id_str</th>\n",
       "      <th>...</th>\n",
       "      <th>favorited</th>\n",
       "      <th>retweeted</th>\n",
       "      <th>possibly_sensitive</th>\n",
       "      <th>lang</th>\n",
       "      <th>entities.hashtags</th>\n",
       "      <th>entities.symbols</th>\n",
       "      <th>entities.user_mentions</th>\n",
       "      <th>entities.urls</th>\n",
       "      <th>entities.media</th>\n",
       "      <th>extended_entities.media</th>\n",
       "    </tr>\n",
       "  </thead>\n",
       "  <tbody>\n",
       "    <tr>\n",
       "      <th>0</th>\n",
       "      <td>Wed Sep 28 21:17:47 +0000 2022</td>\n",
       "      <td>1575233331943309339</td>\n",
       "      <td>1575233331943309339</td>\n",
       "      <td>Morning mail: hurricane with 240km/h winds hit...</td>\n",
       "      <td>False</td>\n",
       "      <td>&lt;a href=\"https://www.echobox.com\" rel=\"nofollo...</td>\n",
       "      <td>NaN</td>\n",
       "      <td>None</td>\n",
       "      <td>NaN</td>\n",
       "      <td>None</td>\n",
       "      <td>...</td>\n",
       "      <td>False</td>\n",
       "      <td>False</td>\n",
       "      <td>False</td>\n",
       "      <td>en</td>\n",
       "      <td>[]</td>\n",
       "      <td>[]</td>\n",
       "      <td>[]</td>\n",
       "      <td>[{'url': 'https://t.co/lLrbI2KBKy', 'expanded_...</td>\n",
       "      <td>NaN</td>\n",
       "      <td>NaN</td>\n",
       "    </tr>\n",
       "    <tr>\n",
       "      <th>1</th>\n",
       "      <td>Wed Sep 28 21:17:46 +0000 2022</td>\n",
       "      <td>1575233327329574924</td>\n",
       "      <td>1575233327329574924</td>\n",
       "      <td>R Kelly ordered to pay restitution of $300,000...</td>\n",
       "      <td>False</td>\n",
       "      <td>&lt;a href=\"https://www.echobox.com\" rel=\"nofollo...</td>\n",
       "      <td>NaN</td>\n",
       "      <td>None</td>\n",
       "      <td>NaN</td>\n",
       "      <td>None</td>\n",
       "      <td>...</td>\n",
       "      <td>False</td>\n",
       "      <td>False</td>\n",
       "      <td>False</td>\n",
       "      <td>en</td>\n",
       "      <td>[]</td>\n",
       "      <td>[]</td>\n",
       "      <td>[]</td>\n",
       "      <td>[{'url': 'https://t.co/nysKuers5s', 'expanded_...</td>\n",
       "      <td>NaN</td>\n",
       "      <td>NaN</td>\n",
       "    </tr>\n",
       "    <tr>\n",
       "      <th>2</th>\n",
       "      <td>Wed Sep 28 21:17:44 +0000 2022</td>\n",
       "      <td>1575233321063292928</td>\n",
       "      <td>1575233321063292928</td>\n",
       "      <td>Two aircraft involved in ‘minor collision’ on ...</td>\n",
       "      <td>False</td>\n",
       "      <td>&lt;a href=\"https://www.echobox.com\" rel=\"nofollo...</td>\n",
       "      <td>NaN</td>\n",
       "      <td>None</td>\n",
       "      <td>NaN</td>\n",
       "      <td>None</td>\n",
       "      <td>...</td>\n",
       "      <td>False</td>\n",
       "      <td>False</td>\n",
       "      <td>False</td>\n",
       "      <td>en</td>\n",
       "      <td>[]</td>\n",
       "      <td>[]</td>\n",
       "      <td>[]</td>\n",
       "      <td>[{'url': 'https://t.co/MgdkAQIptN', 'expanded_...</td>\n",
       "      <td>NaN</td>\n",
       "      <td>NaN</td>\n",
       "    </tr>\n",
       "    <tr>\n",
       "      <th>3</th>\n",
       "      <td>Wed Sep 28 21:10:00 +0000 2022</td>\n",
       "      <td>1575231372490309658</td>\n",
       "      <td>1575231372490309658</td>\n",
       "      <td>We’re keen to hear from people who have recent...</td>\n",
       "      <td>True</td>\n",
       "      <td>&lt;a href=\"https://about.twitter.com/products/tw...</td>\n",
       "      <td>NaN</td>\n",
       "      <td>None</td>\n",
       "      <td>NaN</td>\n",
       "      <td>None</td>\n",
       "      <td>...</td>\n",
       "      <td>False</td>\n",
       "      <td>False</td>\n",
       "      <td>False</td>\n",
       "      <td>en</td>\n",
       "      <td>[]</td>\n",
       "      <td>[]</td>\n",
       "      <td>[]</td>\n",
       "      <td>[{'url': 'https://t.co/BgvOGN3fav', 'expanded_...</td>\n",
       "      <td>NaN</td>\n",
       "      <td>NaN</td>\n",
       "    </tr>\n",
       "    <tr>\n",
       "      <th>4</th>\n",
       "      <td>Wed Sep 28 21:03:05 +0000 2022</td>\n",
       "      <td>1575229631912869894</td>\n",
       "      <td>1575229631912869894</td>\n",
       "      <td>Guardian front page, Thursday 29 September 202...</td>\n",
       "      <td>False</td>\n",
       "      <td>&lt;a href=\"https://about.twitter.com/products/tw...</td>\n",
       "      <td>NaN</td>\n",
       "      <td>None</td>\n",
       "      <td>NaN</td>\n",
       "      <td>None</td>\n",
       "      <td>...</td>\n",
       "      <td>False</td>\n",
       "      <td>False</td>\n",
       "      <td>False</td>\n",
       "      <td>en</td>\n",
       "      <td>[]</td>\n",
       "      <td>[]</td>\n",
       "      <td>[]</td>\n",
       "      <td>[]</td>\n",
       "      <td>[{'id': 1575229403981807628, 'id_str': '157522...</td>\n",
       "      <td>[{'id': 1575229403981807628, 'id_str': '157522...</td>\n",
       "    </tr>\n",
       "  </tbody>\n",
       "</table>\n",
       "<p>5 rows × 28 columns</p>\n",
       "</div>"
      ],
      "text/plain": [
       "                       created_at                   id               id_str  \\\n",
       "0  Wed Sep 28 21:17:47 +0000 2022  1575233331943309339  1575233331943309339   \n",
       "1  Wed Sep 28 21:17:46 +0000 2022  1575233327329574924  1575233327329574924   \n",
       "2  Wed Sep 28 21:17:44 +0000 2022  1575233321063292928  1575233321063292928   \n",
       "3  Wed Sep 28 21:10:00 +0000 2022  1575231372490309658  1575231372490309658   \n",
       "4  Wed Sep 28 21:03:05 +0000 2022  1575229631912869894  1575229631912869894   \n",
       "\n",
       "                                                text  truncated  \\\n",
       "0  Morning mail: hurricane with 240km/h winds hit...      False   \n",
       "1  R Kelly ordered to pay restitution of $300,000...      False   \n",
       "2  Two aircraft involved in ‘minor collision’ on ...      False   \n",
       "3  We’re keen to hear from people who have recent...       True   \n",
       "4  Guardian front page, Thursday 29 September 202...      False   \n",
       "\n",
       "                                              source  in_reply_to_status_id  \\\n",
       "0  <a href=\"https://www.echobox.com\" rel=\"nofollo...                    NaN   \n",
       "1  <a href=\"https://www.echobox.com\" rel=\"nofollo...                    NaN   \n",
       "2  <a href=\"https://www.echobox.com\" rel=\"nofollo...                    NaN   \n",
       "3  <a href=\"https://about.twitter.com/products/tw...                    NaN   \n",
       "4  <a href=\"https://about.twitter.com/products/tw...                    NaN   \n",
       "\n",
       "  in_reply_to_status_id_str  in_reply_to_user_id in_reply_to_user_id_str  ...  \\\n",
       "0                      None                  NaN                    None  ...   \n",
       "1                      None                  NaN                    None  ...   \n",
       "2                      None                  NaN                    None  ...   \n",
       "3                      None                  NaN                    None  ...   \n",
       "4                      None                  NaN                    None  ...   \n",
       "\n",
       "  favorited retweeted possibly_sensitive lang entities.hashtags  \\\n",
       "0     False     False              False   en                []   \n",
       "1     False     False              False   en                []   \n",
       "2     False     False              False   en                []   \n",
       "3     False     False              False   en                []   \n",
       "4     False     False              False   en                []   \n",
       "\n",
       "   entities.symbols  entities.user_mentions  \\\n",
       "0                []                      []   \n",
       "1                []                      []   \n",
       "2                []                      []   \n",
       "3                []                      []   \n",
       "4                []                      []   \n",
       "\n",
       "                                       entities.urls  \\\n",
       "0  [{'url': 'https://t.co/lLrbI2KBKy', 'expanded_...   \n",
       "1  [{'url': 'https://t.co/nysKuers5s', 'expanded_...   \n",
       "2  [{'url': 'https://t.co/MgdkAQIptN', 'expanded_...   \n",
       "3  [{'url': 'https://t.co/BgvOGN3fav', 'expanded_...   \n",
       "4                                                 []   \n",
       "\n",
       "                                      entities.media  \\\n",
       "0                                                NaN   \n",
       "1                                                NaN   \n",
       "2                                                NaN   \n",
       "3                                                NaN   \n",
       "4  [{'id': 1575229403981807628, 'id_str': '157522...   \n",
       "\n",
       "                             extended_entities.media  \n",
       "0                                                NaN  \n",
       "1                                                NaN  \n",
       "2                                                NaN  \n",
       "3                                                NaN  \n",
       "4  [{'id': 1575229403981807628, 'id_str': '157522...  \n",
       "\n",
       "[5 rows x 28 columns]"
      ]
     },
     "execution_count": 110,
     "metadata": {},
     "output_type": "execute_result"
    }
   ],
   "source": [
    "guardian_tweets_df.head()"
   ]
  },
  {
   "cell_type": "code",
   "execution_count": 111,
   "metadata": {},
   "outputs": [
    {
     "data": {
      "text/plain": [
       "created_at                   3200\n",
       "id                           3200\n",
       "id_str                       3200\n",
       "text                         3200\n",
       "truncated                    3200\n",
       "source                       3200\n",
       "in_reply_to_status_id           1\n",
       "in_reply_to_status_id_str       1\n",
       "in_reply_to_user_id             1\n",
       "in_reply_to_user_id_str         1\n",
       "in_reply_to_screen_name         1\n",
       "geo                             0\n",
       "coordinates                     0\n",
       "place                           0\n",
       "contributors                    0\n",
       "is_quote_status              3200\n",
       "retweet_count                3200\n",
       "favorite_count               3200\n",
       "favorited                    3200\n",
       "retweeted                    3200\n",
       "possibly_sensitive           3199\n",
       "lang                         3200\n",
       "entities.hashtags            3200\n",
       "entities.symbols             3200\n",
       "entities.user_mentions       3200\n",
       "entities.urls                3200\n",
       "entities.media                 15\n",
       "extended_entities.media        15\n",
       "dtype: int64"
      ]
     },
     "execution_count": 111,
     "metadata": {},
     "output_type": "execute_result"
    }
   ],
   "source": [
    "guardian_tweets_df.count()"
   ]
  },
  {
   "cell_type": "code",
   "execution_count": 113,
   "metadata": {},
   "outputs": [],
   "source": [
    "for col in guardian_tweets_df.columns:\n",
    "    if guardian_tweets_df[col].isna().sum() > 0:\n",
    "        guardian_tweets_df.drop(col, axis=1, inplace=True)"
   ]
  },
  {
   "cell_type": "code",
   "execution_count": 114,
   "metadata": {},
   "outputs": [
    {
     "data": {
      "text/plain": [
       "Index(['created_at', 'id', 'id_str', 'text', 'truncated', 'source',\n",
       "       'is_quote_status', 'retweet_count', 'favorite_count', 'favorited',\n",
       "       'retweeted', 'lang', 'entities.hashtags', 'entities.symbols',\n",
       "       'entities.user_mentions', 'entities.urls'],\n",
       "      dtype='object')"
      ]
     },
     "execution_count": 114,
     "metadata": {},
     "output_type": "execute_result"
    }
   ],
   "source": [
    "guardian_tweets_df.columns"
   ]
  },
  {
   "cell_type": "code",
   "execution_count": 115,
   "metadata": {},
   "outputs": [
    {
     "data": {
      "text/html": [
       "<div>\n",
       "<style scoped>\n",
       "    .dataframe tbody tr th:only-of-type {\n",
       "        vertical-align: middle;\n",
       "    }\n",
       "\n",
       "    .dataframe tbody tr th {\n",
       "        vertical-align: top;\n",
       "    }\n",
       "\n",
       "    .dataframe thead th {\n",
       "        text-align: right;\n",
       "    }\n",
       "</style>\n",
       "<table border=\"1\" class=\"dataframe\">\n",
       "  <thead>\n",
       "    <tr style=\"text-align: right;\">\n",
       "      <th></th>\n",
       "      <th>created_at</th>\n",
       "      <th>id</th>\n",
       "      <th>id_str</th>\n",
       "      <th>text</th>\n",
       "      <th>truncated</th>\n",
       "      <th>source</th>\n",
       "      <th>is_quote_status</th>\n",
       "      <th>retweet_count</th>\n",
       "      <th>favorite_count</th>\n",
       "      <th>favorited</th>\n",
       "      <th>retweeted</th>\n",
       "      <th>lang</th>\n",
       "      <th>entities.hashtags</th>\n",
       "      <th>entities.symbols</th>\n",
       "      <th>entities.user_mentions</th>\n",
       "      <th>entities.urls</th>\n",
       "    </tr>\n",
       "  </thead>\n",
       "  <tbody>\n",
       "    <tr>\n",
       "      <th>0</th>\n",
       "      <td>Wed Sep 28 21:17:47 +0000 2022</td>\n",
       "      <td>1575233331943309339</td>\n",
       "      <td>1575233331943309339</td>\n",
       "      <td>Morning mail: hurricane with 240km/h winds hit...</td>\n",
       "      <td>False</td>\n",
       "      <td>&lt;a href=\"https://www.echobox.com\" rel=\"nofollo...</td>\n",
       "      <td>False</td>\n",
       "      <td>2</td>\n",
       "      <td>9</td>\n",
       "      <td>False</td>\n",
       "      <td>False</td>\n",
       "      <td>en</td>\n",
       "      <td>[]</td>\n",
       "      <td>[]</td>\n",
       "      <td>[]</td>\n",
       "      <td>[{'url': 'https://t.co/lLrbI2KBKy', 'expanded_...</td>\n",
       "    </tr>\n",
       "    <tr>\n",
       "      <th>1</th>\n",
       "      <td>Wed Sep 28 21:17:46 +0000 2022</td>\n",
       "      <td>1575233327329574924</td>\n",
       "      <td>1575233327329574924</td>\n",
       "      <td>R Kelly ordered to pay restitution of $300,000...</td>\n",
       "      <td>False</td>\n",
       "      <td>&lt;a href=\"https://www.echobox.com\" rel=\"nofollo...</td>\n",
       "      <td>False</td>\n",
       "      <td>2</td>\n",
       "      <td>13</td>\n",
       "      <td>False</td>\n",
       "      <td>False</td>\n",
       "      <td>en</td>\n",
       "      <td>[]</td>\n",
       "      <td>[]</td>\n",
       "      <td>[]</td>\n",
       "      <td>[{'url': 'https://t.co/nysKuers5s', 'expanded_...</td>\n",
       "    </tr>\n",
       "    <tr>\n",
       "      <th>2</th>\n",
       "      <td>Wed Sep 28 21:17:44 +0000 2022</td>\n",
       "      <td>1575233321063292928</td>\n",
       "      <td>1575233321063292928</td>\n",
       "      <td>Two aircraft involved in ‘minor collision’ on ...</td>\n",
       "      <td>False</td>\n",
       "      <td>&lt;a href=\"https://www.echobox.com\" rel=\"nofollo...</td>\n",
       "      <td>False</td>\n",
       "      <td>6</td>\n",
       "      <td>12</td>\n",
       "      <td>False</td>\n",
       "      <td>False</td>\n",
       "      <td>en</td>\n",
       "      <td>[]</td>\n",
       "      <td>[]</td>\n",
       "      <td>[]</td>\n",
       "      <td>[{'url': 'https://t.co/MgdkAQIptN', 'expanded_...</td>\n",
       "    </tr>\n",
       "    <tr>\n",
       "      <th>3</th>\n",
       "      <td>Wed Sep 28 21:10:00 +0000 2022</td>\n",
       "      <td>1575231372490309658</td>\n",
       "      <td>1575231372490309658</td>\n",
       "      <td>We’re keen to hear from people who have recent...</td>\n",
       "      <td>True</td>\n",
       "      <td>&lt;a href=\"https://about.twitter.com/products/tw...</td>\n",
       "      <td>False</td>\n",
       "      <td>3</td>\n",
       "      <td>5</td>\n",
       "      <td>False</td>\n",
       "      <td>False</td>\n",
       "      <td>en</td>\n",
       "      <td>[]</td>\n",
       "      <td>[]</td>\n",
       "      <td>[]</td>\n",
       "      <td>[{'url': 'https://t.co/BgvOGN3fav', 'expanded_...</td>\n",
       "    </tr>\n",
       "    <tr>\n",
       "      <th>4</th>\n",
       "      <td>Wed Sep 28 21:03:05 +0000 2022</td>\n",
       "      <td>1575229631912869894</td>\n",
       "      <td>1575229631912869894</td>\n",
       "      <td>Guardian front page, Thursday 29 September 202...</td>\n",
       "      <td>False</td>\n",
       "      <td>&lt;a href=\"https://about.twitter.com/products/tw...</td>\n",
       "      <td>False</td>\n",
       "      <td>51</td>\n",
       "      <td>114</td>\n",
       "      <td>False</td>\n",
       "      <td>False</td>\n",
       "      <td>en</td>\n",
       "      <td>[]</td>\n",
       "      <td>[]</td>\n",
       "      <td>[]</td>\n",
       "      <td>[]</td>\n",
       "    </tr>\n",
       "  </tbody>\n",
       "</table>\n",
       "</div>"
      ],
      "text/plain": [
       "                       created_at                   id               id_str  \\\n",
       "0  Wed Sep 28 21:17:47 +0000 2022  1575233331943309339  1575233331943309339   \n",
       "1  Wed Sep 28 21:17:46 +0000 2022  1575233327329574924  1575233327329574924   \n",
       "2  Wed Sep 28 21:17:44 +0000 2022  1575233321063292928  1575233321063292928   \n",
       "3  Wed Sep 28 21:10:00 +0000 2022  1575231372490309658  1575231372490309658   \n",
       "4  Wed Sep 28 21:03:05 +0000 2022  1575229631912869894  1575229631912869894   \n",
       "\n",
       "                                                text  truncated  \\\n",
       "0  Morning mail: hurricane with 240km/h winds hit...      False   \n",
       "1  R Kelly ordered to pay restitution of $300,000...      False   \n",
       "2  Two aircraft involved in ‘minor collision’ on ...      False   \n",
       "3  We’re keen to hear from people who have recent...       True   \n",
       "4  Guardian front page, Thursday 29 September 202...      False   \n",
       "\n",
       "                                              source  is_quote_status  \\\n",
       "0  <a href=\"https://www.echobox.com\" rel=\"nofollo...            False   \n",
       "1  <a href=\"https://www.echobox.com\" rel=\"nofollo...            False   \n",
       "2  <a href=\"https://www.echobox.com\" rel=\"nofollo...            False   \n",
       "3  <a href=\"https://about.twitter.com/products/tw...            False   \n",
       "4  <a href=\"https://about.twitter.com/products/tw...            False   \n",
       "\n",
       "   retweet_count  favorite_count  favorited  retweeted lang entities.hashtags  \\\n",
       "0              2               9      False      False   en                []   \n",
       "1              2              13      False      False   en                []   \n",
       "2              6              12      False      False   en                []   \n",
       "3              3               5      False      False   en                []   \n",
       "4             51             114      False      False   en                []   \n",
       "\n",
       "  entities.symbols entities.user_mentions  \\\n",
       "0               []                     []   \n",
       "1               []                     []   \n",
       "2               []                     []   \n",
       "3               []                     []   \n",
       "4               []                     []   \n",
       "\n",
       "                                       entities.urls  \n",
       "0  [{'url': 'https://t.co/lLrbI2KBKy', 'expanded_...  \n",
       "1  [{'url': 'https://t.co/nysKuers5s', 'expanded_...  \n",
       "2  [{'url': 'https://t.co/MgdkAQIptN', 'expanded_...  \n",
       "3  [{'url': 'https://t.co/BgvOGN3fav', 'expanded_...  \n",
       "4                                                 []  "
      ]
     },
     "execution_count": 115,
     "metadata": {},
     "output_type": "execute_result"
    }
   ],
   "source": [
    "guardian_tweets_df.head()"
   ]
  },
  {
   "cell_type": "code",
   "execution_count": 120,
   "metadata": {},
   "outputs": [],
   "source": [
    "os.makedirs('../data/raw/gu_twitter', exist_ok=True)"
   ]
  },
  {
   "cell_type": "code",
   "execution_count": 121,
   "metadata": {},
   "outputs": [],
   "source": [
    "guardian_tweets_df.to_csv('../data/raw/gu_twitter/gu_timeline.csv', index=False)"
   ]
  },
  {
   "cell_type": "code",
   "execution_count": 117,
   "metadata": {},
   "outputs": [],
   "source": [
    "tweets_text_df = guardian_tweets_df[['created_at', 'id', 'text']]"
   ]
  },
  {
   "cell_type": "code",
   "execution_count": 118,
   "metadata": {},
   "outputs": [
    {
     "data": {
      "text/html": [
       "<div>\n",
       "<style scoped>\n",
       "    .dataframe tbody tr th:only-of-type {\n",
       "        vertical-align: middle;\n",
       "    }\n",
       "\n",
       "    .dataframe tbody tr th {\n",
       "        vertical-align: top;\n",
       "    }\n",
       "\n",
       "    .dataframe thead th {\n",
       "        text-align: right;\n",
       "    }\n",
       "</style>\n",
       "<table border=\"1\" class=\"dataframe\">\n",
       "  <thead>\n",
       "    <tr style=\"text-align: right;\">\n",
       "      <th></th>\n",
       "      <th>created_at</th>\n",
       "      <th>id</th>\n",
       "      <th>text</th>\n",
       "    </tr>\n",
       "  </thead>\n",
       "  <tbody>\n",
       "    <tr>\n",
       "      <th>0</th>\n",
       "      <td>Wed Sep 28 21:17:47 +0000 2022</td>\n",
       "      <td>1575233331943309339</td>\n",
       "      <td>Morning mail: hurricane with 240km/h winds hit...</td>\n",
       "    </tr>\n",
       "    <tr>\n",
       "      <th>1</th>\n",
       "      <td>Wed Sep 28 21:17:46 +0000 2022</td>\n",
       "      <td>1575233327329574924</td>\n",
       "      <td>R Kelly ordered to pay restitution of $300,000...</td>\n",
       "    </tr>\n",
       "    <tr>\n",
       "      <th>2</th>\n",
       "      <td>Wed Sep 28 21:17:44 +0000 2022</td>\n",
       "      <td>1575233321063292928</td>\n",
       "      <td>Two aircraft involved in ‘minor collision’ on ...</td>\n",
       "    </tr>\n",
       "    <tr>\n",
       "      <th>3</th>\n",
       "      <td>Wed Sep 28 21:10:00 +0000 2022</td>\n",
       "      <td>1575231372490309658</td>\n",
       "      <td>We’re keen to hear from people who have recent...</td>\n",
       "    </tr>\n",
       "    <tr>\n",
       "      <th>4</th>\n",
       "      <td>Wed Sep 28 21:03:05 +0000 2022</td>\n",
       "      <td>1575229631912869894</td>\n",
       "      <td>Guardian front page, Thursday 29 September 202...</td>\n",
       "    </tr>\n",
       "    <tr>\n",
       "      <th>...</th>\n",
       "      <td>...</td>\n",
       "      <td>...</td>\n",
       "      <td>...</td>\n",
       "    </tr>\n",
       "    <tr>\n",
       "      <th>3195</th>\n",
       "      <td>Wed Sep 14 19:57:04 +0000 2022</td>\n",
       "      <td>1570139587145760768</td>\n",
       "      <td>Michelin hands out stars to 13 Toronto restaur...</td>\n",
       "    </tr>\n",
       "    <tr>\n",
       "      <th>3196</th>\n",
       "      <td>Wed Sep 14 19:50:43 +0000 2022</td>\n",
       "      <td>1570137992370552840</td>\n",
       "      <td>‘Lie of gender identity’ spurred founding of L...</td>\n",
       "    </tr>\n",
       "    <tr>\n",
       "      <th>3197</th>\n",
       "      <td>Wed Sep 14 19:46:17 +0000 2022</td>\n",
       "      <td>1570136874206826496</td>\n",
       "      <td>End of Covid pandemic ‘in sight’, says World H...</td>\n",
       "    </tr>\n",
       "    <tr>\n",
       "      <th>3198</th>\n",
       "      <td>Wed Sep 14 19:38:56 +0000 2022</td>\n",
       "      <td>1570135026754551808</td>\n",
       "      <td>Fulfilling her destiny of lying in state in We...</td>\n",
       "    </tr>\n",
       "    <tr>\n",
       "      <th>3199</th>\n",
       "      <td>Wed Sep 14 19:35:24 +0000 2022</td>\n",
       "      <td>1570134137385717762</td>\n",
       "      <td>The Guardian view on Kwasi Kwarteng: better at...</td>\n",
       "    </tr>\n",
       "  </tbody>\n",
       "</table>\n",
       "<p>3200 rows × 3 columns</p>\n",
       "</div>"
      ],
      "text/plain": [
       "                          created_at                   id  \\\n",
       "0     Wed Sep 28 21:17:47 +0000 2022  1575233331943309339   \n",
       "1     Wed Sep 28 21:17:46 +0000 2022  1575233327329574924   \n",
       "2     Wed Sep 28 21:17:44 +0000 2022  1575233321063292928   \n",
       "3     Wed Sep 28 21:10:00 +0000 2022  1575231372490309658   \n",
       "4     Wed Sep 28 21:03:05 +0000 2022  1575229631912869894   \n",
       "...                              ...                  ...   \n",
       "3195  Wed Sep 14 19:57:04 +0000 2022  1570139587145760768   \n",
       "3196  Wed Sep 14 19:50:43 +0000 2022  1570137992370552840   \n",
       "3197  Wed Sep 14 19:46:17 +0000 2022  1570136874206826496   \n",
       "3198  Wed Sep 14 19:38:56 +0000 2022  1570135026754551808   \n",
       "3199  Wed Sep 14 19:35:24 +0000 2022  1570134137385717762   \n",
       "\n",
       "                                                   text  \n",
       "0     Morning mail: hurricane with 240km/h winds hit...  \n",
       "1     R Kelly ordered to pay restitution of $300,000...  \n",
       "2     Two aircraft involved in ‘minor collision’ on ...  \n",
       "3     We’re keen to hear from people who have recent...  \n",
       "4     Guardian front page, Thursday 29 September 202...  \n",
       "...                                                 ...  \n",
       "3195  Michelin hands out stars to 13 Toronto restaur...  \n",
       "3196  ‘Lie of gender identity’ spurred founding of L...  \n",
       "3197  End of Covid pandemic ‘in sight’, says World H...  \n",
       "3198  Fulfilling her destiny of lying in state in We...  \n",
       "3199  The Guardian view on Kwasi Kwarteng: better at...  \n",
       "\n",
       "[3200 rows x 3 columns]"
      ]
     },
     "execution_count": 118,
     "metadata": {},
     "output_type": "execute_result"
    }
   ],
   "source": [
    "tweets_text_df"
   ]
  },
  {
   "cell_type": "code",
   "execution_count": 122,
   "metadata": {},
   "outputs": [],
   "source": [
    "tweets_text_df.to_csv('../data/raw/gu_twitter/gu_tweets.csv', index=False)"
   ]
  }
 ],
 "metadata": {
  "kernelspec": {
   "display_name": "Python 3.9.13 ('b-thesis')",
   "language": "python",
   "name": "python3"
  },
  "language_info": {
   "codemirror_mode": {
    "name": "ipython",
    "version": 3
   },
   "file_extension": ".py",
   "mimetype": "text/x-python",
   "name": "python",
   "nbconvert_exporter": "python",
   "pygments_lexer": "ipython3",
   "version": "3.9.13"
  },
  "orig_nbformat": 4,
  "vscode": {
   "interpreter": {
    "hash": "6cc34f913a7f1ca55160808e1759ac312dd0ad5ecfa942c36b2d3d154b205193"
   }
  }
 },
 "nbformat": 4,
 "nbformat_minor": 2
}
