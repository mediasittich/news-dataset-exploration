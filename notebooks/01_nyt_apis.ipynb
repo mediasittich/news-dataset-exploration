{
 "cells": [
  {
   "cell_type": "markdown",
   "metadata": {},
   "source": [
    "# Setup"
   ]
  },
  {
   "cell_type": "code",
   "execution_count": 24,
   "metadata": {},
   "outputs": [
    {
     "name": "stdout",
     "output_type": "stream",
     "text": [
      "The dotenv extension is already loaded. To reload it, use:\n",
      "  %reload_ext dotenv\n"
     ]
    }
   ],
   "source": [
    "# Navigate file system\n",
    "import os\n",
    "\n",
    "# Access API secrets in .env file\n",
    "%load_ext dotenv\n",
    "%dotenv\n",
    "\n",
    "# Accessing API\n",
    "import requests\n",
    "\n",
    "# Datetime utilities\n",
    "import time\n",
    "import datetime\n",
    "import dateutil\n",
    "from dateutil.relativedelta import relativedelta\n",
    "\n",
    "# Dataset exploration\n",
    "import pandas as pd\n",
    "\n",
    "# Output formatting\n",
    "from pprint import pprint\n",
    "\n",
    "# Notebook settings\n",
    "import warnings\n",
    "warnings.filterwarnings('ignore')"
   ]
  },
  {
   "cell_type": "markdown",
   "metadata": {},
   "source": [
    "# Archive API"
   ]
  },
  {
   "cell_type": "code",
   "execution_count": 2,
   "metadata": {},
   "outputs": [],
   "source": [
    "# Setup constants to access API\n",
    "BASE_URL = 'https://api.nytimes.com/svc/'\n",
    "API_KEY = os.getenv('NYT_API_KEY')"
   ]
  },
  {
   "cell_type": "code",
   "execution_count": 3,
   "metadata": {},
   "outputs": [],
   "source": [
    "year = 2022\n",
    "month = 5\n",
    "\n",
    "response = requests.get(BASE_URL + f\"archive/v1/{year}/{month}.json?api-key={API_KEY}\")\n",
    "data_archive = response.json()"
   ]
  },
  {
   "cell_type": "code",
   "execution_count": 23,
   "metadata": {},
   "outputs": [
    {
     "data": {
      "text/plain": [
       "4179"
      ]
     },
     "execution_count": 23,
     "metadata": {},
     "output_type": "execute_result"
    }
   ],
   "source": [
    "# Number of items returned\n",
    "len(data_archive['response']['docs'])"
   ]
  },
  {
   "cell_type": "code",
   "execution_count": 4,
   "metadata": {},
   "outputs": [
    {
     "data": {
      "text/plain": [
       "dict_keys(['abstract', 'web_url', 'snippet', 'lead_paragraph', 'source', 'multimedia', 'headline', 'keywords', 'pub_date', 'document_type', 'news_desk', 'section_name', 'byline', 'type_of_material', '_id', 'word_count', 'uri'])"
      ]
     },
     "execution_count": 4,
     "metadata": {},
     "output_type": "execute_result"
    }
   ],
   "source": [
    "# Inspect keys in json\n",
    "data_archive['response']['docs'][0].keys()"
   ]
  },
  {
   "cell_type": "code",
   "execution_count": 5,
   "metadata": {},
   "outputs": [
    {
     "name": "stdout",
     "output_type": "stream",
     "text": [
      "{'_id': 'nyt://article/465764cc-8719-5012-bbd2-1d122689e24a',\n",
      " 'abstract': 'A police chief said that victims’ bodies were discovered in a '\n",
      "             'forest, and showed signs of mutilation.',\n",
      " 'byline': {'organization': None,\n",
      "            'original': 'By Esha Ray',\n",
      "            'person': [{'firstname': 'Esha',\n",
      "                        'lastname': 'Ray',\n",
      "                        'middlename': None,\n",
      "                        'organization': '',\n",
      "                        'qualifier': None,\n",
      "                        'rank': 1,\n",
      "                        'role': 'reported',\n",
      "                        'title': None}]},\n",
      " 'document_type': 'article',\n",
      " 'headline': {'content_kicker': None,\n",
      "              'kicker': None,\n",
      "              'main': 'Ukrainian officials said they found the bodies of three '\n",
      "                      'men in Bucha, with signs they had been ‘tortured.’',\n",
      "              'name': None,\n",
      "              'print_headline': '',\n",
      "              'seo': None,\n",
      "              'sub': None},\n",
      " 'keywords': [{'major': 'N',\n",
      "               'name': 'subject',\n",
      "               'rank': 1,\n",
      "               'value': 'Russian Invasion of Ukraine (2022)'},\n",
      "              {'major': 'N',\n",
      "               'name': 'glocations',\n",
      "               'rank': 2,\n",
      "               'value': 'Bucha (Ukraine)'},\n",
      "              {'major': 'N',\n",
      "               'name': 'glocations',\n",
      "               'rank': 3,\n",
      "               'value': 'Ukraine'}],\n",
      " 'lead_paragraph': 'The bodies of three men were found in a pit near Bucha, a '\n",
      "                   'few miles west of Kyiv, Ukraine’s capital, with signs that '\n",
      "                   'the civilians had been “tortured to death” by Russian '\n",
      "                   'troops, the regional police chief said on Saturday.',\n",
      " 'multimedia': [{'caption': None,\n",
      "                 'credit': None,\n",
      "                 'crop_name': 'articleLarge',\n",
      "                 'height': 400,\n",
      "                 'legacy': {'xlarge': 'images/2022/04/30/multimedia/30ukraine-blog-bucha-men-killed/30ukraine-blog-bucha-men-killed-articleLarge.jpg',\n",
      "                            'xlargeheight': 400,\n",
      "                            'xlargewidth': 600},\n",
      "                 'rank': 0,\n",
      "                 'subType': 'xlarge',\n",
      "                 'subtype': 'xlarge',\n",
      "                 'type': 'image',\n",
      "                 'url': 'images/2022/04/30/multimedia/30ukraine-blog-bucha-men-killed/30ukraine-blog-bucha-men-killed-articleLarge.jpg',\n",
      "                 'width': 600},\n",
      "                {'caption': None,\n",
      "                 'credit': None,\n",
      "                 'crop_name': 'jumbo',\n",
      "                 'height': 683,\n",
      "                 'legacy': {},\n",
      "                 'rank': 0,\n",
      "                 'subType': 'jumbo',\n",
      "                 'subtype': 'jumbo',\n",
      "                 'type': 'image',\n",
      "                 'url': 'images/2022/04/30/multimedia/30ukraine-blog-bucha-men-killed/30ukraine-blog-bucha-men-killed-jumbo.jpg',\n",
      "                 'width': 1024},\n",
      "                {'caption': None,\n",
      "                 'credit': None,\n",
      "                 'crop_name': 'superJumbo',\n",
      "                 'height': 1365,\n",
      "                 'legacy': {},\n",
      "                 'rank': 0,\n",
      "                 'subType': 'superJumbo',\n",
      "                 'subtype': 'superJumbo',\n",
      "                 'type': 'image',\n",
      "                 'url': 'images/2022/04/30/multimedia/30ukraine-blog-bucha-men-killed/30ukraine-blog-bucha-men-killed-superJumbo.jpg',\n",
      "                 'width': 2048},\n",
      "                {'caption': None,\n",
      "                 'credit': None,\n",
      "                 'crop_name': 'thumbStandard',\n",
      "                 'height': 75,\n",
      "                 'legacy': {'thumbnail': 'images/2022/04/30/multimedia/30ukraine-blog-bucha-men-killed/30ukraine-blog-bucha-men-killed-thumbStandard.jpg',\n",
      "                            'thumbnailheight': 75,\n",
      "                            'thumbnailwidth': 75},\n",
      "                 'rank': 0,\n",
      "                 'subType': 'thumbnail',\n",
      "                 'subtype': 'thumbnail',\n",
      "                 'type': 'image',\n",
      "                 'url': 'images/2022/04/30/multimedia/30ukraine-blog-bucha-men-killed/30ukraine-blog-bucha-men-killed-thumbStandard.jpg',\n",
      "                 'width': 75},\n",
      "                {'caption': None,\n",
      "                 'credit': None,\n",
      "                 'crop_name': 'thumbLarge',\n",
      "                 'height': 150,\n",
      "                 'legacy': {},\n",
      "                 'rank': 0,\n",
      "                 'subType': 'thumbLarge',\n",
      "                 'subtype': 'thumbLarge',\n",
      "                 'type': 'image',\n",
      "                 'url': 'images/2022/04/30/multimedia/30ukraine-blog-bucha-men-killed/30ukraine-blog-bucha-men-killed-thumbLarge.jpg',\n",
      "                 'width': 150}],\n",
      " 'news_desk': 'Foreign',\n",
      " 'pub_date': '2022-05-01T00:10:42+0000',\n",
      " 'section_name': 'World',\n",
      " 'snippet': 'A police chief said that victims’ bodies were discovered in a '\n",
      "            'forest, and showed signs of mutilation.',\n",
      " 'source': 'The New York Times',\n",
      " 'type_of_material': 'News',\n",
      " 'uri': 'nyt://article/465764cc-8719-5012-bbd2-1d122689e24a',\n",
      " 'web_url': 'https://www.nytimes.com/2022/05/01/world/three-men-dead-bucha-ukraine-war.html',\n",
      " 'word_count': 286}\n"
     ]
    }
   ],
   "source": [
    "pprint(data_archive['response']['docs'][0])"
   ]
  },
  {
   "cell_type": "code",
   "execution_count": 29,
   "metadata": {},
   "outputs": [],
   "source": [
    "# Create date range\n",
    "end = datetime.date.today()\n",
    "start = end - relativedelta(years=1)\n",
    "\n",
    "months_in_range = [x.split(' ') for x in pd.date_range(start, end, freq='MS').strftime(\"%Y %-m\").tolist()]"
   ]
  },
  {
   "cell_type": "code",
   "execution_count": 30,
   "metadata": {},
   "outputs": [
    {
     "data": {
      "text/plain": [
       "[['2021', '10'],\n",
       " ['2021', '11'],\n",
       " ['2021', '12'],\n",
       " ['2022', '1'],\n",
       " ['2022', '2'],\n",
       " ['2022', '3'],\n",
       " ['2022', '4'],\n",
       " ['2022', '5'],\n",
       " ['2022', '6'],\n",
       " ['2022', '7'],\n",
       " ['2022', '8'],\n",
       " ['2022', '9']]"
      ]
     },
     "execution_count": 30,
     "metadata": {},
     "output_type": "execute_result"
    }
   ],
   "source": [
    "months_in_range"
   ]
  },
  {
   "cell_type": "code",
   "execution_count": 41,
   "metadata": {},
   "outputs": [],
   "source": [
    "\n",
    "def send_request(date):\n",
    "    response = requests.get(BASE_URL + f\"archive/v1/{date[0]}/{date[1]}.json?api-key={API_KEY}\").json()\n",
    "    time.sleep(6)\n",
    "    return response\n",
    "\n",
    "def is_valid(article, date):\n",
    "    is_in_range = date > start and date < end\n",
    "    has_headline = type(article['headline']) == dict and 'main' in article['headline'].keys()\n",
    "    return is_in_range and has_headline\n",
    "\n",
    "def parse_response(response):\n",
    "    data = {\n",
    "        'headline': [],\n",
    "        'date': [],\n",
    "        'doc_type': [],\n",
    "        'material_type': [],\n",
    "        'section': [],\n",
    "        'keywords': [],\n",
    "        'word_count': []\n",
    "    }\n",
    "\n",
    "    articles = response['response']['docs']\n",
    "    for article in articles:\n",
    "        date = dateutil.parser.parse(article['pub_date']).date()\n",
    "        if is_valid(article, date):\n",
    "            data['date'].append(date)\n",
    "            data['headline'].append(article['headline']['main'])\n",
    "            data['section'].append(article['section_name'])\n",
    "            \n",
    "            data['doc_type'].append(article['document_type'])\n",
    "            if 'type_of_material' in article:\n",
    "                data['material_type'].append(article['type_of_material'])\n",
    "            else:\n",
    "                data['material_type'].append(None)\n",
    "            keywords = [keyword['value'] for keyword in article['keywords'] if keyword['name'] == 'subject']\n",
    "            data['keywords'].append(keywords)\n",
    "            data['word_count'].append(article['word_count'])\n",
    "    return pd.DataFrame(data)\n",
    "\n",
    "def get_data(dates):\n",
    "    total = 0\n",
    "    print(f\"Date range: {str(dates[0])} to {str(dates[-1])}\")\n",
    "    if not os.path.exists('../data/raw/headlines'):\n",
    "        os.mkdir('../data/raw/headlines')\n",
    "    for date in dates:\n",
    "        response = send_request(date)\n",
    "        df = parse_response(response)\n",
    "        total += len(df)\n",
    "        df.to_csv(f\"../data/raw/headlines/{date[0]}-{date[1]}.csv\", index=False)\n",
    "        print(f\"Saving headlines/headlines/{date[0]}-{date[1]}.csv\")\n",
    "    print('Number of articles collected: ', total)"
   ]
  },
  {
   "cell_type": "code",
   "execution_count": 42,
   "metadata": {},
   "outputs": [
    {
     "name": "stdout",
     "output_type": "stream",
     "text": [
      "Date range: ['2021', '10'] to ['2022', '9']\n",
      "Saving headlines/headlines/2021-10.csv\n",
      "Saving headlines/headlines/2021-11.csv\n",
      "Saving headlines/headlines/2021-12.csv\n",
      "Saving headlines/headlines/2022-1.csv\n",
      "Saving headlines/headlines/2022-2.csv\n",
      "Saving headlines/headlines/2022-3.csv\n",
      "Saving headlines/headlines/2022-4.csv\n",
      "Saving headlines/headlines/2022-5.csv\n",
      "Saving headlines/headlines/2022-6.csv\n",
      "Saving headlines/headlines/2022-7.csv\n",
      "Saving headlines/headlines/2022-8.csv\n",
      "Saving headlines/headlines/2022-9.csv\n",
      "Number of articles collected:  48126\n"
     ]
    }
   ],
   "source": [
    "get_data(months_in_range)"
   ]
  },
  {
   "cell_type": "code",
   "execution_count": 43,
   "metadata": {},
   "outputs": [],
   "source": [
    "import glob\n",
    "\n",
    "files = glob.glob('../data/raw/headlines/*.csv')"
   ]
  },
  {
   "cell_type": "code",
   "execution_count": 44,
   "metadata": {},
   "outputs": [
    {
     "data": {
      "text/plain": [
       "['../data/raw/headlines/2022-7.csv',\n",
       " '../data/raw/headlines/2022-6.csv',\n",
       " '../data/raw/headlines/2022-4.csv',\n",
       " '../data/raw/headlines/2022-5.csv',\n",
       " '../data/raw/headlines/2022-1.csv',\n",
       " '../data/raw/headlines/2022-2.csv',\n",
       " '../data/raw/headlines/2022-3.csv',\n",
       " '../data/raw/headlines/2021-12.csv',\n",
       " '../data/raw/headlines/2021-11.csv',\n",
       " '../data/raw/headlines/2021-10.csv',\n",
       " '../data/raw/headlines/2022-8.csv',\n",
       " '../data/raw/headlines/2022-9.csv']"
      ]
     },
     "execution_count": 44,
     "metadata": {},
     "output_type": "execute_result"
    }
   ],
   "source": [
    "files"
   ]
  },
  {
   "cell_type": "code",
   "execution_count": 45,
   "metadata": {},
   "outputs": [],
   "source": [
    "nyt_df = pd.DataFrame()\n",
    "for f in files:\n",
    "    csv = pd.read_csv(f)\n",
    "    nyt_df = nyt_df.append(csv)"
   ]
  },
  {
   "cell_type": "code",
   "execution_count": 46,
   "metadata": {},
   "outputs": [
    {
     "data": {
      "text/html": [
       "<div>\n",
       "<style scoped>\n",
       "    .dataframe tbody tr th:only-of-type {\n",
       "        vertical-align: middle;\n",
       "    }\n",
       "\n",
       "    .dataframe tbody tr th {\n",
       "        vertical-align: top;\n",
       "    }\n",
       "\n",
       "    .dataframe thead th {\n",
       "        text-align: right;\n",
       "    }\n",
       "</style>\n",
       "<table border=\"1\" class=\"dataframe\">\n",
       "  <thead>\n",
       "    <tr style=\"text-align: right;\">\n",
       "      <th></th>\n",
       "      <th>headline</th>\n",
       "      <th>date</th>\n",
       "      <th>doc_type</th>\n",
       "      <th>material_type</th>\n",
       "      <th>section</th>\n",
       "      <th>keywords</th>\n",
       "      <th>word_count</th>\n",
       "    </tr>\n",
       "  </thead>\n",
       "  <tbody>\n",
       "    <tr>\n",
       "      <th>0</th>\n",
       "      <td>How to Dispute Surprise Medical Bills</td>\n",
       "      <td>2022-07-01</td>\n",
       "      <td>article</td>\n",
       "      <td>News</td>\n",
       "      <td>Well</td>\n",
       "      <td>['Content Type: Service', 'Emergency Medical T...</td>\n",
       "      <td>1620</td>\n",
       "    </tr>\n",
       "    <tr>\n",
       "      <th>1</th>\n",
       "      <td>One Dead and 22 Have Been Hospitalized in List...</td>\n",
       "      <td>2022-07-01</td>\n",
       "      <td>article</td>\n",
       "      <td>News</td>\n",
       "      <td>Science</td>\n",
       "      <td>['Food Contamination and Poisoning', 'Listerio...</td>\n",
       "      <td>366</td>\n",
       "    </tr>\n",
       "    <tr>\n",
       "      <th>2</th>\n",
       "      <td>California Wildfire Burns More Than 900 Acres ...</td>\n",
       "      <td>2022-07-01</td>\n",
       "      <td>article</td>\n",
       "      <td>News</td>\n",
       "      <td>U.S.</td>\n",
       "      <td>['Wildfires', 'Fires and Firefighters', 'Evacu...</td>\n",
       "      <td>525</td>\n",
       "    </tr>\n",
       "    <tr>\n",
       "      <th>3</th>\n",
       "      <td>Columbia Won’t Participate in the Next U.S. Ne...</td>\n",
       "      <td>2022-07-01</td>\n",
       "      <td>article</td>\n",
       "      <td>News</td>\n",
       "      <td>U.S.</td>\n",
       "      <td>['Colleges and Universities', 'Falsification o...</td>\n",
       "      <td>780</td>\n",
       "    </tr>\n",
       "    <tr>\n",
       "      <th>4</th>\n",
       "      <td>Nine People Are Injured in Newark Shooting, Of...</td>\n",
       "      <td>2022-07-01</td>\n",
       "      <td>article</td>\n",
       "      <td>News</td>\n",
       "      <td>New York</td>\n",
       "      <td>['Mass Shootings']</td>\n",
       "      <td>214</td>\n",
       "    </tr>\n",
       "    <tr>\n",
       "      <th>...</th>\n",
       "      <td>...</td>\n",
       "      <td>...</td>\n",
       "      <td>...</td>\n",
       "      <td>...</td>\n",
       "      <td>...</td>\n",
       "      <td>...</td>\n",
       "      <td>...</td>\n",
       "    </tr>\n",
       "    <tr>\n",
       "      <th>3455</th>\n",
       "      <td>Trump White House Called Capitol Rioter on Jan...</td>\n",
       "      <td>2022-09-26</td>\n",
       "      <td>article</td>\n",
       "      <td>News</td>\n",
       "      <td>U.S.</td>\n",
       "      <td>['United States Politics and Government', 'Sto...</td>\n",
       "      <td>723</td>\n",
       "    </tr>\n",
       "    <tr>\n",
       "      <th>3456</th>\n",
       "      <td>Trump’s Heartless QAnon Embrace</td>\n",
       "      <td>2022-09-26</td>\n",
       "      <td>article</td>\n",
       "      <td>Op-Ed</td>\n",
       "      <td>Opinion</td>\n",
       "      <td>['Right-Wing Extremism and Alt-Right', 'QAnon'...</td>\n",
       "      <td>891</td>\n",
       "    </tr>\n",
       "    <tr>\n",
       "      <th>3457</th>\n",
       "      <td>NASA Smashes Into an Asteroid, Completing a Mi...</td>\n",
       "      <td>2022-09-26</td>\n",
       "      <td>article</td>\n",
       "      <td>News</td>\n",
       "      <td>Science</td>\n",
       "      <td>['Asteroids', 'Rocket Science and Propulsion',...</td>\n",
       "      <td>1298</td>\n",
       "    </tr>\n",
       "    <tr>\n",
       "      <th>3458</th>\n",
       "      <td>Hurricane Ian’s Uncertain Path Keeps Much of F...</td>\n",
       "      <td>2022-09-26</td>\n",
       "      <td>article</td>\n",
       "      <td>News</td>\n",
       "      <td>U.S.</td>\n",
       "      <td>['Hurricane Ian (2022)', 'Hurricanes and Tropi...</td>\n",
       "      <td>1051</td>\n",
       "    </tr>\n",
       "    <tr>\n",
       "      <th>3459</th>\n",
       "      <td>Biden’s Support for Iran Protesters Comes Afte...</td>\n",
       "      <td>2022-09-26</td>\n",
       "      <td>article</td>\n",
       "      <td>News</td>\n",
       "      <td>U.S.</td>\n",
       "      <td>['United States International Relations', 'Emb...</td>\n",
       "      <td>1182</td>\n",
       "    </tr>\n",
       "  </tbody>\n",
       "</table>\n",
       "<p>48126 rows × 7 columns</p>\n",
       "</div>"
      ],
      "text/plain": [
       "                                               headline        date doc_type  \\\n",
       "0                 How to Dispute Surprise Medical Bills  2022-07-01  article   \n",
       "1     One Dead and 22 Have Been Hospitalized in List...  2022-07-01  article   \n",
       "2     California Wildfire Burns More Than 900 Acres ...  2022-07-01  article   \n",
       "3     Columbia Won’t Participate in the Next U.S. Ne...  2022-07-01  article   \n",
       "4     Nine People Are Injured in Newark Shooting, Of...  2022-07-01  article   \n",
       "...                                                 ...         ...      ...   \n",
       "3455  Trump White House Called Capitol Rioter on Jan...  2022-09-26  article   \n",
       "3456                    Trump’s Heartless QAnon Embrace  2022-09-26  article   \n",
       "3457  NASA Smashes Into an Asteroid, Completing a Mi...  2022-09-26  article   \n",
       "3458  Hurricane Ian’s Uncertain Path Keeps Much of F...  2022-09-26  article   \n",
       "3459  Biden’s Support for Iran Protesters Comes Afte...  2022-09-26  article   \n",
       "\n",
       "     material_type   section  \\\n",
       "0             News      Well   \n",
       "1             News   Science   \n",
       "2             News      U.S.   \n",
       "3             News      U.S.   \n",
       "4             News  New York   \n",
       "...            ...       ...   \n",
       "3455          News      U.S.   \n",
       "3456         Op-Ed   Opinion   \n",
       "3457          News   Science   \n",
       "3458          News      U.S.   \n",
       "3459          News      U.S.   \n",
       "\n",
       "                                               keywords  word_count  \n",
       "0     ['Content Type: Service', 'Emergency Medical T...        1620  \n",
       "1     ['Food Contamination and Poisoning', 'Listerio...         366  \n",
       "2     ['Wildfires', 'Fires and Firefighters', 'Evacu...         525  \n",
       "3     ['Colleges and Universities', 'Falsification o...         780  \n",
       "4                                    ['Mass Shootings']         214  \n",
       "...                                                 ...         ...  \n",
       "3455  ['United States Politics and Government', 'Sto...         723  \n",
       "3456  ['Right-Wing Extremism and Alt-Right', 'QAnon'...         891  \n",
       "3457  ['Asteroids', 'Rocket Science and Propulsion',...        1298  \n",
       "3458  ['Hurricane Ian (2022)', 'Hurricanes and Tropi...        1051  \n",
       "3459  ['United States International Relations', 'Emb...        1182  \n",
       "\n",
       "[48126 rows x 7 columns]"
      ]
     },
     "execution_count": 46,
     "metadata": {},
     "output_type": "execute_result"
    }
   ],
   "source": [
    "nyt_df"
   ]
  },
  {
   "cell_type": "code",
   "execution_count": 48,
   "metadata": {},
   "outputs": [
    {
     "data": {
      "text/plain": [
       "News                   34764\n",
       "Op-Ed                   3141\n",
       "Review                  2390\n",
       "Interactive Feature     1731\n",
       "briefing                1524\n",
       "Obituary (Obit)         1126\n",
       "Video                    710\n",
       "Letter                   609\n",
       "Slideshow                430\n",
       "Quote                    287\n",
       "Correction               212\n",
       "Editorial                 92\n",
       "List                      91\n",
       "News Analysis             63\n",
       "An Appraisal               1\n",
       "Editors' Note              1\n",
       "Biography                  1\n",
       "Name: material_type, dtype: int64"
      ]
     },
     "execution_count": 48,
     "metadata": {},
     "output_type": "execute_result"
    }
   ],
   "source": [
    "nyt_df['material_type'].value_counts()"
   ]
  },
  {
   "cell_type": "code",
   "execution_count": 50,
   "metadata": {},
   "outputs": [
    {
     "data": {
      "text/plain": [
       "article       44302\n",
       "multimedia     3815\n",
       "audio             9\n",
       "Name: doc_type, dtype: int64"
      ]
     },
     "execution_count": 50,
     "metadata": {},
     "output_type": "execute_result"
    }
   ],
   "source": [
    "nyt_df['doc_type'].value_counts()"
   ]
  },
  {
   "cell_type": "code",
   "execution_count": 51,
   "metadata": {},
   "outputs": [
    {
     "data": {
      "text/html": [
       "<div>\n",
       "<style scoped>\n",
       "    .dataframe tbody tr th:only-of-type {\n",
       "        vertical-align: middle;\n",
       "    }\n",
       "\n",
       "    .dataframe tbody tr th {\n",
       "        vertical-align: top;\n",
       "    }\n",
       "\n",
       "    .dataframe thead th {\n",
       "        text-align: right;\n",
       "    }\n",
       "</style>\n",
       "<table border=\"1\" class=\"dataframe\">\n",
       "  <thead>\n",
       "    <tr style=\"text-align: right;\">\n",
       "      <th></th>\n",
       "      <th>word_count</th>\n",
       "    </tr>\n",
       "  </thead>\n",
       "  <tbody>\n",
       "    <tr>\n",
       "      <th>count</th>\n",
       "      <td>44302.000000</td>\n",
       "    </tr>\n",
       "    <tr>\n",
       "      <th>mean</th>\n",
       "      <td>1023.895806</td>\n",
       "    </tr>\n",
       "    <tr>\n",
       "      <th>std</th>\n",
       "      <td>816.650391</td>\n",
       "    </tr>\n",
       "    <tr>\n",
       "      <th>min</th>\n",
       "      <td>0.000000</td>\n",
       "    </tr>\n",
       "    <tr>\n",
       "      <th>25%</th>\n",
       "      <td>558.000000</td>\n",
       "    </tr>\n",
       "    <tr>\n",
       "      <th>50%</th>\n",
       "      <td>973.000000</td>\n",
       "    </tr>\n",
       "    <tr>\n",
       "      <th>75%</th>\n",
       "      <td>1316.000000</td>\n",
       "    </tr>\n",
       "    <tr>\n",
       "      <th>max</th>\n",
       "      <td>20573.000000</td>\n",
       "    </tr>\n",
       "  </tbody>\n",
       "</table>\n",
       "</div>"
      ],
      "text/plain": [
       "         word_count\n",
       "count  44302.000000\n",
       "mean    1023.895806\n",
       "std      816.650391\n",
       "min        0.000000\n",
       "25%      558.000000\n",
       "50%      973.000000\n",
       "75%     1316.000000\n",
       "max    20573.000000"
      ]
     },
     "execution_count": 51,
     "metadata": {},
     "output_type": "execute_result"
    }
   ],
   "source": [
    "nyt_df[nyt_df['doc_type'] == 'article'].describe()"
   ]
  }
 ],
 "metadata": {
  "kernelspec": {
   "display_name": "Python 3.9.13 ('b-thesis')",
   "language": "python",
   "name": "python3"
  },
  "language_info": {
   "codemirror_mode": {
    "name": "ipython",
    "version": 3
   },
   "file_extension": ".py",
   "mimetype": "text/x-python",
   "name": "python",
   "nbconvert_exporter": "python",
   "pygments_lexer": "ipython3",
   "version": "3.9.13"
  },
  "orig_nbformat": 4,
  "vscode": {
   "interpreter": {
    "hash": "6cc34f913a7f1ca55160808e1759ac312dd0ad5ecfa942c36b2d3d154b205193"
   }
  }
 },
 "nbformat": 4,
 "nbformat_minor": 2
}
